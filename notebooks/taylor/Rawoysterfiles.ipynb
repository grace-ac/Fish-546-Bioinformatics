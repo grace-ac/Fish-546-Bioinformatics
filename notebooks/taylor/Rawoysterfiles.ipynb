{
 "cells": [
  {
   "cell_type": "code",
   "execution_count": 2,
   "metadata": {
    "collapsed": false
   },
   "outputs": [
    {
     "data": {
      "text/plain": [
       "'C:\\\\Users\\\\rhondae\\\\Documents'"
      ]
     },
     "execution_count": 2,
     "metadata": {},
     "output_type": "execute_result"
    }
   ],
   "source": [
    "pwd"
   ]
  },
  {
   "cell_type": "code",
   "execution_count": 4,
   "metadata": {
    "collapsed": false
   },
   "outputs": [
    {
     "name": "stdout",
     "output_type": "stream",
     "text": [
      "C:\\Users\\rhondae\\Documents\\background.proteome.oyster\n"
     ]
    }
   ],
   "source": [
    "cd C:\\Users\\rhondae\\Documents\\background.proteome.oyster\\"
   ]
  },
  {
   "cell_type": "code",
   "execution_count": 5,
   "metadata": {
    "collapsed": false
   },
   "outputs": [
    {
     "name": "stdout",
     "output_type": "stream",
     "text": [
      " Volume in drive C is TI106401W0D\n",
      " Volume Serial Number is D00E-CD8F\n",
      "\n",
      " Directory of C:\\Users\\rhondae\\Documents\\background.proteome.oyster\n",
      "\n",
      "10/07/2016  10:24 AM    <DIR>          .\n",
      "10/07/2016  10:24 AM    <DIR>          ..\n",
      "10/07/2016  10:15 AM       159,407,104 backgroundproteome.protdb\n",
      "05/29/2015  10:30 AM        12,700,584 oyster_v9_aa_format1.fasta\n",
      "10/07/2016  10:26 AM    <DIR>          raw\n",
      "               2 File(s)    172,107,688 bytes\n",
      "               3 Dir(s)  452,209,889,280 bytes free\n"
     ]
    }
   ],
   "source": [
    "ls"
   ]
  },
  {
   "cell_type": "code",
   "execution_count": 6,
   "metadata": {
    "collapsed": false
   },
   "outputs": [
    {
     "name": "stdout",
     "output_type": "stream",
     "text": [
      "C:\\Users\\rhondae\\Documents\\background.proteome.oyster\\raw\n"
     ]
    }
   ],
   "source": [
    "cd C:\\Users\\rhondae\\Documents\\background.proteome.oyster\\raw\\"
   ]
  },
  {
   "cell_type": "code",
   "execution_count": 8,
   "metadata": {
    "collapsed": false
   },
   "outputs": [
    {
     "name": "stdout",
     "output_type": "stream",
     "text": [
      " Volume in drive C is TI106401W0D\n",
      " Volume Serial Number is D00E-CD8F\n",
      "\n",
      " Directory of C:\\Users\\rhondae\\Documents\\background.proteome.oyster\\raw\n",
      "\n",
      "10/07/2016  12:05 PM    <DIR>          .\n",
      "10/07/2016  12:05 PM    <DIR>          ..\n",
      "10/07/2016  10:25 AM    <DIR>          Oyster1\n",
      "10/07/2016  10:26 AM    <DIR>          Oyster13\n",
      "10/07/2016  10:26 AM    <DIR>          Oyster14\n",
      "10/07/2016  10:26 AM    <DIR>          Oyster2\n",
      "               0 File(s)              0 bytes\n",
      "               6 Dir(s)  452,209,381,376 bytes free\n"
     ]
    }
   ],
   "source": [
    "ls"
   ]
  },
  {
   "cell_type": "code",
   "execution_count": 9,
   "metadata": {
    "collapsed": false
   },
   "outputs": [
    {
     "name": "stdout",
     "output_type": "stream",
     "text": [
      "C:\\Users\\rhondae\\Documents\\background.proteome.oyster\\raw\\oyster1\n"
     ]
    }
   ],
   "source": [
    "cd oyster1"
   ]
  },
  {
   "cell_type": "code",
   "execution_count": 10,
   "metadata": {
    "collapsed": false
   },
   "outputs": [
    {
     "name": "stdout",
     "output_type": "stream",
     "text": [
      " Volume in drive C is TI106401W0D\n",
      " Volume Serial Number is D00E-CD8F\n",
      "\n",
      " Directory of C:\\Users\\rhondae\\Documents\\background.proteome.oyster\\raw\\oyster1\n",
      "\n",
      "10/07/2016  10:25 AM    <DIR>          .\n",
      "10/07/2016  10:25 AM    <DIR>          ..\n",
      "01/02/2016  07:30 PM     1,054,315,162 2015_December_30_DIA_oysterseed1.raw\n",
      "01/02/2016  11:53 PM       720,766,592 2015_December_30_DIA_oysterseed3.raw\n",
      "01/03/2016  02:05 AM       611,927,890 2015_December_30_DIA_oysterseed4.raw\n",
      "02/04/2016  01:35 AM       897,549,236 2016_Feb_01_DIA_oyster5.raw\n",
      "               4 File(s)  3,284,558,880 bytes\n",
      "               2 Dir(s)  452,209,278,976 bytes free\n"
     ]
    }
   ],
   "source": [
    "ls"
   ]
  },
  {
   "cell_type": "code",
   "execution_count": 17,
   "metadata": {
    "collapsed": false
   },
   "outputs": [
    {
     "name": "stdout",
     "output_type": "stream",
     "text": [
      "C:\\Users\\rhondae\\Documents\\background.proteome.oyster\\raw\\oyster2\n"
     ]
    }
   ],
   "source": [
    "cd C:\\Users\\rhondae\\Documents\\background.proteome.oyster\\raw\\oyster2"
   ]
  },
  {
   "cell_type": "code",
   "execution_count": 18,
   "metadata": {
    "collapsed": false
   },
   "outputs": [
    {
     "name": "stdout",
     "output_type": "stream",
     "text": [
      " Volume in drive C is TI106401W0D\n",
      " Volume Serial Number is D00E-CD8F\n",
      "\n",
      " Directory of C:\\Users\\rhondae\\Documents\\background.proteome.oyster\\raw\\oyster2\n",
      "\n",
      "10/07/2016  10:26 AM    <DIR>          .\n",
      "10/07/2016  10:26 AM    <DIR>          ..\n",
      "01/03/2016  06:07 AM     1,090,186,810 2015_December_30_DIA_oysterseed5.raw\n",
      "01/03/2016  10:30 AM       873,135,448 2015_December_30_DIA_oysterseed7.raw\n",
      "01/03/2016  12:41 PM       715,360,574 2015_December_30_DIA_oysterseed8.raw\n",
      "02/04/2016  03:46 AM       957,049,902 2016_Feb_01_DIA_oyster6.raw\n",
      "               4 File(s)  3,635,732,734 bytes\n",
      "               2 Dir(s)  452,209,057,792 bytes free\n"
     ]
    }
   ],
   "source": [
    "ls"
   ]
  },
  {
   "cell_type": "code",
   "execution_count": 19,
   "metadata": {
    "collapsed": false
   },
   "outputs": [
    {
     "name": "stdout",
     "output_type": "stream",
     "text": [
      "C:\\Users\\rhondae\\Documents\\background.proteome.oyster\\raw\\oyster13\n"
     ]
    }
   ],
   "source": [
    "cd C:\\Users\\rhondae\\Documents\\background.proteome.oyster\\raw\\oyster13"
   ]
  },
  {
   "cell_type": "code",
   "execution_count": 20,
   "metadata": {
    "collapsed": false
   },
   "outputs": [
    {
     "name": "stdout",
     "output_type": "stream",
     "text": [
      " Volume in drive C is TI106401W0D\n",
      " Volume Serial Number is D00E-CD8F\n",
      "\n",
      " Directory of C:\\Users\\rhondae\\Documents\\background.proteome.oyster\\raw\\oyster13\n",
      "\n",
      "10/07/2016  10:26 AM    <DIR>          .\n",
      "10/07/2016  10:26 AM    <DIR>          ..\n",
      "01/03/2016  09:11 PM       771,655,700 2015_December_30_DIA_oysterseed11.raw\n",
      "01/03/2016  11:22 PM       623,164,560 2015_December_30_DIA_oysterseed12.raw\n",
      "01/03/2016  04:48 PM     1,039,521,490 2015_December_30_DIA_oysterseed9.raw\n",
      "02/04/2016  05:58 AM       919,757,868 2016_Feb_01_DIA_oyster7.raw\n",
      "               4 File(s)  3,354,099,618 bytes\n",
      "               2 Dir(s)  452,209,057,792 bytes free\n"
     ]
    }
   ],
   "source": [
    "ls"
   ]
  },
  {
   "cell_type": "code",
   "execution_count": 21,
   "metadata": {
    "collapsed": false
   },
   "outputs": [
    {
     "name": "stdout",
     "output_type": "stream",
     "text": [
      "C:\\Users\\rhondae\\Documents\\background.proteome.oyster\\raw\\oyster14\n"
     ]
    }
   ],
   "source": [
    "cd C:\\Users\\rhondae\\Documents\\background.proteome.oyster\\raw\\oyster14"
   ]
  },
  {
   "cell_type": "code",
   "execution_count": 22,
   "metadata": {
    "collapsed": false
   },
   "outputs": [
    {
     "name": "stdout",
     "output_type": "stream",
     "text": [
      " Volume in drive C is TI106401W0D\n",
      " Volume Serial Number is D00E-CD8F\n",
      "\n",
      " Directory of C:\\Users\\rhondae\\Documents\\background.proteome.oyster\\raw\\oyster14\n",
      "\n",
      "10/07/2016  10:26 AM    <DIR>          .\n",
      "10/07/2016  10:26 AM    <DIR>          ..\n",
      "01/04/2016  03:20 AM     1,036,103,724 2015_December_30_DIA_oysterseed13.raw\n",
      "01/04/2016  07:43 AM       836,317,956 2015_December_30_oysterseed15.raw\n",
      "01/04/2016  09:55 AM       704,597,294 2015_December_30_oysterseed16.raw\n",
      "02/04/2016  08:09 AM       976,744,212 2016_Feb_01_DIA_oyster8.raw\n",
      "               4 File(s)  3,553,763,186 bytes\n",
      "               2 Dir(s)  452,208,812,032 bytes free\n"
     ]
    }
   ],
   "source": [
    "ls"
   ]
  }
 ],
 "metadata": {
  "anaconda-cloud": {},
  "kernelspec": {
   "display_name": "Python [default]",
   "language": "python",
   "name": "python3"
  },
  "language_info": {
   "codemirror_mode": {
    "name": "ipython",
    "version": 3
   },
   "file_extension": ".py",
   "mimetype": "text/x-python",
   "name": "python",
   "nbconvert_exporter": "python",
   "pygments_lexer": "ipython3",
   "version": "3.5.2"
  }
 },
 "nbformat": 4,
 "nbformat_minor": 1
}
