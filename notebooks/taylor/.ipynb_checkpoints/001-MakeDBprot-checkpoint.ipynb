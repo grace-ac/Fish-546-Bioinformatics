{
 "cells": [
  {
   "cell_type": "code",
   "execution_count": 1,
   "metadata": {
    "collapsed": false
   },
   "outputs": [
    {
     "name": "stdout",
     "output_type": "stream",
     "text": [
      "C:\\Users\\rhondae\\Documents\\Github\\Fish-546-Bioinformatics\\analyses\\taylor\n"
     ]
    }
   ],
   "source": [
    "cd C:/Users/rhondae/Documents/Github/Fish-546-Bioinformatics/analyses/taylor/"
   ]
  },
  {
   "cell_type": "code",
   "execution_count": 2,
   "metadata": {
    "collapsed": false
   },
   "outputs": [
    {
     "name": "stdout",
     "output_type": "stream",
     "text": [
      "CGI_10013882\tLENAPQTEAITGANEVK\t#N/A\ty5\tOyster 14\t35.38\n",
      "CGI_10013882\tLENAPQTEAITGANEVK\t#N/A\ty5\tOyster 2\t35.38\n",
      "CGI_10013882\tLENAPQTEAITGANEVK\t#N/A\ty4\tOyster 1\t35.38\n",
      "CGI_10013882\tLENAPQTEAITGANEVK\t4986\ty4\tOyster 13\t35.38\n",
      "CGI_10013882\tLENAPQTEAITGANEVK\t13197\ty4\tOyster 14\t35.38\n",
      "CGI_10013882\tLENAPQTEAITGANEVK\t#N/A\ty4\tOyster 2\t35.38\n",
      "CGI_10013882\tLENAPQTEAITGANEVK\t#N/A\ty3\tOyster 1\t35.38\n",
      "CGI_10013882\tLENAPQTEAITGANEVK\t#N/A\ty3\tOyster 13\t35.38\n",
      "CGI_10013882\tLENAPQTEAITGANEVK\t4767\ty3\tOyster 14\t35.38\n",
      "CGI_10013882\tLENAPQTEAITGANEVK\t#N/A\ty3\tOyster 2\t35.38\n"
     ]
    }
   ],
   "source": [
    "!tail proteomeoutput.tab"
   ]
  },
  {
   "cell_type": "code",
   "execution_count": 2,
   "metadata": {
    "collapsed": false
   },
   "outputs": [
    {
     "name": "stdout",
     "output_type": "stream",
     "text": [
      "Protein Name\tPeptide Sequence\tArea\tFragment Ion\tReplicate Name\tAverage Measured Retention Time\n",
      "CGI_10000994\tVVDVAIGGDQGGSIR\t12374432\tprecursor\tOyster 1\t37.48\n",
      "CGI_10000994\tVVDVAIGGDQGGSIR\t10898772\tprecursor\tOyster 13\t37.48\n",
      "CGI_10000994\tVVDVAIGGDQGGSIR\t#N/A\tprecursor\tOyster 14\t37.48\n",
      "CGI_10000994\tVVDVAIGGDQGGSIR\t#N/A\tprecursor\tOyster 2\t37.48\n",
      "CGI_10000994\tVVDVAIGGDQGGSIR\t#N/A\tprecursor [M+1]\tOyster 1\t37.48\n",
      "CGI_10000994\tVVDVAIGGDQGGSIR\t#N/A\tprecursor [M+1]\tOyster 13\t37.48\n",
      "CGI_10000994\tVVDVAIGGDQGGSIR\t#N/A\tprecursor [M+1]\tOyster 14\t37.48\n",
      "CGI_10000994\tVVDVAIGGDQGGSIR\t#N/A\tprecursor [M+1]\tOyster 2\t37.48\n",
      "CGI_10000994\tVVDVAIGGDQGGSIR\t#N/A\tprecursor [M+2]\tOyster 1\t37.48\n"
     ]
    }
   ],
   "source": [
    "!head proteomeoutput.tab"
   ]
  },
  {
   "cell_type": "markdown",
   "metadata": {},
   "source": [
    "Downloaded uniprot-cgi.tab database from http://www.uniprot.org/uniprot/?query=cgi&sort=score with cgi codes"
   ]
  },
  {
   "cell_type": "markdown",
   "metadata": {},
   "source": [
    "In Galaxy:\n",
    "\n",
    "1) Uploaded proteomeoutput [Galaxy47.png](https://github.com/Ellior2/Fish-546-Bioinformatics/blob/master/data/taylor/Galaxy47.PNG)\n",
    "\n",
    "2) Uploaded uniprot-cgi.tab [Galaxy55.png](https://github.com/Ellior2/Fish-546-Bioinformatics/blob/master/data/taylor/Galaxy55.PNG)\n",
    "\n",
    "3) Joined tables [Galaxy56.png](https://github.com/Ellior2/Fish-546-Bioinformatics/blob/master/data/taylor/Galaxy56.PNG)\n"
   ]
  },
  {
   "cell_type": "code",
   "execution_count": 4,
   "metadata": {
    "collapsed": false
   },
   "outputs": [
    {
     "name": "stdout",
     "output_type": "stream",
     "text": [
      "Gene names\tEntry\tEntry name\tStatus\tProtein names\tOrganism\tLength\tPeptide Sequence\tArea\tFragment Ion\tReplicate Name\tAverage Measured Retention Time\n",
      "CGI_10000013\tK1P2A2\tK1P2A2_CRAGI\tunreviewed\tElongation factor Tu, mitochondrial\tCrassostrea gigas (Pacific oyster) (Crassostrea angulata)\t173\tAQIIGVEMYR\t#N/A\tprecursor\tOyster 1\t54.11\n",
      "CGI_10000013\tK1P2A2\tK1P2A2_CRAGI\tunreviewed\tElongation factor Tu, mitochondrial\tCrassostrea gigas (Pacific oyster) (Crassostrea angulata)\t173\tAQIIGVEMYR\t#N/A\tprecursor [M+2]\tOyster 13\t54.11\n",
      "CGI_10000013\tK1P2A2\tK1P2A2_CRAGI\tunreviewed\tElongation factor Tu, mitochondrial\tCrassostrea gigas (Pacific oyster) (Crassostrea angulata)\t173\tAQIIGVEMYR\t#N/A\tprecursor [M+2]\tOyster 14\t54.11\n",
      "CGI_10000013\tK1P2A2\tK1P2A2_CRAGI\tunreviewed\tElongation factor Tu, mitochondrial\tCrassostrea gigas (Pacific oyster) (Crassostrea angulata)\t173\tAQIIGVEMYR\t#N/A\tprecursor [M+2]\tOyster 2\t54.11\n",
      "CGI_10000013\tK1P2A2\tK1P2A2_CRAGI\tunreviewed\tElongation factor Tu, mitochondrial\tCrassostrea gigas (Pacific oyster) (Crassostrea angulata)\t173\tAQIIGVEMYR\t1096726\ty7\tOyster 14\t54.11\n",
      "CGI_10000013\tK1P2A2\tK1P2A2_CRAGI\tunreviewed\tElongation factor Tu, mitochondrial\tCrassostrea gigas (Pacific oyster) (Crassostrea angulata)\t173\tAQIIGVEMYR\t1124293\ty7\tOyster 2\t54.11\n",
      "CGI_10000013\tK1P2A2\tK1P2A2_CRAGI\tunreviewed\tElongation factor Tu, mitochondrial\tCrassostrea gigas (Pacific oyster) (Crassostrea angulata)\t173\tAQIIGVEMYR\t11599\ty5\tOyster 1\t54.11\n",
      "CGI_10000013\tK1P2A2\tK1P2A2_CRAGI\tunreviewed\tElongation factor Tu, mitochondrial\tCrassostrea gigas (Pacific oyster) (Crassostrea angulata)\t173\tAQIIGVEMYR\t121421\ty5\tOyster 2\t54.11\n",
      "CGI_10000013\tK1P2A2\tK1P2A2_CRAGI\tunreviewed\tElongation factor Tu, mitochondrial\tCrassostrea gigas (Pacific oyster) (Crassostrea angulata)\t173\tAQIIGVEMYR\t1225592\ty6\tOyster 14\t54.11\n"
     ]
    }
   ],
   "source": [
    "!head ../../data/taylor/Galaxy56-[Join_on_data_47_and_data_55].tabular"
   ]
  }
 ],
 "metadata": {
  "anaconda-cloud": {},
  "kernelspec": {
   "display_name": "Python [default]",
   "language": "python",
   "name": "python3"
  },
  "language_info": {
   "codemirror_mode": {
    "name": "ipython",
    "version": 3
   },
   "file_extension": ".py",
   "mimetype": "text/x-python",
   "name": "python",
   "nbconvert_exporter": "python",
   "pygments_lexer": "ipython3",
   "version": "3.5.2"
  }
 },
 "nbformat": 4,
 "nbformat_minor": 1
}
