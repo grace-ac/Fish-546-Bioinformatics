{
 "cells": [
  {
   "cell_type": "markdown",
   "metadata": {},
   "source": [
    "### In this notebook, I am using Galaxy to merge my output file from Skyline (proteomeoutput.tab) with a Uniprot database with CGI codes to identify the proteins present in my samples."
   ]
  },
  {
   "cell_type": "code",
   "execution_count": 1,
   "metadata": {
    "collapsed": false
   },
   "outputs": [
    {
     "name": "stdout",
     "output_type": "stream",
     "text": [
      "C:\\Users\\rhondae\\Documents\\Github\\Fish-546-Bioinformatics\\analyses\\taylor\n"
     ]
    }
   ],
   "source": [
    "cd C:/Users/rhondae/Documents/Github/Fish-546-Bioinformatics/analyses/taylor/"
   ]
  },
  {
   "cell_type": "code",
   "execution_count": 2,
   "metadata": {
    "collapsed": false
   },
   "outputs": [
    {
     "name": "stdout",
     "output_type": "stream",
     "text": [
      "CGI_10013882\tLENAPQTEAITGANEVK\t#N/A\ty5\tOyster 14\t35.38\n",
      "CGI_10013882\tLENAPQTEAITGANEVK\t#N/A\ty5\tOyster 2\t35.38\n",
      "CGI_10013882\tLENAPQTEAITGANEVK\t#N/A\ty4\tOyster 1\t35.38\n",
      "CGI_10013882\tLENAPQTEAITGANEVK\t4986\ty4\tOyster 13\t35.38\n",
      "CGI_10013882\tLENAPQTEAITGANEVK\t13197\ty4\tOyster 14\t35.38\n",
      "CGI_10013882\tLENAPQTEAITGANEVK\t#N/A\ty4\tOyster 2\t35.38\n",
      "CGI_10013882\tLENAPQTEAITGANEVK\t#N/A\ty3\tOyster 1\t35.38\n",
      "CGI_10013882\tLENAPQTEAITGANEVK\t#N/A\ty3\tOyster 13\t35.38\n",
      "CGI_10013882\tLENAPQTEAITGANEVK\t4767\ty3\tOyster 14\t35.38\n",
      "CGI_10013882\tLENAPQTEAITGANEVK\t#N/A\ty3\tOyster 2\t35.38\n"
     ]
    }
   ],
   "source": [
    "!tail proteomeoutput.tab"
   ]
  },
  {
   "cell_type": "code",
   "execution_count": 2,
   "metadata": {
    "collapsed": false
   },
   "outputs": [
    {
     "name": "stdout",
     "output_type": "stream",
     "text": [
      "Protein Name\tPeptide Sequence\tArea\tFragment Ion\tReplicate Name\tAverage Measured Retention Time\n",
      "CGI_10000994\tVVDVAIGGDQGGSIR\t12374432\tprecursor\tOyster 1\t37.48\n",
      "CGI_10000994\tVVDVAIGGDQGGSIR\t10898772\tprecursor\tOyster 13\t37.48\n",
      "CGI_10000994\tVVDVAIGGDQGGSIR\t#N/A\tprecursor\tOyster 14\t37.48\n",
      "CGI_10000994\tVVDVAIGGDQGGSIR\t#N/A\tprecursor\tOyster 2\t37.48\n",
      "CGI_10000994\tVVDVAIGGDQGGSIR\t#N/A\tprecursor [M+1]\tOyster 1\t37.48\n",
      "CGI_10000994\tVVDVAIGGDQGGSIR\t#N/A\tprecursor [M+1]\tOyster 13\t37.48\n",
      "CGI_10000994\tVVDVAIGGDQGGSIR\t#N/A\tprecursor [M+1]\tOyster 14\t37.48\n",
      "CGI_10000994\tVVDVAIGGDQGGSIR\t#N/A\tprecursor [M+1]\tOyster 2\t37.48\n",
      "CGI_10000994\tVVDVAIGGDQGGSIR\t#N/A\tprecursor [M+2]\tOyster 1\t37.48\n"
     ]
    }
   ],
   "source": [
    "!head proteomeoutput.tab"
   ]
  },
  {
   "cell_type": "markdown",
   "metadata": {},
   "source": [
    "### Downloaded uniprot-cgi.tab database from http://www.uniprot.org/uniprot/?query=cgi&sort=score with cgi codes"
   ]
  },
  {
   "cell_type": "markdown",
   "metadata": {},
   "source": [
    "In Galaxy:\n",
    "\n",
    "1) Uploaded proteomeoutput [Galaxy47.png](https://github.com/Ellior2/Fish-546-Bioinformatics/blob/master/data/taylor/Galaxy47.PNG)\n",
    "\n",
    "2) Uploaded uniprot-cgi.tab [Galaxy55.png](https://github.com/Ellior2/Fish-546-Bioinformatics/blob/master/data/taylor/Galaxy55.PNG)\n",
    "\n",
    "3) Joined tables [Galaxy56.png](https://github.com/Ellior2/Fish-546-Bioinformatics/blob/master/data/taylor/Galaxy56.PNG)\n"
   ]
  },
  {
   "cell_type": "code",
   "execution_count": 5,
   "metadata": {
    "collapsed": false
   },
   "outputs": [
    {
     "name": "stdout",
     "output_type": "stream",
     "text": [
      "Gene names\tEntry\tEntry name\tStatus\tProtein names\tOrganism\tLength\tPeptide Sequence\tArea\tFragment Ion\tReplicate Name\tAverage Measured Retention Time\n",
      "CGI_10000013\tK1P2A2\tK1P2A2_CRAGI\tunreviewed\tElongation factor Tu, mitochondrial\tCrassostrea gigas (Pacific oyster) (Crassostrea angulata)\t173\tAQIIGVEMYR\t#N/A\tprecursor\tOyster 1\t54.11\n",
      "CGI_10000013\tK1P2A2\tK1P2A2_CRAGI\tunreviewed\tElongation factor Tu, mitochondrial\tCrassostrea gigas (Pacific oyster) (Crassostrea angulata)\t173\tAQIIGVEMYR\t#N/A\tprecursor [M+2]\tOyster 13\t54.11\n",
      "CGI_10000013\tK1P2A2\tK1P2A2_CRAGI\tunreviewed\tElongation factor Tu, mitochondrial\tCrassostrea gigas (Pacific oyster) (Crassostrea angulata)\t173\tAQIIGVEMYR\t#N/A\tprecursor [M+2]\tOyster 14\t54.11\n",
      "CGI_10000013\tK1P2A2\tK1P2A2_CRAGI\tunreviewed\tElongation factor Tu, mitochondrial\tCrassostrea gigas (Pacific oyster) (Crassostrea angulata)\t173\tAQIIGVEMYR\t#N/A\tprecursor [M+2]\tOyster 2\t54.11\n",
      "CGI_10000013\tK1P2A2\tK1P2A2_CRAGI\tunreviewed\tElongation factor Tu, mitochondrial\tCrassostrea gigas (Pacific oyster) (Crassostrea angulata)\t173\tAQIIGVEMYR\t1096726\ty7\tOyster 14\t54.11\n",
      "CGI_10000013\tK1P2A2\tK1P2A2_CRAGI\tunreviewed\tElongation factor Tu, mitochondrial\tCrassostrea gigas (Pacific oyster) (Crassostrea angulata)\t173\tAQIIGVEMYR\t1124293\ty7\tOyster 2\t54.11\n",
      "CGI_10000013\tK1P2A2\tK1P2A2_CRAGI\tunreviewed\tElongation factor Tu, mitochondrial\tCrassostrea gigas (Pacific oyster) (Crassostrea angulata)\t173\tAQIIGVEMYR\t11599\ty5\tOyster 1\t54.11\n",
      "CGI_10000013\tK1P2A2\tK1P2A2_CRAGI\tunreviewed\tElongation factor Tu, mitochondrial\tCrassostrea gigas (Pacific oyster) (Crassostrea angulata)\t173\tAQIIGVEMYR\t121421\ty5\tOyster 2\t54.11\n",
      "CGI_10000013\tK1P2A2\tK1P2A2_CRAGI\tunreviewed\tElongation factor Tu, mitochondrial\tCrassostrea gigas (Pacific oyster) (Crassostrea angulata)\t173\tAQIIGVEMYR\t1225592\ty6\tOyster 14\t54.11\n"
     ]
    }
   ],
   "source": [
    "!head Galaxy56-[Join_on_data_47_and_data_55].tabular"
   ]
  },
  {
   "cell_type": "markdown",
   "metadata": {},
   "source": [
    "### Below is a list of all of the proteins I identified in _C. gigas_ sample numbers 1,2,13,14 from the MSMS data"
   ]
  },
  {
   "cell_type": "code",
   "execution_count": 7,
   "metadata": {
    "collapsed": false
   },
   "outputs": [
    {
     "name": "stdout",
     "output_type": "stream",
     "text": [
      "CGI_10000013\tK1P2A2\tK1P2A2_CRAGI\tunreviewed\tElongation factor Tu, mitochondrial\tCrassostrea gigas (Pacific oyster) (Crassostrea angulata)\t173\tAQIIGVEMYR\t#N/A\tprecursor\tOyster 1\t54.11\n",
      "CGI_10000050\tK1PN47\tK1PN47_CRAGI\tunreviewed\tSuccinate dehydrogenase [ubiquinone] iron-sulfur subunit, mitochondrial\tCrassostrea gigas (Pacific oyster) (Crassostrea angulata)\t184\tCHTIMNCTK\t#N/A\tprecursor\tOyster 1\t34.14\n",
      "CGI_10000052\tK1P8U2\tK1P8U2_CRAGI\tunreviewed\tSodium-dependent proline transporter\tCrassostrea gigas (Pacific oyster) (Crassostrea angulata)\t216\tTASEEFWTR\t#N/A\tprecursor [M+2]\tOyster 1\t51.45\n",
      "CGI_10000067\tK1PG66\tK1PG66_CRAGI\tunreviewed\tCoactosin-like protein (Fragment)\tCrassostrea gigas (Pacific oyster) (Crassostrea angulata)\t115\tFALITWIGK\t#N/A\tprecursor [M+1]\tOyster 1\t56.02\n",
      "CGI_10000070\tK1Q953\tK1Q953_CRAGI\tunreviewed\tHaloacid dehalogenase-like hydrolase domain-containing protein 1A\tCrassostrea gigas (Pacific oyster) (Crassostrea angulata)\t189\tLFPSVELLPGAER\t#N/A\tprecursor\tOyster 13\t52.23\n",
      "CGI_10000071\tK1PN28\tK1PN28_CRAGI\tunreviewed\tPrefoldin subunit 6 (Fragment)\tCrassostrea gigas (Pacific oyster) (Crassostrea angulata)\t104\tLQQQLQQQQVK\t#N/A\tprecursor [M+2]\tOyster 1\t26.66\n",
      "CGI_10000075\tK1Q947\tK1Q947_CRAGI\tunreviewed\tDynein light chain 2, cytoplasmic\tCrassostrea gigas (Pacific oyster) (Crassostrea angulata)\t89\tNADMSEDMQQDAVDCATTALEK\t1046117952\tprecursor [M+1]\tOyster 14\t47.85\n",
      "CGI_10000078\tK1P8P8\tK1P8P8_CRAGI\tunreviewed\tFructose-bisphosphate aldolase\tCrassostrea gigas (Pacific oyster) (Crassostrea angulata)\t131\tALQASVLK\t#N/A\tprecursor [M+2]\tOyster 1\t32.33\n",
      "CGI_10000082\tK1PG58\tK1PG58_CRAGI\tunreviewed\tBarrier-to-autointegration factor\tCrassostrea gigas (Pacific oyster) (Crassostrea angulata)\t90\tSVTELAGIGEVLGGR\t#N/A\tprecursor\tOyster 1\t52.15\n",
      "CGI_10000091\tK1P207\tK1P207_CRAGI\tunreviewed\tTripartite motif-containing protein 2\tCrassostrea gigas (Pacific oyster) (Crassostrea angulata)\t382\tEQLYQQFGSLSASSIK\t#N/A\tprecursor\tOyster 1\t47.96\n"
     ]
    }
   ],
   "source": [
    "!head Galaxy57-[Unique_on_data_56].tabular"
   ]
  },
  {
   "cell_type": "markdown",
   "metadata": {},
   "source": [
    "### Summary of some randomly chosen proteins with information gathered from uniprot.org\n",
    "    \n",
    "- Succinate dehydrogenase [ubiquinone] iron-sulfur subunit, mitochondrial: Subunit of succinate dehydrogenase (SDH) that is involved in complex II of the mitochondrial electron transport chain and is responsible for transferring electrons from succinate to ubiquinone (coenzyme Q).\n",
    "\n",
    "\n",
    "- Haloacid dehalogenase-like hydrolase domain-containing protein 1A: Involved with enzyme and metal ion binding, phosphatase and dephosphorylation\n",
    "\n",
    "\n",
    "- Fructose-bisphosphate aldolase: Key role in glycolysis and gluconeogenesis"
   ]
  }
 ],
 "metadata": {
  "anaconda-cloud": {},
  "kernelspec": {
   "display_name": "Python [default]",
   "language": "python",
   "name": "python3"
  },
  "language_info": {
   "codemirror_mode": {
    "name": "ipython",
    "version": 3
   },
   "file_extension": ".py",
   "mimetype": "text/x-python",
   "name": "python",
   "nbconvert_exporter": "python",
   "pygments_lexer": "ipython3",
   "version": "3.5.2"
  }
 },
 "nbformat": 4,
 "nbformat_minor": 1
}
