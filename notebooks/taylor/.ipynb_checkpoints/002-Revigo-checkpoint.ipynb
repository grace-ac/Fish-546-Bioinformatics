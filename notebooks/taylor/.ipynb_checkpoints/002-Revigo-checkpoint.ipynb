{
 "cells": [
  {
   "cell_type": "code",
   "execution_count": 1,
   "metadata": {
    "collapsed": false
   },
   "outputs": [
    {
     "name": "stdout",
     "output_type": "stream",
     "text": [
      "C:\\Users\\rhondae\\Documents\\Github\\Fish-546-Bioinformatics\n"
     ]
    }
   ],
   "source": [
    "cd C:/Users/rhondae/Documents/Github/Fish-546-Bioinformatics"
   ]
  },
  {
   "cell_type": "markdown",
   "metadata": {},
   "source": [
    "### In this notebook I am trying to make a Revigo visualization from the MSMS data of the 2015 oyster samples. I started by working on the Oyster 14 file that I made in Galaxy in the last notebook.\n",
    "\n",
    "### First I unfolded the GO term column so I could have each unique GO term listed individually in each row with the corresponding peak area.\n",
    "![im](https://github.com/Ellior2/Fish-546-Bioinformatics/blob/master/analyses/taylor/Galaxy135.JPG?raw=true)\n",
    "\n",
    "### I then removed any repetitive lines\n",
    "![im](https://github.com/Ellior2/Fish-546-Bioinformatics/blob/master/analyses/taylor/Galaxy136.JPG?raw=true)\n",
    "\n",
    "### Then I sorted by peak area\n",
    "![im](https://github.com/Ellior2/Fish-546-Bioinformatics/blob/master/analyses/taylor/Galaxy139.JPG?raw=true)\n",
    "\n",
    "### And removed only the columns with GO terms and peak areas\n",
    "![im](https://github.com/Ellior2/Fish-546-Bioinformatics/blob/master/analyses/taylor/Galaxy140.JPG?raw=true)\n",
    "\n",
    "### Then I upload the tabular file from Galaxy 140 into excel and first removed the all of the rows with no GO terms. Then I sorted by GO term, then by peak area in descending order. I then uploaded this back into Galaxy.\n",
    "![im](https://github.com/Ellior2/Fish-546-Bioinformatics/blob/master/analyses/taylor/Galaxy148.JPG?raw=true)\n",
    "\n",
    "### And selected the highest peak value for each unique GO term.\n",
    "![im](https://github.com/Ellior2/Fish-546-Bioinformatics/blob/master/analyses/taylor/Galaxy149.JPG?raw=true)\n"
   ]
  },
  {
   "cell_type": "markdown",
   "metadata": {},
   "source": [
    "I copied and pasted these GO terms with their respective highest peak areas into Revigo.\n",
    "- Select Allowed similarity: Medium (0.7)\n",
    "- Select some other quantity, where higher is better\n",
    "- select a database with GO term sizes: whole uniprot (default)\n",
    "- select a semantic similarity measure to use: SimRel \n",
    "\n",
    "Then selected tab for biological processes.\n",
    "\n",
    "![im](https://github.com/Ellior2/Fish-546-Bioinformatics/blob/master/analyses/taylor/Revigo14.JPG?raw=true)"
   ]
  }
 ],
 "metadata": {
  "anaconda-cloud": {},
  "kernelspec": {
   "display_name": "Python [default]",
   "language": "python",
   "name": "python3"
  },
  "language_info": {
   "codemirror_mode": {
    "name": "ipython",
    "version": 3
   },
   "file_extension": ".py",
   "mimetype": "text/x-python",
   "name": "python",
   "nbconvert_exporter": "python",
   "pygments_lexer": "ipython3",
   "version": "3.5.2"
  }
 },
 "nbformat": 4,
 "nbformat_minor": 1
}
