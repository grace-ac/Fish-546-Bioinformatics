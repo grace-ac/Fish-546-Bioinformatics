{
 "cells": [
  {
   "cell_type": "code",
   "execution_count": 1,
   "metadata": {
    "collapsed": false
   },
   "outputs": [
    {
     "name": "stdout",
     "output_type": "stream",
     "text": [
      "C:\\Users\\rhondae\\Documents\\Github\\Fish-546-Bioinformatics\\analyses\\taylor\n"
     ]
    }
   ],
   "source": [
    "cd C:/Users/rhondae/Documents/Github/Fish-546-Bioinformatics/analyses/taylor/"
   ]
  },
  {
   "cell_type": "code",
   "execution_count": 2,
   "metadata": {
    "collapsed": false
   },
   "outputs": [
    {
     "name": "stdout",
     "output_type": "stream",
     "text": [
      "Protein Name\tPeptide Sequence\tArea\tFragment Ion\tReplicate Name\tAverage Measured Retention Time\n",
      "CGI_10000994\tVVDVAIGGDQGGSIR\t12374432\tprecursor\tOyster 1\t37.48\n",
      "CGI_10000994\tVVDVAIGGDQGGSIR\t10898772\tprecursor\tOyster 13\t37.48\n",
      "CGI_10000994\tVVDVAIGGDQGGSIR\t#N/A\tprecursor\tOyster 14\t37.48\n",
      "CGI_10000994\tVVDVAIGGDQGGSIR\t#N/A\tprecursor\tOyster 2\t37.48\n",
      "CGI_10000994\tVVDVAIGGDQGGSIR\t#N/A\tprecursor [M+1]\tOyster 1\t37.48\n",
      "CGI_10000994\tVVDVAIGGDQGGSIR\t#N/A\tprecursor [M+1]\tOyster 13\t37.48\n",
      "CGI_10000994\tVVDVAIGGDQGGSIR\t#N/A\tprecursor [M+1]\tOyster 14\t37.48\n",
      "CGI_10000994\tVVDVAIGGDQGGSIR\t#N/A\tprecursor [M+1]\tOyster 2\t37.48\n",
      "CGI_10000994\tVVDVAIGGDQGGSIR\t#N/A\tprecursor [M+2]\tOyster 1\t37.48\n"
     ]
    }
   ],
   "source": [
    "!head proteomeoutput.tab"
   ]
  },
  {
   "cell_type": "code",
   "execution_count": 3,
   "metadata": {
    "collapsed": false
   },
   "outputs": [
    {
     "name": "stdout",
     "output_type": "stream",
     "text": [
      "\n",
      "\n",
      "Building a new DB, current time: 11/02/2016 18:45:43\n",
      "New DB name:   C:\\Users\\rhondae\\Documents\\Github\\Fish-546-Bioinformatics\\analyses\\taylor\\uniprot_sprot\n",
      "New DB title:  ../../data/taylor/uniprot_sprot.fasta\n",
      "Sequence type: Protein\n",
      "Keep MBits: T\n",
      "Maximum file size: 1000000000B\n",
      "Adding sequences from FASTA; added 552259 sequences in 1284.1 seconds.\n"
     ]
    }
   ],
   "source": [
    "!C:/Users/rhondae/Desktop/blast-2.5.0+/bin/makeblastdb \\\n",
    "-in ../../data/taylor/uniprot_sprot.fasta \\\n",
    "-dbtype prot \\\n",
    "-out uniprot_sprot"
   ]
  },
  {
   "cell_type": "code",
   "execution_count": 4,
   "metadata": {
    "collapsed": false
   },
   "outputs": [
    {
     "name": "stderr",
     "output_type": "stream",
     "text": [
      "BLAST Database error: No alias or index file found for protein database [olurida_db] in search path [C:\\Users\\rhondae\\Documents\\Github\\Fish-546-Bioinformatics\\analyses\\taylor;;]\n"
     ]
    }
   ],
   "source": [
    "!C:/Users/rhondae/Desktop/blast-2.5.0+/bin/blastp \\\n",
    "-query proteomeoutput.tab \\\n",
    "-db olurida_db \\\n",
    "-evalue 1e-5 \\\n",
    "-max_target_seqs 1 \\\n",
    "-max_hsps 1 \\\n",
    "-outfmt 6 \\\n",
    "-num_threads 16 \\\n",
    "> blastoutput_oly.txt"
   ]
  }
 ],
 "metadata": {
  "anaconda-cloud": {},
  "kernelspec": {
   "display_name": "Python [default]",
   "language": "python",
   "name": "python3"
  },
  "language_info": {
   "codemirror_mode": {
    "name": "ipython",
    "version": 3
   },
   "file_extension": ".py",
   "mimetype": "text/x-python",
   "name": "python",
   "nbconvert_exporter": "python",
   "pygments_lexer": "ipython3",
   "version": "3.5.2"
  }
 },
 "nbformat": 4,
 "nbformat_minor": 1
}
