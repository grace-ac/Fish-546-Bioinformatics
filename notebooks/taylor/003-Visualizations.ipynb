{
 "cells": [
  {
   "cell_type": "code",
   "execution_count": 1,
   "metadata": {
    "collapsed": false
   },
   "outputs": [
    {
     "name": "stdout",
     "output_type": "stream",
     "text": [
      "C:\\Users\\rhondae\\Documents\\Github\\Fish-546-Bioinformatics\n"
     ]
    }
   ],
   "source": [
    "cd C:/Users/rhondae/Documents/Github/Fish-546-Bioinformatics"
   ]
  },
  {
   "cell_type": "markdown",
   "metadata": {},
   "source": [
    "### Uploaded GO terms identified for each oyster sample into CateGOrizer\n",
    "\n",
    "[Oysters at 23C Day 5](https://github.com/Ellior2/Fish-546-Bioinformatics/blob/master/analyses/taylor/oyster1cateGOrizer.pdf)\n",
    "\n",
    "[Oysters at 29C Day 5](https://github.com/Ellior2/Fish-546-Bioinformatics/blob/master/analyses/taylor/oyster2cateGOrizer.pdf)\n",
    "\n",
    "[Oysters at 23C Day 8](https://github.com/Ellior2/Fish-546-Bioinformatics/blob/master/analyses/taylor/oyster13cateGOrizer.pdf)\n",
    "\n",
    "[Oysters at 29C Day 8](https://github.com/Ellior2/Fish-546-Bioinformatics/blob/master/analyses/taylor/oyster14cateGOrizer.pdf)"
   ]
  },
  {
   "cell_type": "markdown",
   "metadata": {},
   "source": [
    "# Used Revigo to create visulizations for each oyster sample\n",
    "\n",
    "\n",
    "### Oysters at 23C Day 5\n",
    "![Oysters at 23C Day 5](https://github.com/Ellior2/Fish-546-Bioinformatics/blob/master/analyses/taylor/RevigoOyster1.JPG?raw=true)\n",
    "\n",
    "### Oysters at 29C Day 5\n",
    "![Oysters at 29C Day 5](https://github.com/Ellior2/Fish-546-Bioinformatics/blob/master/analyses/taylor/RevigoOyster2.JPG?raw=true)\n",
    "\n",
    "### Oysters at 23C Day 8\n",
    "![Oysters at 23C Day 8](https://github.com/Ellior2/Fish-546-Bioinformatics/blob/master/analyses/taylor/RevigoOyster13.JPG?raw=true)\n",
    "\n",
    "### Oysters at 29C Day 8\n",
    "![Oysters at 29C Day 8](https://github.com/Ellior2/Fish-546-Bioinformatics/blob/master/analyses/taylor/RevigoOyster14.JPG?raw=true)"
   ]
  }
 ],
 "metadata": {
  "anaconda-cloud": {},
  "kernelspec": {
   "display_name": "Python [default]",
   "language": "python",
   "name": "python3"
  },
  "language_info": {
   "codemirror_mode": {
    "name": "ipython",
    "version": 3
   },
   "file_extension": ".py",
   "mimetype": "text/x-python",
   "name": "python",
   "nbconvert_exporter": "python",
   "pygments_lexer": "ipython3",
   "version": "3.5.2"
  }
 },
 "nbformat": 4,
 "nbformat_minor": 1
}
