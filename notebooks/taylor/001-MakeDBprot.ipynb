{
 "cells": [
  {
   "cell_type": "code",
   "execution_count": 1,
   "metadata": {
    "collapsed": false
   },
   "outputs": [
    {
     "name": "stdout",
     "output_type": "stream",
     "text": [
      "C:\\Users\\rhondae\\Documents\\Github\\Fish-546-Bioinformatics\\analyses\\taylor\n"
     ]
    }
   ],
   "source": [
    "cd C:/Users/rhondae/Documents/Github/Fish-546-Bioinformatics/analyses/taylor/"
   ]
  },
  {
   "cell_type": "code",
   "execution_count": 2,
   "metadata": {
    "collapsed": false
   },
   "outputs": [
    {
     "name": "stdout",
     "output_type": "stream",
     "text": [
      "CGI_10013882\tLENAPQTEAITGANEVK\t#N/A\ty5\tOyster 14\t35.38\n",
      "CGI_10013882\tLENAPQTEAITGANEVK\t#N/A\ty5\tOyster 2\t35.38\n",
      "CGI_10013882\tLENAPQTEAITGANEVK\t#N/A\ty4\tOyster 1\t35.38\n",
      "CGI_10013882\tLENAPQTEAITGANEVK\t4986\ty4\tOyster 13\t35.38\n",
      "CGI_10013882\tLENAPQTEAITGANEVK\t13197\ty4\tOyster 14\t35.38\n",
      "CGI_10013882\tLENAPQTEAITGANEVK\t#N/A\ty4\tOyster 2\t35.38\n",
      "CGI_10013882\tLENAPQTEAITGANEVK\t#N/A\ty3\tOyster 1\t35.38\n",
      "CGI_10013882\tLENAPQTEAITGANEVK\t#N/A\ty3\tOyster 13\t35.38\n",
      "CGI_10013882\tLENAPQTEAITGANEVK\t4767\ty3\tOyster 14\t35.38\n",
      "CGI_10013882\tLENAPQTEAITGANEVK\t#N/A\ty3\tOyster 2\t35.38\n"
     ]
    }
   ],
   "source": [
    "!tail proteomeoutput.tab"
   ]
  },
  {
   "cell_type": "code",
   "execution_count": 2,
   "metadata": {
    "collapsed": false
   },
   "outputs": [
    {
     "name": "stdout",
     "output_type": "stream",
     "text": [
      "Protein Name\tPeptide Sequence\tArea\tFragment Ion\tReplicate Name\tAverage Measured Retention Time\n",
      "CGI_10000994\tVVDVAIGGDQGGSIR\t12374432\tprecursor\tOyster 1\t37.48\n",
      "CGI_10000994\tVVDVAIGGDQGGSIR\t10898772\tprecursor\tOyster 13\t37.48\n",
      "CGI_10000994\tVVDVAIGGDQGGSIR\t#N/A\tprecursor\tOyster 14\t37.48\n",
      "CGI_10000994\tVVDVAIGGDQGGSIR\t#N/A\tprecursor\tOyster 2\t37.48\n",
      "CGI_10000994\tVVDVAIGGDQGGSIR\t#N/A\tprecursor [M+1]\tOyster 1\t37.48\n",
      "CGI_10000994\tVVDVAIGGDQGGSIR\t#N/A\tprecursor [M+1]\tOyster 13\t37.48\n",
      "CGI_10000994\tVVDVAIGGDQGGSIR\t#N/A\tprecursor [M+1]\tOyster 14\t37.48\n",
      "CGI_10000994\tVVDVAIGGDQGGSIR\t#N/A\tprecursor [M+1]\tOyster 2\t37.48\n",
      "CGI_10000994\tVVDVAIGGDQGGSIR\t#N/A\tprecursor [M+2]\tOyster 1\t37.48\n"
     ]
    }
   ],
   "source": [
    "!head proteomeoutput.tab"
   ]
  },
  {
   "cell_type": "markdown",
   "metadata": {},
   "source": [
    "Downloaded uniprot_sprot database from http://www.uniprot.org/uniprot/?query=cgi&sort=score with cgi "
   ]
  },
  {
   "cell_type": "code",
   "execution_count": null,
   "metadata": {
    "collapsed": true
   },
   "outputs": [],
   "source": [
    "In Galaxy:"
   ]
  }
 ],
 "metadata": {
  "anaconda-cloud": {},
  "kernelspec": {
   "display_name": "Python [default]",
   "language": "python",
   "name": "python3"
  },
  "language_info": {
   "codemirror_mode": {
    "name": "ipython",
    "version": 3
   },
   "file_extension": ".py",
   "mimetype": "text/x-python",
   "name": "python",
   "nbconvert_exporter": "python",
   "pygments_lexer": "ipython3",
   "version": "3.5.2"
  }
 },
 "nbformat": 4,
 "nbformat_minor": 1
}
