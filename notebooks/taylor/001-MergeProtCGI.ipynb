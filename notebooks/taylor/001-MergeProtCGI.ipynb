{
 "cells": [
  {
   "cell_type": "markdown",
   "metadata": {},
   "source": [
    "### In this notebook, I am using Galaxy to merge my output file from Skyline (proteomeoutput.tab) with a Uniprot database with CGI codes to identify the proteins present in my samples."
   ]
  },
  {
   "cell_type": "code",
   "execution_count": 1,
   "metadata": {
    "collapsed": false
   },
   "outputs": [
    {
     "name": "stdout",
     "output_type": "stream",
     "text": [
      "C:\\Users\\rhondae\\Documents\\Github\\Fish-546-Bioinformatics\n"
     ]
    }
   ],
   "source": [
    "cd C:/Users/rhondae/Documents/Github/Fish-546-Bioinformatics"
   ]
  },
  {
   "cell_type": "code",
   "execution_count": 2,
   "metadata": {
    "collapsed": false
   },
   "outputs": [
    {
     "name": "stdout",
     "output_type": "stream",
     "text": [
      "CGI_10013882\tLENAPQTEAITGANEVK\t#N/A\ty5\tOyster 14\t35.38\n",
      "CGI_10013882\tLENAPQTEAITGANEVK\t#N/A\ty5\tOyster 2\t35.38\n",
      "CGI_10013882\tLENAPQTEAITGANEVK\t#N/A\ty4\tOyster 1\t35.38\n",
      "CGI_10013882\tLENAPQTEAITGANEVK\t4986\ty4\tOyster 13\t35.38\n",
      "CGI_10013882\tLENAPQTEAITGANEVK\t13197\ty4\tOyster 14\t35.38\n",
      "CGI_10013882\tLENAPQTEAITGANEVK\t#N/A\ty4\tOyster 2\t35.38\n",
      "CGI_10013882\tLENAPQTEAITGANEVK\t#N/A\ty3\tOyster 1\t35.38\n",
      "CGI_10013882\tLENAPQTEAITGANEVK\t#N/A\ty3\tOyster 13\t35.38\n",
      "CGI_10013882\tLENAPQTEAITGANEVK\t4767\ty3\tOyster 14\t35.38\n",
      "CGI_10013882\tLENAPQTEAITGANEVK\t#N/A\ty3\tOyster 2\t35.38\n"
     ]
    }
   ],
   "source": [
    "!tail proteomeoutput.tab"
   ]
  },
  {
   "cell_type": "code",
   "execution_count": 2,
   "metadata": {
    "collapsed": false
   },
   "outputs": [
    {
     "name": "stdout",
     "output_type": "stream",
     "text": [
      "Protein Name\tPeptide Sequence\tArea\tFragment Ion\tReplicate Name\tAverage Measured Retention Time\n",
      "CGI_10000994\tVVDVAIGGDQGGSIR\t12374432\tprecursor\tOyster 1\t37.48\n",
      "CGI_10000994\tVVDVAIGGDQGGSIR\t10898772\tprecursor\tOyster 13\t37.48\n",
      "CGI_10000994\tVVDVAIGGDQGGSIR\t#N/A\tprecursor\tOyster 14\t37.48\n",
      "CGI_10000994\tVVDVAIGGDQGGSIR\t#N/A\tprecursor\tOyster 2\t37.48\n",
      "CGI_10000994\tVVDVAIGGDQGGSIR\t#N/A\tprecursor [M+1]\tOyster 1\t37.48\n",
      "CGI_10000994\tVVDVAIGGDQGGSIR\t#N/A\tprecursor [M+1]\tOyster 13\t37.48\n",
      "CGI_10000994\tVVDVAIGGDQGGSIR\t#N/A\tprecursor [M+1]\tOyster 14\t37.48\n",
      "CGI_10000994\tVVDVAIGGDQGGSIR\t#N/A\tprecursor [M+1]\tOyster 2\t37.48\n",
      "CGI_10000994\tVVDVAIGGDQGGSIR\t#N/A\tprecursor [M+2]\tOyster 1\t37.48\n"
     ]
    }
   ],
   "source": [
    "!head proteomeoutput.tab"
   ]
  },
  {
   "cell_type": "markdown",
   "metadata": {},
   "source": [
    "### Downloaded uniprot-cgi.tab database from http://www.uniprot.org/uniprot/?query=cgi&sort=score with cgi codes"
   ]
  },
  {
   "cell_type": "markdown",
   "metadata": {},
   "source": [
    "In Galaxy:\n",
    "\n",
    "1) Uploaded proteomeoutput [Galaxy47.png](https://github.com/Ellior2/Fish-546-Bioinformatics/blob/master/data/taylor/Galaxy47.PNG)\n",
    "\n",
    "2) Uploaded uniprot-cgi.tab [Galaxy55.png](https://github.com/Ellior2/Fish-546-Bioinformatics/blob/master/data/taylor/Galaxy55.PNG)\n",
    "\n",
    "3) Joined tables [Galaxy56.png](https://github.com/Ellior2/Fish-546-Bioinformatics/blob/master/data/taylor/Galaxy56.PNG)\n"
   ]
  },
  {
   "cell_type": "code",
   "execution_count": 5,
   "metadata": {
    "collapsed": false
   },
   "outputs": [
    {
     "name": "stdout",
     "output_type": "stream",
     "text": [
      "Gene names\tEntry\tEntry name\tStatus\tProtein names\tOrganism\tLength\tPeptide Sequence\tArea\tFragment Ion\tReplicate Name\tAverage Measured Retention Time\n",
      "CGI_10000013\tK1P2A2\tK1P2A2_CRAGI\tunreviewed\tElongation factor Tu, mitochondrial\tCrassostrea gigas (Pacific oyster) (Crassostrea angulata)\t173\tAQIIGVEMYR\t#N/A\tprecursor\tOyster 1\t54.11\n",
      "CGI_10000013\tK1P2A2\tK1P2A2_CRAGI\tunreviewed\tElongation factor Tu, mitochondrial\tCrassostrea gigas (Pacific oyster) (Crassostrea angulata)\t173\tAQIIGVEMYR\t#N/A\tprecursor [M+2]\tOyster 13\t54.11\n",
      "CGI_10000013\tK1P2A2\tK1P2A2_CRAGI\tunreviewed\tElongation factor Tu, mitochondrial\tCrassostrea gigas (Pacific oyster) (Crassostrea angulata)\t173\tAQIIGVEMYR\t#N/A\tprecursor [M+2]\tOyster 14\t54.11\n",
      "CGI_10000013\tK1P2A2\tK1P2A2_CRAGI\tunreviewed\tElongation factor Tu, mitochondrial\tCrassostrea gigas (Pacific oyster) (Crassostrea angulata)\t173\tAQIIGVEMYR\t#N/A\tprecursor [M+2]\tOyster 2\t54.11\n",
      "CGI_10000013\tK1P2A2\tK1P2A2_CRAGI\tunreviewed\tElongation factor Tu, mitochondrial\tCrassostrea gigas (Pacific oyster) (Crassostrea angulata)\t173\tAQIIGVEMYR\t1096726\ty7\tOyster 14\t54.11\n",
      "CGI_10000013\tK1P2A2\tK1P2A2_CRAGI\tunreviewed\tElongation factor Tu, mitochondrial\tCrassostrea gigas (Pacific oyster) (Crassostrea angulata)\t173\tAQIIGVEMYR\t1124293\ty7\tOyster 2\t54.11\n",
      "CGI_10000013\tK1P2A2\tK1P2A2_CRAGI\tunreviewed\tElongation factor Tu, mitochondrial\tCrassostrea gigas (Pacific oyster) (Crassostrea angulata)\t173\tAQIIGVEMYR\t11599\ty5\tOyster 1\t54.11\n",
      "CGI_10000013\tK1P2A2\tK1P2A2_CRAGI\tunreviewed\tElongation factor Tu, mitochondrial\tCrassostrea gigas (Pacific oyster) (Crassostrea angulata)\t173\tAQIIGVEMYR\t121421\ty5\tOyster 2\t54.11\n",
      "CGI_10000013\tK1P2A2\tK1P2A2_CRAGI\tunreviewed\tElongation factor Tu, mitochondrial\tCrassostrea gigas (Pacific oyster) (Crassostrea angulata)\t173\tAQIIGVEMYR\t1225592\ty6\tOyster 14\t54.11\n"
     ]
    }
   ],
   "source": [
    "!head Galaxy56-[Join_on_data_47_and_data_55].tabular"
   ]
  },
  {
   "cell_type": "markdown",
   "metadata": {},
   "source": [
    "### Below is a list of all of the proteins I identified in _C. gigas_ sample numbers 1,2,13,14 from the MSMS data"
   ]
  },
  {
   "cell_type": "code",
   "execution_count": 7,
   "metadata": {
    "collapsed": false
   },
   "outputs": [
    {
     "name": "stdout",
     "output_type": "stream",
     "text": [
      "CGI_10000013\tK1P2A2\tK1P2A2_CRAGI\tunreviewed\tElongation factor Tu, mitochondrial\tCrassostrea gigas (Pacific oyster) (Crassostrea angulata)\t173\tAQIIGVEMYR\t#N/A\tprecursor\tOyster 1\t54.11\n",
      "CGI_10000050\tK1PN47\tK1PN47_CRAGI\tunreviewed\tSuccinate dehydrogenase [ubiquinone] iron-sulfur subunit, mitochondrial\tCrassostrea gigas (Pacific oyster) (Crassostrea angulata)\t184\tCHTIMNCTK\t#N/A\tprecursor\tOyster 1\t34.14\n",
      "CGI_10000052\tK1P8U2\tK1P8U2_CRAGI\tunreviewed\tSodium-dependent proline transporter\tCrassostrea gigas (Pacific oyster) (Crassostrea angulata)\t216\tTASEEFWTR\t#N/A\tprecursor [M+2]\tOyster 1\t51.45\n",
      "CGI_10000067\tK1PG66\tK1PG66_CRAGI\tunreviewed\tCoactosin-like protein (Fragment)\tCrassostrea gigas (Pacific oyster) (Crassostrea angulata)\t115\tFALITWIGK\t#N/A\tprecursor [M+1]\tOyster 1\t56.02\n",
      "CGI_10000070\tK1Q953\tK1Q953_CRAGI\tunreviewed\tHaloacid dehalogenase-like hydrolase domain-containing protein 1A\tCrassostrea gigas (Pacific oyster) (Crassostrea angulata)\t189\tLFPSVELLPGAER\t#N/A\tprecursor\tOyster 13\t52.23\n",
      "CGI_10000071\tK1PN28\tK1PN28_CRAGI\tunreviewed\tPrefoldin subunit 6 (Fragment)\tCrassostrea gigas (Pacific oyster) (Crassostrea angulata)\t104\tLQQQLQQQQVK\t#N/A\tprecursor [M+2]\tOyster 1\t26.66\n",
      "CGI_10000075\tK1Q947\tK1Q947_CRAGI\tunreviewed\tDynein light chain 2, cytoplasmic\tCrassostrea gigas (Pacific oyster) (Crassostrea angulata)\t89\tNADMSEDMQQDAVDCATTALEK\t1046117952\tprecursor [M+1]\tOyster 14\t47.85\n",
      "CGI_10000078\tK1P8P8\tK1P8P8_CRAGI\tunreviewed\tFructose-bisphosphate aldolase\tCrassostrea gigas (Pacific oyster) (Crassostrea angulata)\t131\tALQASVLK\t#N/A\tprecursor [M+2]\tOyster 1\t32.33\n",
      "CGI_10000082\tK1PG58\tK1PG58_CRAGI\tunreviewed\tBarrier-to-autointegration factor\tCrassostrea gigas (Pacific oyster) (Crassostrea angulata)\t90\tSVTELAGIGEVLGGR\t#N/A\tprecursor\tOyster 1\t52.15\n",
      "CGI_10000091\tK1P207\tK1P207_CRAGI\tunreviewed\tTripartite motif-containing protein 2\tCrassostrea gigas (Pacific oyster) (Crassostrea angulata)\t382\tEQLYQQFGSLSASSIK\t#N/A\tprecursor\tOyster 1\t47.96\n"
     ]
    }
   ],
   "source": [
    "!head Galaxy57-[Unique_on_data_56].tabular"
   ]
  },
  {
   "cell_type": "markdown",
   "metadata": {},
   "source": [
    "### Summary of some randomly chosen proteins with information gathered from uniprot.org\n",
    "    \n",
    "- Succinate dehydrogenase [ubiquinone] iron-sulfur subunit, mitochondrial: Subunit of succinate dehydrogenase (SDH) that is involved in complex II of the mitochondrial electron transport chain and is responsible for transferring electrons from succinate to ubiquinone (coenzyme Q).\n",
    "\n",
    "\n",
    "- Haloacid dehalogenase-like hydrolase domain-containing protein 1A: Involved with enzyme and metal ion binding, phosphatase and dephosphorylation\n",
    "\n",
    "\n",
    "- Fructose-bisphosphate aldolase: Key role in glycolysis and gluconeogenesis"
   ]
  },
  {
   "cell_type": "code",
   "execution_count": 3,
   "metadata": {
    "collapsed": false
   },
   "outputs": [
    {
     "name": "stdout",
     "output_type": "stream",
     "text": [
      "Entry\tEntry name\tStatus\tProtein names\tGene names\tOrganism\tLength\tGene ontology (biological process)\tGene ontology IDs\tPathway\tCross-reference (UniPathway)\tCross-reference (CDD)\tCross-reference (Pfam)\n",
      "Q6GZT6\t040R_FRG3G\treviewed\tUncharacterized protein 040R\tFV3-040R\tFrog virus 3 (isolate Goorha) (FV-3)\t182\t\t\t\t\t\t\n",
      "Q6GZS9\t047L_FRG3G\treviewed\tUncharacterized protein 047L\tFV3-047L\tFrog virus 3 (isolate Goorha) (FV-3)\t138\t\t\t\t\t\t\n",
      "O55706\t062L_IIV6\treviewed\tUncharacterized protein 062L\tIIV6-062L\tInvertebrate iridescent virus 6 (IIV-6) (Chilo iridescent virus)\t179\t\t\t\t\t\t\n",
      "P93343\t1433C_TOBAC\treviewed\t14-3-3-like protein C (14-3-3-like protein B)\t\tNicotiana tabacum (Common tobacco)\t260\t\t\t\t\t\tPF00244;\n",
      "Q96452\t1433C_SOYBN\treviewed\t14-3-3-like protein C (SGF14C)\tGF14C\tGlycine max (Soybean) (Glycine hispida)\t258\t\t\t\t\t\tPF00244;\n",
      "P68510\t1433F_MOUSE\treviewed\t14-3-3 protein eta\tYwhah\tMus musculus (Mouse)\t246\tcytoskeleton organization [GO:0007010]; glucocorticoid catabolic process [GO:0006713]; glucocorticoid receptor signaling pathway [GO:0042921]; intracellular protein transport [GO:0006886]; membrane depolarization during action potential [GO:0086010]; negative regulation of apoptotic process [GO:0043066]; negative regulation of dendrite morphogenesis [GO:0050774]; positive regulation of transcription, DNA-templated [GO:0045893]; regulation of mitotic nuclear division [GO:0007088]; regulation of sodium ion transmembrane transporter activity [GO:2000649]; regulation of sodium ion transport [GO:0002028]; substantia nigra development [GO:0021762]\tGO:0002028; GO:0003779; GO:0005737; GO:0005829; GO:0005886; GO:0006713; GO:0006886; GO:0007010; GO:0007088; GO:0014704; GO:0017080; GO:0019899; GO:0019904; GO:0021762; GO:0030659; GO:0035259; GO:0042921; GO:0043066; GO:0044325; GO:0045893; GO:0046982; GO:0050774; GO:0070062; GO:0086010; GO:2000649\t\t\t\tPF00244;\n",
      "P61982\t1433G_MOUSE\treviewed\t14-3-3 protein gamma [Cleaved into: 14-3-3 protein gamma, N-terminally processed]\tYwhag\tMus musculus (Mouse)\t247\tcellular response to insulin stimulus [GO:0032869]; protein targeting [GO:0006605]; regulation of neuron differentiation [GO:0045664]; regulation of synaptic plasticity [GO:0048167]\tGO:0003779; GO:0005080; GO:0005159; GO:0005829; GO:0005925; GO:0006605; GO:0016020; GO:0019904; GO:0030659; GO:0032869; GO:0043209; GO:0044822; GO:0045664; GO:0048167; GO:0070062\t\t\t\tPF00244;\n",
      "O70456\t1433S_MOUSE\treviewed\t14-3-3 protein sigma (Stratifin)\tSfn Mkrn3\tMus musculus (Mouse)\t248\testablishment of skin barrier [GO:0061436]; intrinsic apoptotic signaling pathway in response to DNA damage [GO:0008630]; keratinization [GO:0031424]; keratinocyte development [GO:0003334]; keratinocyte differentiation [GO:0030216]; negative regulation of cysteine-type endopeptidase activity involved in apoptotic process [GO:0043154]; negative regulation of keratinocyte proliferation [GO:0010839]; positive regulation of cell growth [GO:0030307]; positive regulation of epidermal cell differentiation [GO:0045606]; positive regulation of protein export from nucleus [GO:0046827]; regulation of cell cycle [GO:0051726]; regulation of cyclin-dependent protein serine/threonine kinase activity [GO:0000079]; regulation of epidermal cell division [GO:0010482]; release of cytochrome c from mitochondria [GO:0001836]; skin development [GO:0043588]\tGO:0000079; GO:0001836; GO:0003334; GO:0005634; GO:0005737; GO:0005829; GO:0008630; GO:0010482; GO:0010839; GO:0019901; GO:0030216; GO:0030307; GO:0030659; GO:0031424; GO:0043154; GO:0043588; GO:0045606; GO:0046827; GO:0051219; GO:0051726; GO:0061436; GO:0070062\t\t\t\tPF00244;\n",
      "P31947\t1433S_HUMAN\treviewed\t14-3-3 protein sigma (Epithelial cell marker protein 1) (Stratifin)\tSFN HME1\tHomo sapiens (Human)\t248\tDNA damage response, signal transduction by p53 class mediator resulting in cell cycle arrest [GO:0006977]; establishment of skin barrier [GO:0061436]; intrinsic apoptotic signaling pathway in response to DNA damage [GO:0008630]; keratinization [GO:0031424]; keratinocyte development [GO:0003334]; membrane organization [GO:0061024]; negative regulation of cysteine-type endopeptidase activity involved in apoptotic process [GO:0043154]; negative regulation of keratinocyte proliferation [GO:0010839]; negative regulation of protein kinase activity [GO:0006469]; positive regulation of cell growth [GO:0030307]; positive regulation of epidermal cell differentiation [GO:0045606]; positive regulation of protein export from nucleus [GO:0046827]; positive regulation of protein insertion into mitochondrial membrane involved in apoptotic signaling pathway [GO:1900740]; regulation of cyclin-dependent protein serine/threonine kinase activity [GO:0000079]; regulation of epidermal cell division [GO:0010482]; release of cytochrome c from mitochondria [GO:0001836]; signal transduction [GO:0007165]\tGO:0000079; GO:0001836; GO:0003334; GO:0005615; GO:0005634; GO:0005737; GO:0005739; GO:0005829; GO:0005913; GO:0006469; GO:0006977; GO:0007165; GO:0008426; GO:0008630; GO:0010482; GO:0010839; GO:0030307; GO:0030659; GO:0031424; GO:0043154; GO:0045606; GO:0046827; GO:0061024; GO:0061436; GO:0070062; GO:0098641; GO:1900740\t\t\t\tPF00244;\n"
     ]
    }
   ],
   "source": [
    "!head data/gigas_prot/uniprot-all.tab"
   ]
  },
  {
   "cell_type": "markdown",
   "metadata": {},
   "source": [
    "### I downloaded a swiss prot database with CGI codes AND GO terms so I can merge this with my identified proteins."
   ]
  },
  {
   "cell_type": "code",
   "execution_count": 6,
   "metadata": {
    "collapsed": false
   },
   "outputs": [
    {
     "name": "stdout",
     "output_type": "stream",
     "text": [
      "Entry\tEntry name\tStatus\tProtein names\tGene names\tOrganism\tLength\tGene ontology IDs\n",
      "Q8WTS1\tABHD5_HUMAN\treviewed\t1-acylglycerol-3-phosphate O-acyltransferase ABHD5 (EC 2.3.1.51) (Abhydrolase domain-containing protein 5) (Lipid droplet-binding protein CGI-58)\tABHD5 NCIE2 CGI-58\tHomo sapiens (Human)\t349\tGO:0003841; GO:0005634; GO:0005737; GO:0005811; GO:0005829; GO:0006631; GO:0006654; GO:0008654; GO:0010891; GO:0010898; GO:0030154; GO:0042171; GO:0043231; GO:0051006; GO:0052689\n",
      "Q03705\tCG121_YEAST\treviewed\tEKC/KEOPS complex subunit CGI121 (CGI-121 homolog)\tCGI121 YML036W\tSaccharomyces cerevisiae (strain ATCC 204508 / S288c) (Baker's yeast)\t181\tGO:0000408; GO:0000722; GO:0000723; GO:0000781; GO:0005654; GO:0006310; GO:0006351; GO:0006400; GO:0045944; GO:0090342\n",
      "Q9Y3E7\tCHMP3_HUMAN\treviewed\tCharged multivesicular body protein 3 (Chromatin-modifying protein 3) (Neuroendocrine differentiation factor) (Vacuolar protein sorting-associated protein 24) (hVps24)\tCHMP3 CGI149 NEDF VPS24 CGI-149\tHomo sapiens (Human)\t222\tGO:0000815; GO:0000920; GO:0005622; GO:0005770; GO:0005829; GO:0005886; GO:0006914; GO:0006915; GO:0007049; GO:0010824; GO:0015031; GO:0016023; GO:0016197; GO:0019058; GO:0031210; GO:0031902; GO:0036258; GO:0039702; GO:0042803; GO:0050792; GO:0051258; GO:0051291; GO:0061763; GO:0070062; GO:0071985; GO:0097352; GO:1902187; GO:1902188; GO:1990381; GO:2000641\n",
      "Q13370\tPDE3B_HUMAN\treviewed\tcGMP-inhibited 3',5'-cyclic phosphodiesterase B (EC 3.1.4.17) (CGIPDE1) (CGIP1) (Cyclic GMP-inhibited phosphodiesterase B) (CGI-PDE B)\tPDE3B\tHomo sapiens (Human)\t1112\tGO:0001525; GO:0004114; GO:0004115; GO:0004119; GO:0005783; GO:0005794; GO:0005829; GO:0006198; GO:0007162; GO:0007165; GO:0016020; GO:0016021; GO:0016525; GO:0032045; GO:0032869; GO:0033629; GO:0043422; GO:0043951; GO:0046872; GO:0047555; GO:0050995\n",
      "Q9DBL9\tABHD5_MOUSE\treviewed\t1-acylglycerol-3-phosphate O-acyltransferase ABHD5 (EC 2.3.1.51) (Abhydrolase domain-containing protein 5) (Lipid droplet-binding protein CGI-58) (Protein CGI-58)\tAbhd5\tMus musculus (Mouse)\t351\tGO:0003841; GO:0005634; GO:0005737; GO:0005811; GO:0005829; GO:0006629; GO:0006631; GO:0006654; GO:0008654; GO:0010891; GO:0010898; GO:0019433; GO:0030154; GO:0042171; GO:0043231; GO:0050996; GO:0051006; GO:0052689\n",
      "Q9Y230\tRUVB2_HUMAN\treviewed\tRuvB-like 2 (EC 3.6.4.12) (48 kDa TATA box-binding protein-interacting protein) (48 kDa TBP-interacting protein) (51 kDa erythrocyte cytosolic protein) (ECP-51) (INO80 complex subunit J) (Repressing pontin 52) (Reptin 52) (TIP49b) (TIP60-associated protein 54-beta) (TAP54-beta)\tRUVBL2 INO80J TIP48 TIP49B CGI-46\tHomo sapiens (Human)\t463\tGO:0000492; GO:0000812; GO:0000979; GO:0000980; GO:0003678; GO:0004003; GO:0005524; GO:0005622; GO:0005634; GO:0005654; GO:0005719; GO:0005737; GO:0006281; GO:0006310; GO:0006338; GO:0006351; GO:0006457; GO:0016020; GO:0016363; GO:0031011; GO:0031490; GO:0034644; GO:0035066; GO:0035267; GO:0040008; GO:0042802; GO:0043141; GO:0043967; GO:0043968; GO:0045944; GO:0051082; GO:0070062; GO:0071169; GO:0071339; GO:0071392; GO:0071733; GO:0071899; GO:0097255; GO:1904874\n",
      "Q14432\tPDE3A_HUMAN\treviewed\tcGMP-inhibited 3',5'-cyclic phosphodiesterase A (EC 3.1.4.17) (Cyclic GMP-inhibited phosphodiesterase A) (CGI-PDE A)\tPDE3A\tHomo sapiens (Human)\t1141\tGO:0001556; GO:0004115; GO:0004119; GO:0005829; GO:0006198; GO:0006629; GO:0016021; GO:0016101; GO:0019933; GO:0019934; GO:0030552; GO:0040020; GO:0042493; GO:0043066; GO:0043116; GO:0043117; GO:0046872; GO:0047555; GO:0051591; GO:0060282; GO:0071321; GO:0071560\n",
      "Q9Y371\tSHLB1_HUMAN\treviewed\tEndophilin-B1 (Bax-interacting factor 1) (Bif-1) (SH3 domain-containing GRB2-like protein B1)\tSH3GLB1 KIAA0491 CGI-61\tHomo sapiens (Human)\t365\tGO:0000139; GO:0000421; GO:0005737; GO:0005741; GO:0005913; GO:0006914; GO:0006915; GO:0008289; GO:0010508; GO:0016241; GO:0030496; GO:0031410; GO:0031647; GO:0032461; GO:0032465; GO:0032801; GO:0034198; GO:0042149; GO:0042802; GO:0042803; GO:0048102; GO:0051259; GO:0070062; GO:0090148; GO:0098641; GO:1903527; GO:1903778; GO:1903955; GO:2000786\n",
      "Q6QA69\tABHD5_RAT\treviewed\t1-acylglycerol-3-phosphate O-acyltransferase ABHD5 (EC 2.3.1.51) (Abhydrolase domain-containing protein 5) (Lipid droplet-binding protein CGI-58) (Protein CGI-58)\tAbhd5\tRattus norvegicus (Rat)\t351\tGO:0003841; GO:0005634; GO:0005737; GO:0005811; GO:0005829; GO:0006629; GO:0006631; GO:0006654; GO:0008654; GO:0010891; GO:0010898; GO:0019915; GO:0030154; GO:0042171; GO:0051006; GO:0052689\n"
     ]
    }
   ],
   "source": [
    "!head analyses/taylor/uniprot-cgi_GO.tab"
   ]
  },
  {
   "cell_type": "markdown",
   "metadata": {},
   "source": [
    "![im](https://github.com/Ellior2/Fish-546-Bioinformatics/blob/master/analyses/taylor/Galaxy91.JPG?raw=true)"
   ]
  },
  {
   "cell_type": "markdown",
   "metadata": {},
   "source": [
    "### I then joined this uniprot database the identified proteins from my oyster samples"
   ]
  },
  {
   "cell_type": "markdown",
   "metadata": {},
   "source": [
    "![im](https://github.com/Ellior2/Fish-546-Bioinformatics/blob/master/analyses/taylor/Galaxy92.JPG?raw=true)"
   ]
  },
  {
   "cell_type": "markdown",
   "metadata": {},
   "source": [
    "### I sorted by Replicate name (i.e. Oyster 1, Oyster 2, Oyster 13, and Oyster 14)"
   ]
  },
  {
   "cell_type": "markdown",
   "metadata": {},
   "source": [
    "![im](https://github.com/Ellior2/Fish-546-Bioinformatics/blob/master/analyses/taylor/Galaxy93.JPG?raw=true)\n",
    "![im](https://github.com/Ellior2/Fish-546-Bioinformatics/blob/master/analyses/taylor/Galaxy95.JPG?raw=true)\n",
    "![im](https://github.com/Ellior2/Fish-546-Bioinformatics/blob/master/analyses/taylor/Galaxy96.JPG?raw=true)\n",
    "![im](https://github.com/Ellior2/Fish-546-Bioinformatics/blob/master/analyses/taylor/Galaxy97.JPG?raw=true)"
   ]
  },
  {
   "cell_type": "markdown",
   "metadata": {},
   "source": [
    "### And identified unique GO terms within each replicate"
   ]
  },
  {
   "cell_type": "markdown",
   "metadata": {},
   "source": [
    "![im](https://github.com/Ellior2/Fish-546-Bioinformatics/blob/master/analyses/taylor/Galaxy94.JPG?raw=true)\n",
    "![im](https://github.com/Ellior2/Fish-546-Bioinformatics/blob/master/analyses/taylor/Galaxy98.JPG?raw=true)\n",
    "![im](https://github.com/Ellior2/Fish-546-Bioinformatics/blob/master/analyses/taylor/Galaxy99.JPG?raw=true)\n",
    "![im](https://github.com/Ellior2/Fish-546-Bioinformatics/blob/master/analyses/taylor/Galaxy100.JPG?raw=true)"
   ]
  },
  {
   "cell_type": "markdown",
   "metadata": {
    "collapsed": true
   },
   "source": [
    "### Then I tried to make a Venn Diagram, however you can only put in 3 samples in Galaxy..."
   ]
  },
  {
   "cell_type": "markdown",
   "metadata": {},
   "source": [
    "![im](https://github.com/Ellior2/Fish-546-Bioinformatics/blob/master/analyses/taylor/Galaxy102.JPG?raw=true)"
   ]
  },
  {
   "cell_type": "markdown",
   "metadata": {},
   "source": [
    "### But all of the proteins found within these oyster replicates are the same!"
   ]
  },
  {
   "cell_type": "code",
   "execution_count": null,
   "metadata": {
    "collapsed": true
   },
   "outputs": [],
   "source": []
  }
 ],
 "metadata": {
  "anaconda-cloud": {},
  "kernelspec": {
   "display_name": "Python [default]",
   "language": "python",
   "name": "python3"
  },
  "language_info": {
   "codemirror_mode": {
    "name": "ipython",
    "version": 3
   },
   "file_extension": ".py",
   "mimetype": "text/x-python",
   "name": "python",
   "nbconvert_exporter": "python",
   "pygments_lexer": "ipython3",
   "version": "3.5.2"
  }
 },
 "nbformat": 4,
 "nbformat_minor": 1
}
