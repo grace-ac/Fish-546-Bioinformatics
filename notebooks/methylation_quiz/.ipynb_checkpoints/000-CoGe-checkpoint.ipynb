{
 "cells": [
  {
   "cell_type": "code",
   "execution_count": 2,
   "metadata": {
    "collapsed": false
   },
   "outputs": [
    {
     "name": "stdout",
     "output_type": "stream",
     "text": [
      "C:\\Users\\rhondae\\Documents\\Github\\Fish-546-Bioinformatics\\data\\methylation_quiz\n"
     ]
    }
   ],
   "source": [
    "cd C:/Users/rhondae/Documents/Github/Fish-546-Bioinformatics/data/methylation_quiz"
   ]
  },
  {
   "cell_type": "markdown",
   "metadata": {},
   "source": [
    "In this notebook I will be analyzing DNA methylation data from a single oyster. Once I find a highly methylated site in the [data](http://owl.fish.washington.edu/nightingales/O_lurida/20160203_mbdseq/zr1394_17_s6_R1.fastq.gz) provided by Dr. Roberts I will use blast to identify a sequence in the Pacific oyster that is related."
   ]
  },
  {
   "cell_type": "markdown",
   "metadata": {},
   "source": [
    "I went to the CoGe website and following the [tutorial](https://github.com/sr320/student-fish546-2016/blob/master/docs/images/CoGe-Bismark-01.gif?raw=true)\n",
    "\n",
    "The following are screen shots of the output files I got from CoGe\n",
    "\n",
    "1) [BAM](https://github.com/Ellior2/Fish-546-Bioinformatics/blob/master/analyses/methylation_quiz/BAM.PNG)\n",
    "\n",
    "2) [CHG](https://github.com/Ellior2/Fish-546-Bioinformatics/blob/master/analyses/methylation_quiz/CHG.PNG)\n",
    "\n",
    "3) [CHH](https://github.com/Ellior2/Fish-546-Bioinformatics/blob/master/analyses/methylation_quiz/CHH.PNG)\n",
    "\n",
    "4) [COGE](https://github.com/Ellior2/Fish-546-Bioinformatics/blob/master/analyses/methylation_quiz/CHG.PNG)\n",
    "\n",
    "5) [CPG](https://github.com/Ellior2/Fish-546-Bioinformatics/blob/master/analyses/methylation_quiz/CPG.PNG)\n",
    "\n",
    "6) [NB](https://github.com/Ellior2/Fish-546-Bioinformatics/blob/master/analyses/methylation_quiz/NB.PNG)\n",
    "\n"
   ]
  },
  {
   "cell_type": "code",
   "execution_count": 3,
   "metadata": {
    "collapsed": false
   },
   "outputs": [
    {
     "name": "stdout",
     "output_type": "stream",
     "text": [
      " Volume in drive C is TI106401W0D\n",
      " Volume Serial Number is D00E-CD8F\n",
      "\n",
      " Directory of C:\\Users\\rhondae\\Documents\\Github\\Fish-546-Bioinformatics\\data\\methylation_quiz\n",
      "\n",
      "11/06/2016  06:18 PM    <DIR>          .\n",
      "11/06/2016  06:18 PM    <DIR>          ..\n",
      "11/06/2016  06:42 PM    <DIR>          experiment_9235\n",
      "11/06/2016  06:09 PM    <DIR>          experiment_9236\n",
      "11/06/2016  06:09 PM    <DIR>          experiment_9237\n",
      "11/06/2016  06:09 PM    <DIR>          experiment_9238\n",
      "11/06/2016  06:07 PM         3,867,785 experiment_Sample-17_BAM_alignment.tar.gz\n",
      "11/06/2016  06:07 PM           194,363 experiment_Sample-17_CHG_methylation.tar.gz\n",
      "11/06/2016  06:08 PM           603,034 experiment_Sample-17_CHH_methylation.tar.gz\n",
      "11/06/2016  06:08 PM           252,040 experiment_Sample-17_CpG_methylation.tar.gz\n",
      "11/06/2016  06:18 PM         3,863,440 Galaxy60-[alignment.bam].bam\n",
      "               5 File(s)      8,780,662 bytes\n",
      "               6 Dir(s)  460,389,949,440 bytes free\n"
     ]
    }
   ],
   "source": [
    "ls"
   ]
  },
  {
   "cell_type": "code",
   "execution_count": null,
   "metadata": {
    "collapsed": true
   },
   "outputs": [],
   "source": [
    "TCCAAAATACGATAATCACCCCAAAATACGATAATCTACGCC"
   ]
  },
  {
   "cell_type": "code",
   "execution_count": 4,
   "metadata": {
    "collapsed": false
   },
   "outputs": [
    {
     "name": "stdout",
     "output_type": "stream",
     "text": [
      ">Column1\n",
      "Column3\n",
      ">CU995582.p.cg.6\n",
      "GAAGAGCTCAGTGTTCAGATGACAGAGTTTGGATTCCGACGGGTAAAAAAGACGGACGATGGTTCCTATGGCAGAGTTTCCAAAGACCCGTCACAGTGTAGTGTCAGATCGCTGTTATTTCACAAATCTGGCTCACTGTCAGCCAATTGGACTCCCAAGTTTGACGGTGACGTAAGACCACGAGCAGGCCTCGTTTTCGTGGAGCCCAAACTTTACAACGAGTATCTAAAAGAAGAGGCCCAAGTACGTCATCAGACCGCCATGATGGCGCGTAGTCGTTCCACTAACATCAACACATTAGAGGACGATGCCACGGTTCTAGAAACCGTAGAAACGTGACAAATGGAAACAGTGTAGTTGTTTAGTTTTCATGTTCAAGTTTGCAATTGTTTAAATGTACCAATTGCGTGTAAATCACTATATGACGTCATTTCTAAGTAATACTCAAACTCTGACAATTATCAAATTGAGGATGGGTCAATGTTTGTAACTTGAATGACAAAATCAAACCTTGAAAATAATACTAGGAAATTAATTTATTCATTTTGTTTGTCAGTCTTGATTGGGAAAATTCAAGATTGCCCTGTTCTTAGTTTATCACATTGACATTATACATGAATGGTTTCTACTTATTTAAATTCTCATGCTGGTTGTTTTTTATAATTATTTATCTATGCTGTAACATTCCAATGTTAGGAAATCTCCACGAATCTAGACTTTGATAAGCCCCCTTCTTTCCACTACATCCTCTAGAACCTTACAAGAGGTTATCTATCCCTTCCCTTTAACTAGGAGGAAATGTGTGTAAATAAACTGGTGCCCCAACCTGTAGTTGTGCCTGTTCTACCAAAGTTAAATAGCACCTCCTAAATTTTCCAATGGTATAATTTAATAAATTTCCTTTAAACCCCCGGTTTCCAAATGGCCTTGGGCCCTCCATTTTTCCCTATAATAAGGACCCGGGTTGGCCTTTGGTCCTTCCCCCCCCAAAAATTGGTAACTTTTTCCCCTCCTAAAAAACAAAGTTCACCTCCTGGAATTTAACAATCCACTCCCCCGGGTTTTTCCCTTTTTAAAAATATAAAAAACAAG\n",
      ">AM862909.p.cg.6\n",
      "GGTAGGAAAATGTTGAATATTGTTTATATTAACTATTGAACAATACCAGTTAAGAAAGAGACCATTGCATGTAACAATTTCATTATTTGGAAAACAACGGACTAATTATTTTTCTTTTAACTTTCTCGTACAAATTGCATACAGGAAGTTAATACCGCCACAGTAACACGGGAGGTAACTCGTGATACACGTTCAATCTCAAAAAGTTATCTGAAGTAAACGCACATACATATTATAGCACTGAAGTATTTCAATCATTTTTGTTTGATATAACTAGTAAAGTTAACATAATTAGATGGTTGATTATACGCAAAGTGATGTTATATATATTTAACGACTGAAGAATTGCAACAACATTAAAACTTAACTAATCTTTAAATTTATTATCAACCATGGTAGGGAAAACCAACCTTCTACGCTCTACTAATGTCATTTTCAGACATTATCATGACATGTACCAGATGAAATACTACATACAAAAAAATAGAAAACCAACAATTTTTTGGTTTACATTCAGAAAATAATATCTGTAAATTGTTAAAATAAAGTAACATGTTAGTTTCTTATGTAGAATAATAATTTTCCACATTTCTTT\n",
      ">CU991229.p.cg.6\n",
      "GGATTGTAAGACAGAATATGAATGCCAGATCTCGACTGGAATCTCAAAGAGAAGAGATATTTCGATACATAAAGAAGTCGTCAGAGAGTCATCACATGGAGGCCCGACTACTGAAAGAGGACCTTCATGGATTTGTGAACAAAGAAGTGGACAAGTTCGCCTCTCTAGACCTCCCTCAGCTCCTGTTCTGTGATTCCTCTGACAGGGCTCTTAAAGTAGCTGTCACAGACATGTCCATACACCAGACTGGTGCCCTGACTGCACGGGAGGCCATGAACCAAGTTCTTCATCGTCTCGACTTCAGAGCTTTTCAGGCCCCAGAGCTGCTAGTGTGGAGCTGTATAGAATTAAAAAGAAAAATCCAAAAACTGCAGAAATTGTCTGCCCCACTGAAAATACATGACCAGGATGGAGAGAGCATAAAACAGATTGCAGGACTGTGTGAGAGAGTTAAGGATCAAGACAAGGCTCTGTTGGAGAGGACTCTACCAGTGTTACAGCAGAGGCTACACAAAACAGGGGCCGCCCTAACGGACTGTAGTATGGTGTCAGAGAGGATTCAGGAATGGTGGGAACAACCAGCCCAGCATACCGCGCCCTGGGTCAAAGTGGACCAGAACACCCTCCAACAGTGGCACACCAGGTGGACCGTCCTGTCTACTAAATACAGGCAGCTCCTGCTGCAGAAATCTTAAACAATTGTTGCAGCATACATGTACTCCCTAAAGATTAGAACAGCAGACATAGGCATACCCATCTGTATCATGTCTAGTAGCTATTGCCCTTGAATTATTAGGAATTAAAAAGATACAGGTGATAAATAAATGTATCAGTGTATGTATGGTTGTAGTTATATATTAAAATATTTGTACAAAAGTATTTAAGACCCCTAAGAAATTTGAAGTTTAGGTTAACTTTTTAAAATGGAAACGAATCATTATAATAAGAATGGCTCCTGCTTTGAAACAGCAAACTTTCTTATTTATTCAAAAAAAGTTTTTGACCGAATTGGGTATTTTTCCATTTGGGCTTTTTAAAAAACATAATTCTTTTTATTTTAAAATACAAAAGGTTGCCTTTTTTGGAAGGGGGGGACATTGATTAAATTTAAAAATTTTTCCAAAAACCTTTTAAAAAAACCAAAAAATTTTCCCTTGTGTTTTTTTATAAAAATGTGTTGAAAAACCCCCCTTTTTTTCCCTGCCTCTTTTGGTGGGGGGGAAAAAAAAA\n",
      ">AM863560.p.cg.6\n",
      "TTCGCACCAGAAGCAGTTTGATTTTATATATCTCAAATATACAGGCACCATGTCTTACAGAGACTTGAGAAATTTCACGGAGATGATGAGGGCCTTGGGATATCCAAGACTAATCTCCATGGAAAATTTTAGAAACCCCAACTTTCCTTTAGTTGCAGAAGTAATGCGATGGCTTGTCAAAAGATATGACCCGAATGCTGACATTCATTGTGACATCGACACAGACCAAGACAGAGTCATTTTTATAAAAACTGTGGCAGAATTCATGCACACAAAAGCCCATATCAAGATGAACACAAAGAAGTTATACCAGTCTGATGGGTATGCTGTTAAGGAGATGCTGAAGGTTACCTCCATGTTGTACAATGCCATGAAGACCAACTCATCCAGCCAGTCAGAGACTGACAATGAAGACGACTCATCACATCTTTCATTTGATATCTCATCAAAGATTAATGATTTAAAAGAAGCAAGAAGACTGGCATCAGAAATAACCACCAAAGGAGCAACTTTATATGATCTTTTNAGGCAAGAAGTGGACCTAAGGGAGCAAAGATCCATT\n"
     ]
    }
   ],
   "source": [
    "!head ../../data/seastar/Fastafile_Microarray.txt"
   ]
  },
  {
   "cell_type": "code",
   "execution_count": 5,
   "metadata": {
    "collapsed": false
   },
   "outputs": [
    {
     "name": "stdout",
     "output_type": "stream",
     "text": [
      "\n",
      "\n",
      "Building a new DB, current time: 11/10/2016 11:16:00\n",
      "New DB name:   C:\\Users\\rhondae\\Documents\\Github\\Fish-546-Bioinformatics\\data\\methylation_quiz\\microarray_db\n",
      "New DB title:  ../../data/seastar/Fastafile_Microarray.txt\n",
      "Sequence type: Nucleotide\n",
      "Keep MBits: T\n",
      "Maximum file size: 1000000000B\n",
      "Adding sequences from FASTA; added 31919 sequences in 20.8221 seconds.\n"
     ]
    },
    {
     "name": "stderr",
     "output_type": "stream",
     "text": [
      "FASTA-Reader: Ignoring invalid residues at position(s): On line 2: 2-3, 7\n"
     ]
    }
   ],
   "source": [
    "!C:/Users/rhondae/Desktop/blast-2.5.0+/bin/makeblastdb \\\n",
    "-in ../../data/seastar/Fastafile_Microarray.txt \\\n",
    "-dbtype nucl \\\n",
    "-out microarray_db \\"
   ]
  },
  {
   "cell_type": "code",
   "execution_count": null,
   "metadata": {
    "collapsed": true
   },
   "outputs": [],
   "source": [
    "!C:/Users/rhondae/Desktop/blast-2.5.0+/bin/blastx \\\n",
    "-query \n",
    "-db AKZP01.fasta.database \\\n",
    "-out blastoutputAKZP01.txt \\\n",
    "-evalue 1E-05 \\\n",
    "-max_target_seqs 1 \\\n",
    "-max_hsps 1 \\\n",
    "-outfmt 6 \\\n",
    "-num_threads 8"
   ]
  }
 ],
 "metadata": {
  "anaconda-cloud": {},
  "kernelspec": {
   "display_name": "Python [default]",
   "language": "python",
   "name": "python3"
  },
  "language_info": {
   "codemirror_mode": {
    "name": "ipython",
    "version": 3
   },
   "file_extension": ".py",
   "mimetype": "text/x-python",
   "name": "python",
   "nbconvert_exporter": "python",
   "pygments_lexer": "ipython3",
   "version": "3.5.2"
  }
 },
 "nbformat": 4,
 "nbformat_minor": 1
}
