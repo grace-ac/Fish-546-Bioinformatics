{
 "cells": [
  {
   "cell_type": "code",
   "execution_count": 11,
   "metadata": {
    "collapsed": false
   },
   "outputs": [
    {
     "name": "stdout",
     "output_type": "stream",
     "text": [
      "C:\\Users\\rhondae\\Documents\\Github\\Fish-546-Bioinformatics\n"
     ]
    }
   ],
   "source": [
    "cd C:/Users/rhondae/Documents/Github/Fish-546-Bioinformatics"
   ]
  },
  {
   "cell_type": "markdown",
   "metadata": {},
   "source": [
    "In this notebook I will be analyzing DNA methylation data from a single oyster. Once I find a highly methylated site in the [data](http://owl.fish.washington.edu/nightingales/O_lurida/20160203_mbdseq/zr1394_17_s6_R1.fastq.gz) provided by Dr. Roberts I will use blast to identify a sequence in the Pacific oyster that is related."
   ]
  },
  {
   "cell_type": "markdown",
   "metadata": {},
   "source": [
    "I went to the CoGe website and created a new experiment using the button on the left.\n",
    "\n",
    "I entered in my sample name: Sample-17, version: v1, Source: Roberts Lab, and the Genome: Ostrea lurida (v0.0.2, id28863): scaffolds\n",
    "\n",
    "![image](https://github.com/Ellior2/Fish-546-Bioinformatics/blob/master/data/methylation_quiz/newexp.PNG?raw=true)\n",
    "\n",
    "Then I selected the tab FTP/HTTP and copy and pasted the link of the data \n",
    "http://owl.fish.washington.edu/nightingales/O_lurida/20160203_mbdseq/zr1394_17_s6_R1.fastq.gz into the URL field:\n",
    "\n",
    "![image](https://github.com/Ellior2/Fish-546-Bioinformatics/blob/master/data/methylation_quiz/newexp2.PNG?raw=true)"
   ]
  },
  {
   "cell_type": "markdown",
   "metadata": {},
   "source": [
    "Then I changed a few things from the default settings:\n",
    "\n",
    "1) Alignment: Bismark (methylation)\n",
    "\n",
    "2) Select Methylation Analysis\n",
    "\n",
    "3) Add results to notebook and then create new notebook"
   ]
  },
  {
   "cell_type": "markdown",
   "metadata": {},
   "source": [
    "The following are screen shots of the 5 output files I got from CoGe\n",
    "\n",
    "1) Here is my BAM file\n",
    "![image](https://github.com/Ellior2/Fish-546-Bioinformatics/blob/master/analyses/methylation_quiz/BAM.PNG?raw=true)\n",
    "\n",
    "2) Here is my CHG file\n",
    "![image](https://github.com/Ellior2/Fish-546-Bioinformatics/blob/master/analyses/methylation_quiz/CHG.PNG?raw=true)\n",
    "\n",
    "3) Here is my CHH file\n",
    "![image](https://github.com/Ellior2/Fish-546-Bioinformatics/blob/master/analyses/methylation_quiz/CHH.PNG?raw=true)\n",
    "\n",
    "4) Here is my CPG file\n",
    "![image](https://github.com/Ellior2/Fish-546-Bioinformatics/blob/master/analyses/methylation_quiz/CPG.PNG?raw=true)\n",
    "\n",
    "5) Here is my NB file\n",
    "![image](https://github.com/Ellior2/Fish-546-Bioinformatics/blob/master/analyses/methylation_quiz/NB.PNG?raw=true)\n"
   ]
  },
  {
   "cell_type": "markdown",
   "metadata": {},
   "source": [
    "Here is my CoGe file\n",
    "![image](https://github.com/Ellior2/Fish-546-Bioinformatics/blob/master/analyses/methylation_quiz/COGE.PNG?raw=true)"
   ]
  },
  {
   "cell_type": "code",
   "execution_count": 22,
   "metadata": {
    "collapsed": false
   },
   "outputs": [
    {
     "name": "stdout",
     "output_type": "stream",
     "text": [
      " Volume in drive C is TI106401W0D\n",
      " Volume Serial Number is D00E-CD8F\n",
      "\n",
      " Directory of C:\\Users\\rhondae\\Documents\\Github\\Fish-546-Bioinformatics\n",
      "\n",
      "11/05/2016  11:02 AM    <DIR>          .\n",
      "11/05/2016  11:02 AM    <DIR>          ..\n",
      "11/02/2016  02:18 PM               108 .gitignore\n",
      "11/06/2016  06:09 PM    <DIR>          analyses\n",
      "11/06/2016  06:07 PM    <DIR>          data\n",
      "11/10/2016  10:56 AM    <DIR>          notebooks\n",
      "11/05/2016  11:02 AM             3,554 README.md\n",
      "11/02/2016  02:18 PM    <DIR>          scripts\n",
      "               2 File(s)          3,662 bytes\n",
      "               6 Dir(s)  460,925,923,328 bytes free\n"
     ]
    }
   ],
   "source": [
    "ls"
   ]
  },
  {
   "cell_type": "markdown",
   "metadata": {},
   "source": [
    "I was able to look at the reads using the drop down menu on the right.\n",
    "\n",
    "![image](https://github.com/Ellior2/Fish-546-Bioinformatics/blob/master/data/methylation_quiz/methylationsites.PNG?raw=true)"
   ]
  },
  {
   "cell_type": "markdown",
   "metadata": {},
   "source": [
    "The following read looked like it had high methylation\n",
    "\n",
    "HWI-C00124:164:C7URDANXX:3:2111:8963:15105_1:N:0:GTCCGC\n",
    "scaffold77:65385..65434 (-)\n",
    "    \n",
    "With sequence: \n",
    "    ACTCCAAAATACGATAATCGCCCCAAAATACGATAATCTACGCCAAACCC\n",
    "    \n",
    "![image](https://github.com/Ellior2/Fish-546-Bioinformatics/blob/master/data/methylation_quiz/scaffold77.PNG?raw=true)"
   ]
  },
  {
   "cell_type": "markdown",
   "metadata": {},
   "source": [
    "So I used Blastn (Nucleotide to Nucleotide) on the NCBI website to blast this methylated sequence against the _Crassostrea gigas_ and I selected the organism I am studying: Pacific oyster (taxid:29159). I tried the option: Optimize for Highly similar sequences (megablast).\n",
    "\n",
    "![image](https://github.com/Ellior2/Fish-546-Bioinformatics/blob/master/data/methylation_quiz/megablast.PNG?raw=true)\n",
    "\n",
    "No results!"
   ]
  },
  {
   "cell_type": "markdown",
   "metadata": {},
   "source": [
    "Then I tried the option: Somewhat similar sequences (blastn) \n",
    "\n",
    "![image](https://github.com/Ellior2/Fish-546-Bioinformatics/blob/master/data/methylation_quiz/Blastn.PNG?raw=true)\n",
    "![image](https://github.com/Ellior2/Fish-546-Bioinformatics/blob/master/data/methylation_quiz/Blastn2.PNG?raw=true)"
   ]
  }
 ],
 "metadata": {
  "anaconda-cloud": {},
  "kernelspec": {
   "display_name": "Python [default]",
   "language": "python",
   "name": "python3"
  },
  "language_info": {
   "codemirror_mode": {
    "name": "ipython",
    "version": 3
   },
   "file_extension": ".py",
   "mimetype": "text/x-python",
   "name": "python",
   "nbconvert_exporter": "python",
   "pygments_lexer": "ipython3",
   "version": "3.5.2"
  }
 },
 "nbformat": 4,
 "nbformat_minor": 1
}
