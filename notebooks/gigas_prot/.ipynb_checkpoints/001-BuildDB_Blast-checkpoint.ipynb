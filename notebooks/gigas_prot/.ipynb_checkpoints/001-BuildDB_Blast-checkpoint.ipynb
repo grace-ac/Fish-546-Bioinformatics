{
 "cells": [
  {
   "cell_type": "code",
   "execution_count": null,
   "metadata": {
    "collapsed": true
   },
   "outputs": [],
   "source": [
    "!date"
   ]
  },
  {
   "cell_type": "code",
   "execution_count": 4,
   "metadata": {
    "collapsed": false
   },
   "outputs": [
    {
     "name": "stdout",
     "output_type": "stream",
     "text": [
      "\n",
      "Host Name:                 KATIES-LP\n",
      "OS Name:                   Microsoft Windows 10 Pro\n",
      "OS Version:                10.0.14393 N/A Build 14393\n",
      "OS Manufacturer:           Microsoft Corporation\n",
      "OS Configuration:          Member Workstation\n",
      "OS Build Type:             Multiprocessor Free\n",
      "Registered Owner:          od\n",
      "Registered Organization:   Toshiba\n",
      "Product ID:                00330-80000-00000-AA939\n",
      "Original Install Date:     9/26/2016, 8:27:13 AM\n",
      "System Boot Time:          10/31/2016, 3:04:46 PM\n",
      "System Manufacturer:       TOSHIBA\n",
      "System Model:              Satellite S855\n",
      "System Type:               x64-based PC\n",
      "Processor(s):              1 Processor(s) Installed.\n",
      "                           [01]: Intel64 Family 6 Model 42 Stepping 7 GenuineIntel ~2501 Mhz\n",
      "BIOS Version:              Insyde Corp. 6.70, 4/22/2013\n",
      "Windows Directory:         C:\\WINDOWS\n",
      "System Directory:          C:\\WINDOWS\\system32\n",
      "Boot Device:               \\Device\\HarddiskVolume1\n",
      "System Locale:             en-us;English (United States)\n",
      "Input Locale:              en-us;English (United States)\n",
      "Time Zone:                 (UTC-08:00) Pacific Time (US & Canada)\n",
      "Total Physical Memory:     6,037 MB\n",
      "Available Physical Memory: 2,282 MB\n",
      "Virtual Memory: Max Size:  12,181 MB\n",
      "Virtual Memory: Available: 7,815 MB\n",
      "Virtual Memory: In Use:    4,366 MB\n",
      "Page File Location(s):     C:\\pagefile.sys\n",
      "Domain:                    corp.taylorunited.com\n",
      "Logon Server:              \\\\TAYLORADCV\n",
      "Hotfix(s):                 7 Hotfix(s) Installed.\n",
      "                           [01]: KB3176935\n",
      "                           [02]: KB3176936\n",
      "                           [03]: KB3176937\n",
      "                           [04]: KB3199209\n",
      "                           [05]: KB3199986\n",
      "                           [06]: KB3201860\n",
      "                           [07]: KB3197954\n",
      "Network Card(s):           2 NIC(s) Installed.\n",
      "                           [01]: Realtek RTL8188CE Wireless LAN 802.11n PCI-E NIC\n",
      "                                 Connection Name: Wi-Fi\n",
      "                                 DHCP Enabled:    Yes\n",
      "                                 DHCP Server:     10.0.0.1\n",
      "                                 IP address(es)\n",
      "                                 [01]: 10.0.0.105\n",
      "                                 [02]: fe80::d89e:60c2:4c72:3d15\n",
      "                                 [03]: 2601:600:8f00:ce23:a09b:937e:7ec3:1241\n",
      "                                 [04]: 2601:600:8f00:ce23:d89e:60c2:4c72:3d15\n",
      "                           [02]: Qualcomm Atheros AR8161 PCI-E Gigabit Ethernet Controller (NDIS 6.30)\n",
      "                                 Connection Name: Local Area Connection\n",
      "                                 Status:          Media disconnected\n",
      "Hyper-V Requirements:      VM Monitor Mode Extensions: Yes\n",
      "                           Virtualization Enabled In Firmware: Yes\n",
      "                           Second Level Address Translation: Yes\n",
      "                           Data Execution Prevention Available: Yes\n"
     ]
    }
   ],
   "source": [
    "!systeminfo"
   ]
  },
  {
   "cell_type": "code",
   "execution_count": null,
   "metadata": {
    "collapsed": true
   },
   "outputs": [],
   "source": [
    "!makeblastdb -help"
   ]
  },
  {
   "cell_type": "code",
   "execution_count": 1,
   "metadata": {
    "collapsed": false
   },
   "outputs": [
    {
     "name": "stdout",
     "output_type": "stream",
     "text": [
      "C:\\Users\\rhondae\\Documents\\Github\\Fish-546-Bioinformatics\\data\\gigas_prot\n"
     ]
    }
   ],
   "source": [
    "cd C:/Users/rhondae/Documents/Github/Fish-546-Bioinformatics/data/gigas_prot"
   ]
  },
  {
   "cell_type": "markdown",
   "metadata": {},
   "source": [
    "Making uniprot_sprot1 database using the fasta uniprot_sprot file that I downloaded already during the blast tutorial"
   ]
  },
  {
   "cell_type": "code",
   "execution_count": 26,
   "metadata": {
    "collapsed": false
   },
   "outputs": [
    {
     "name": "stdout",
     "output_type": "stream",
     "text": [
      "\n",
      "\n",
      "Building a new DB, current time: 10/18/2016 16:09:26\n",
      "New DB name:   C:\\Users\\rhondae\\Documents\\Github\\Fish-546-Bioinformatics\\uniprot_sprot1\n",
      "New DB title:  uniprot_sprot.fasta\n",
      "Sequence type: Protein\n",
      "Deleted existing Protein BLAST database named C:\\Users\\rhondae\\Documents\\Github\\Fish-546-Bioinformatics\\uniprot_sprot1\n",
      "Keep MBits: T\n",
      "Maximum file size: 1000000000B\n",
      "Adding sequences from FASTA; added 552259 sequences in 243.894 seconds.\n"
     ]
    }
   ],
   "source": [
    "!C:/Users/rhondae/Desktop/blast-2.5.0+/bin/makeblastdb \\\n",
    "-in uniprot_sprot.fasta \\\n",
    "-dbtype prot \\\n",
    "-out uniprot_sprot1"
   ]
  },
  {
   "cell_type": "code",
   "execution_count": 29,
   "metadata": {
    "collapsed": false
   },
   "outputs": [
    {
     "name": "stdout",
     "output_type": "stream",
     "text": [
      ">sp|Q6GZX4|001R_FRG3G Putative transcription factor 001R OS=Frog virus 3 (isolate Goorha) GN=FV3-001R PE=4 SV=1\n",
      "MAFSAEDVLKEYDRRRRMEALLLSLYYPNDRKLLDYKEWSPPRVQVECPKAPVEWNNPPS\n",
      "EKGLIVGHFSGIKYKGEKAQASEVDVNKMCCWVSKFKDAMRRYQGIQTCKIPGKVLSDLD\n",
      "AKIKAYNLTVEGVEGFVRYSRVTKQHVAAFLKELRHSKQYENVNLIHYILTDKRVDIQHL\n",
      "EKDLVKDFKALVESAHRMRQGHMINVKYILYQLLKKHGHGPDGPDILTVKTGSKGVLYDD\n",
      "SFRKIYTDLGWKFTPL\n",
      ">sp|Q6GZX3|002L_FRG3G Uncharacterized protein 002L OS=Frog virus 3 (isolate Goorha) GN=FV3-002L PE=4 SV=1\n",
      "MSIIGATRLQNDKSDTYSAGPCYAGGCSAFTPRGTCGKDWDLGEQTCASGFCTSQPLCAR\n",
      "IKKTQVCGLRYSSKGKDPLVSAEWDSRGAPYVRCTYDADLIDTQAQVDQFVSMFGESPSL\n",
      "AERYCMRGVKNTAGELVSRVSSDADPAGGWCRKWYSAHRGPDQDAALGSFCIKNPGAADC\n"
     ]
    }
   ],
   "source": [
    "!head uniprot_sprot.fasta"
   ]
  },
  {
   "cell_type": "markdown",
   "metadata": {},
   "source": [
    "I executed a blastp which is a protein-protein blast. This program when given a protein query, will return the most similar protein sequences from the protein database I have selected. "
   ]
  },
  {
   "cell_type": "markdown",
   "metadata": {},
   "source": [
    "To target one sequence I inserted the following arguement max_target_seqs 1"
   ]
  },
  {
   "cell_type": "code",
   "execution_count": null,
   "metadata": {
    "collapsed": true
   },
   "outputs": [],
   "source": [
    "!C:/Users/rhondae/Desktop/blast-2.5.0+/bin/blastp \\\n",
    "-query contigs.fasta.transdecoder.pep \\\n",
    "-db uniprot_sprot1 \\\n",
    "-evalue 1e-5 \\\n",
    "-max_target_seqs 1 \\\n",
    "-max_hsps 1 \\\n",
    "-outfmt 6 \\\n",
    "-num_threads 16 \\\n",
    "> blastoutput4.txt"
   ]
  },
  {
   "cell_type": "markdown",
   "metadata": {},
   "source": [
    "In notebook [002](http://localhost:8888/notebooks/Documents/GitHub/Fish-546-Bioinformatics/notebooks/gigas_prot/002-MergeUniprot.ipynb) I will modify the blastoutput4.txt in Galaxy and merge with Uniprot database with entry name, protein name, gene name, organism, and length."
   ]
  }
 ],
 "metadata": {
  "anaconda-cloud": {},
  "kernelspec": {
   "display_name": "Python [default]",
   "language": "python",
   "name": "python3"
  },
  "language_info": {
   "codemirror_mode": {
    "name": "ipython",
    "version": 3
   },
   "file_extension": ".py",
   "mimetype": "text/x-python",
   "name": "python",
   "nbconvert_exporter": "python",
   "pygments_lexer": "ipython3",
   "version": "3.5.2"
  }
 },
 "nbformat": 4,
 "nbformat_minor": 1
}
