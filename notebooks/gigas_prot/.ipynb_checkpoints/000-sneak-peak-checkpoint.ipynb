{
 "cells": [
  {
   "cell_type": "code",
   "execution_count": 4,
   "metadata": {
    "collapsed": false
   },
   "outputs": [
    {
     "name": "stdout",
     "output_type": "stream",
     "text": [
      "C:\\Users\\rhondae\\Documents\\UW_Fall_2016\\Bioinformatics\n"
     ]
    }
   ],
   "source": [
    "cd C:\\Users\\rhondae\\Documents\\UW_Fall_2016\\Bioinformatics\\"
   ]
  },
  {
   "cell_type": "markdown",
   "metadata": {},
   "source": [
    "This Pacific oyster (_Crassostrea gigas_) dataset is from [Gigaton](http://gigaton.sigenae.org/ngspipelines/#!/NGSpipelines/Crassostrea gigas - GIGATON). It was downloaded 10/13/2016 at 5:16PM"
   ]
  },
  {
   "cell_type": "markdown",
   "metadata": {},
   "source": [
    "Downloaded data using !curl from Gigaton website"
   ]
  },
  {
   "cell_type": "code",
   "execution_count": 7,
   "metadata": {
    "collapsed": false,
    "scrolled": false
   },
   "outputs": [
    {
     "name": "stderr",
     "output_type": "stream",
     "text": [
      "  % Total    % Received % Xferd  Average Speed   Time    Time     Time  Current\n",
      "                                 Dload  Upload   Total   Spent    Left  Speed\n",
      "\n",
      "  0     0    0     0    0     0      0      0 --:--:-- --:--:-- --:--:--     0\n",
      "  0 11.7M    0 31063    0     0  34285      0  0:06:00 --:--:--  0:06:00 34863\n",
      "  1 11.7M    1  144k    0     0  75133      0  0:02:44  0:00:01  0:02:43 75710\n",
      "  2 11.7M    2  325k    0     0   115k      0  0:01:44  0:00:02  0:01:42  116k\n",
      "  6 11.7M    6  826k    0     0   214k      0  0:00:56  0:00:03  0:00:53  215k\n",
      " 19 11.7M   19 2369k    0     0   489k      0  0:00:24  0:00:04  0:00:20  490k\n",
      " 35 11.7M   35 4241k    0     0   729k      0  0:00:16  0:00:05  0:00:11  858k\n",
      " 50 11.7M   50 6081k    0     0   894k      0  0:00:13  0:00:06  0:00:07 1229k\n",
      " 65 11.7M   65 7858k    0     0  1007k      0  0:00:11  0:00:07  0:00:04 1511k\n",
      " 80 11.7M   80 9715k    0     0  1100k      0  0:00:10  0:00:08  0:00:02 1788k\n",
      " 95 11.7M   95 11.2M    0     0  1170k      0  0:00:10  0:00:09  0:00:01 1837k\n",
      "100 11.7M  100 11.7M    0     0  1197k      0  0:00:10  0:00:10 --:--:-- 1834k\n"
     ]
    }
   ],
   "source": [
    "!curl http://gigaton.sigenae.org/ngspipelines/data/dcc6581978/analysis/f78867df95/contigs.fasta.transdecoder.pep.gz \\\n",
    "> C:\\Users\\rhondae\\Documents\\UW_Fall_2016\\Bioinformatics\\contigs.fasta.transdecoder.pep.gz"
   ]
  },
  {
   "cell_type": "markdown",
   "metadata": {},
   "source": [
    "Unzipping gz file "
   ]
  },
  {
   "cell_type": "code",
   "execution_count": 10,
   "metadata": {
    "collapsed": false,
    "scrolled": true
   },
   "outputs": [
    {
     "name": "stderr",
     "output_type": "stream",
     "text": [
      "gzip: C:\\Users\\rhondae\\Documents\\UW_Fall_2016\\Bioinformatics\\contigs.fasta.transdecoder.pep already exists;\tnot overwritten\n"
     ]
    }
   ],
   "source": [
    "!gzip -d C:\\Users\\rhondae\\Documents\\UW_Fall_2016\\Bioinformatics\\contigs.fasta.transdecoder.pep.gz "
   ]
  },
  {
   "cell_type": "code",
   "execution_count": 5,
   "metadata": {
    "collapsed": false
   },
   "outputs": [
    {
     "name": "stdout",
     "output_type": "stream",
     "text": [
      ">CHOYP_043R.1.5|m.16874 CHOYP_043R.1.5|g.16874  ORF CHOYP_043R.1.5|g.16874 CHOYP_043R.1.5|m.16874 type:internal len:199 (-) CHOYP_043R.1.5:1-594(-)\n",
      "TPSGPTPSGPTPSVTPTPSGPTPSVTPTPSGSTPSGPTPSVTPTPSGPTPSGPTPSVTPT\n",
      "PSGPTPSVTPTPSVPTPSGPTPSVTPTPSGPTPSVTPTPSGPTPSGPTPSVTPTPSGPTP\n",
      "SGPTPSVTPTPSVTPTPSGPTPSVTSTPSAPTPSGPTPSGPTPSVTPTPSGPTPSGPTPS\n",
      "VTPTPSGPTPSVTPTPSG\n",
      ">CHOYP_043R.5.5|m.64252 CHOYP_043R.5.5|g.64252  ORF CHOYP_043R.5.5|g.64252 CHOYP_043R.5.5|m.64252 type:internal len:821 (+) CHOYP_043R.5.5:2-2461(+)\n",
      "SRPTPSVTPTPSGPTPSVTPTPSVSTPSGPTPSVTPTPSGPSPSVTPTPSGPSPSGPTPS\n",
      "ATPTPSGPTPSGTTPSGSTPSATITTISTPSTTVCSYVDIGPEQAIDVSLRSPSEDPDAP\n",
      "IENILQTNSVYKPKKEPTYDENVVVKIISQDTPTILRVSFTVNRADTVGLEYLTDYKQKI\n",
      "ITQNNETVEFVFAAGIITDNFTINIRSDSAEQPEISNLKIRACYKPVIGQPSTTTPNPSI\n"
     ]
    }
   ],
   "source": [
    "!head contigs.fasta.transdecoder.pep"
   ]
  },
  {
   "cell_type": "markdown",
   "metadata": {
    "collapsed": true
   },
   "source": [
    "I entered these protein sequences into NCBI Blastp to get an idea of what I was looking at. Appears these two proteins listed above are associated with nacre (inner shell layer) production in bivalves. Very cool!"
   ]
  }
 ],
 "metadata": {
  "anaconda-cloud": {},
  "kernelspec": {
   "display_name": "Python [default]",
   "language": "python",
   "name": "python3"
  },
  "language_info": {
   "codemirror_mode": {
    "name": "ipython",
    "version": 3
   },
   "file_extension": ".py",
   "mimetype": "text/x-python",
   "name": "python",
   "nbconvert_exporter": "python",
   "pygments_lexer": "ipython3",
   "version": "3.5.2"
  }
 },
 "nbformat": 4,
 "nbformat_minor": 1
}
