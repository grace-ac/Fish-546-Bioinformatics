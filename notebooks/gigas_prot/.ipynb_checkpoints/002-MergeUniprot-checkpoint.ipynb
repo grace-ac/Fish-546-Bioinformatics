{
 "cells": [
  {
   "cell_type": "code",
   "execution_count": null,
   "metadata": {
    "collapsed": true
   },
   "outputs": [],
   "source": [
    "!date"
   ]
  },
  {
   "cell_type": "code",
   "execution_count": null,
   "metadata": {
    "collapsed": true
   },
   "outputs": [],
   "source": [
    "!systeminfo"
   ]
  },
  {
   "cell_type": "code",
   "execution_count": 1,
   "metadata": {
    "collapsed": false
   },
   "outputs": [
    {
     "name": "stdout",
     "output_type": "stream",
     "text": [
      "C:\\Users\\rhondae\\Documents\\Github\\Fish-546-Bioinformatics\\data\\gigas_prot\n"
     ]
    }
   ],
   "source": [
    "cd C:/Users/rhondae/Documents/Github/Fish-546-Bioinformatics/data/gigas_prot"
   ]
  },
  {
   "cell_type": "code",
   "execution_count": null,
   "metadata": {
    "collapsed": true
   },
   "outputs": [],
   "source": [
    "!C:/Users/rhondae/Desktop/blast-2.5.0+/bin/blastp \\\n",
    "-query contigs.fasta.transdecoder.pep \\\n",
    "-db uniprot_sprot1 \\\n",
    "-evalue 1e-5 \\\n",
    "-max_target_seqs 1 \\\n",
    "-max_hsps 1 \\\n",
    "-outfmt 6 \\\n",
    "-num_threads 16 \\\n",
    "> blastoutput4.txt"
   ]
  },
  {
   "cell_type": "code",
   "execution_count": 4,
   "metadata": {
    "collapsed": false
   },
   "outputs": [
    {
     "name": "stdout",
     "output_type": "stream",
     "text": [
      "CHOYP_contig_055775|m.66401\tsp|Q9BV29|CO057_HUMAN\t43.636\t55\t30\t1\t6\t60\t63\t116\t5.84e-006\t46.6\n",
      "CHOYP_contig_055866|m.66480\tsp|Q14162|SREC_HUMAN\t37.079\t89\t54\t2\t31\t119\t252\t338\t6.64e-012\t67.0\n",
      "CHOYP_contig_056008|m.66602\tsp|P51958|CDK1_CARAU\t79.333\t300\t62\t0\t1\t300\t1\t300\t0.0\t511\n",
      "CHOYP_contig_056066|m.66649\tsp|E1BGN7|CGAS_BOVIN\t43.750\t48\t27\t0\t36\t83\t174\t221\t8.06e-006\t48.1\n",
      "CHOYP_contig_056151|m.66707\tsp|Q96FC7|PHIPL_HUMAN\t32.719\t217\t133\t5\t36\t248\t165\t372\t9.80e-027\t109\n",
      "CHOYP_contig_056232|m.66802\tsp|P01266|THYG_HUMAN\t45.652\t46\t25\t0\t1\t46\t1465\t1510\t2.16e-006\t49.3\n",
      "CHOYP_contig_056248|m.66816\tsp|Q8IDX6|RBP2A_PLAF7\t30.088\t113\t71\t2\t150\t254\t2748\t2860\t5.53e-006\t52.8\n",
      "CHOYP_contig_056307|m.66864\tsp|B2RXR6|ANR44_MOUSE\t41.722\t151\t87\t1\t20\t169\t165\t315\t1.26e-025\t106\n",
      "CHOYP_contig_056314|m.66867\tsp|P33609|DPOLA_MOUSE\t31.667\t120\t70\t5\t7\t126\t120\t227\t2.71e-006\t49.7\n",
      "CHOYP_contig_056432|m.66953\tsp|Q96LR7|CB050_HUMAN\t30.435\t92\t64\t0\t28\t119\t53\t144\t2.10e-013\t65.9\n"
     ]
    }
   ],
   "source": [
    "!tail blastoutput4.txt"
   ]
  },
  {
   "cell_type": "code",
   "execution_count": 6,
   "metadata": {
    "collapsed": false
   },
   "outputs": [
    {
     "name": "stdout",
     "output_type": "stream",
     "text": [
      "26535 blastoutput4.txt\n"
     ]
    }
   ],
   "source": [
    "!wc -l blastoutput4.txt"
   ]
  },
  {
   "cell_type": "markdown",
   "metadata": {},
   "source": [
    "### Downloaded swiss prot database with entry name, protein name, gene name, organism, and length from http://www.uniprot.org/uniprot/?query=&fil=reviewed%3Ayes&columns=id%2Centry%20name%2Creviewed%2Cprotein%20names%2Cgenes%2Corganism%2Clength%2Cgo(biological%20process)%2Cgo-id%2Ccomment(PATHWAY)%2Cdatabase(UniPathway)%2Cdatabase(CDD)%2Cdatabase(Pfam)"
   ]
  },
  {
   "cell_type": "markdown",
   "metadata": {},
   "source": [
    "## In Galaxy I performed the following:\n",
    "\n",
    "1) Uploaded blastoutput4.txt [Galaxy33.png](https://github.com/Ellior2/Fish-546-Bioinformatics/blob/master/analyses/gigas_prot/Galaxy33.PNG)\n",
    "\n",
    "2) Converted all pipes to tabs [Galaxy34.png](https://github.com/Ellior2/Fish-546-Bioinformatics/blob/master/analyses/gigas_prot/Galaxy34.PNG)\n",
    "\n",
    "3) Uploaded uniprot-all.tab [Galaxy35.png](https://github.com/Ellior2/Fish-546-Bioinformatics/blob/master/analyses/gigas_prot/Galaxy35.PNG)\n",
    "\n",
    "4) Removed first line in uniprot-all.tab [Galaxy 36.png](https://github.com/Ellior2/Fish-546-Bioinformatics/blob/master/analyses/gigas_prot/Galaxy36.PNG)\n",
    "\n",
    "5) Joined blastoutput4.txt with uniprot-all.tab [Galaxy40.png](https://github.com/Ellior2/Fish-546-Bioinformatics/blob/master/analyses/gigas_prot/Galaxy40.PNG)\n",
    "\n",
    "6) Sorted file by e values in ascending order [Galaxy41.png](https://github.com/Ellior2/Fish-546-Bioinformatics/blob/master/analyses/gigas_prot/Galaxy41.PNG)"
   ]
  },
  {
   "cell_type": "code",
   "execution_count": 3,
   "metadata": {
    "collapsed": false
   },
   "outputs": [
    {
     "name": "stdout",
     "output_type": "stream",
     "text": [
      "A0A0G2K344\tCHOYP_PK3CA.1.1\tm.65093\tsp\tPK3CA_RAT\t54.571\t1061\t463\t11\t3\t1046\t5\t1063\t0.0\t1184\tPK3CA_RAT\treviewed\tPhosphatidylinositol 4,5-bisphosphate 3-kinase catalytic subunit alpha isoform (PI3-kinase subunit alpha) (PI3K-alpha) (PI3Kalpha) (PtdIns-3-kinase subunit alpha) (EC 2.7.1.153) (Phosphatidylinositol 4,5-bisphosphate 3-kinase 110 kDa catalytic subunit alpha) (PtdIns-3-kinase subunit p110-alpha) (p110alpha) (Phosphoinositide-3-kinase catalytic alpha polypeptide) (Serine/threonine protein kinase PIK3CA) (EC 2.7.11.1)\tPik3ca\tRattus norvegicus (Rat)\t1068\tangiogenesis [GO:0001525]; phagocytosis [GO:0006909]; phosphatidylinositol-mediated signaling [GO:0048015]; phosphatidylinositol phosphorylation [GO:0046854]; response to butyrate [GO:1903544]; response to dexamethasone [GO:0071548]; response to leucine [GO:0043201]; response to muscle inactivity [GO:0014870]\tGO:0001525; GO:0004674; GO:0005524; GO:0005829; GO:0005942; GO:0006909; GO:0014870; GO:0016303; GO:0043201; GO:0046854; GO:0046934; GO:0048015; GO:0071548; GO:1903544\t0\t0\t0\tPF00454;PF00792;PF02192;PF00794;PF00613;\n",
      "A0A0R4IBK5\tCHOYP_LOC100030710.2.4\tm.13432\tsp\tR213A_DANRE\t35.855\t3542\t2013\t84\t832\t4287\t1807\t5175\t0.0\t1998\tR213A_DANRE\treviewed\tE3 ubiquitin-protein ligase rnf213-alpha (EC 3.6.4.-) (EC 6.3.2.-) (Mysterin-A) (Mysterin-alpha) (RING finger protein 213-A) (RING finger protein 213-alpha)\trnf213a\tDanio rerio (Zebrafish) (Brachydanio rerio)\t5209\tsprouting angiogenesis [GO:0002040]\tGO:0002040; GO:0004842; GO:0005829; GO:0008270; GO:0016874; GO:0016887\tPATHWAY: Protein modification; protein ubiquitination. {ECO:0000250|UniProtKB:Q63HN8}.\t0\t0\t0\n",
      "A0A0R4IBK5\tCHOYP_LOC100030710.4.4\tm.20819\tsp\tR213A_DANRE\t33.133\t3984\t2214\t115\t502\t4320\t243\t3941\t0.0\t1834\tR213A_DANRE\treviewed\tE3 ubiquitin-protein ligase rnf213-alpha (EC 3.6.4.-) (EC 6.3.2.-) (Mysterin-A) (Mysterin-alpha) (RING finger protein 213-A) (RING finger protein 213-alpha)\trnf213a\tDanio rerio (Zebrafish) (Brachydanio rerio)\t5209\tsprouting angiogenesis [GO:0002040]\tGO:0002040; GO:0004842; GO:0005829; GO:0008270; GO:0016874; GO:0016887\tPATHWAY: Protein modification; protein ubiquitination. {ECO:0000250|UniProtKB:Q63HN8}.\t0\t0\t0\n",
      "A0A0R4IBK5\tCHOYP_RN213.1.13\tm.524\tsp\tR213A_DANRE\t33.422\t4518\t2602\t107\t15\t4420\t975\t5198\t0.0\t2254\tR213A_DANRE\treviewed\tE3 ubiquitin-protein ligase rnf213-alpha (EC 3.6.4.-) (EC 6.3.2.-) (Mysterin-A) (Mysterin-alpha) (RING finger protein 213-A) (RING finger protein 213-alpha)\trnf213a\tDanio rerio (Zebrafish) (Brachydanio rerio)\t5209\tsprouting angiogenesis [GO:0002040]\tGO:0002040; GO:0004842; GO:0005829; GO:0008270; GO:0016874; GO:0016887\tPATHWAY: Protein modification; protein ubiquitination. {ECO:0000250|UniProtKB:Q63HN8}.\t0\t0\t0\n",
      "A0A0R4IBK5\tCHOYP_RN213.12.13\tm.60577\tsp\tR213A_DANRE\t29.606\t5259\t3093\t163\t90\t5118\t180\t5059\t0.0\t1961\tR213A_DANRE\treviewed\tE3 ubiquitin-protein ligase rnf213-alpha (EC 3.6.4.-) (EC 6.3.2.-) (Mysterin-A) (Mysterin-alpha) (RING finger protein 213-A) (RING finger protein 213-alpha)\trnf213a\tDanio rerio (Zebrafish) (Brachydanio rerio)\t5209\tsprouting angiogenesis [GO:0002040]\tGO:0002040; GO:0004842; GO:0005829; GO:0008270; GO:0016874; GO:0016887\tPATHWAY: Protein modification; protein ubiquitination. {ECO:0000250|UniProtKB:Q63HN8}.\t0\t0\t0\n",
      "A0A0R4IBK5\tCHOYP_RN213.2.13\tm.3944\tsp\tR213A_DANRE\t27.491\t2328\t1470\t62\t3\t2252\t2988\t5175\t0.0\t775\tR213A_DANRE\treviewed\tE3 ubiquitin-protein ligase rnf213-alpha (EC 3.6.4.-) (EC 6.3.2.-) (Mysterin-A) (Mysterin-alpha) (RING finger protein 213-A) (RING finger protein 213-alpha)\trnf213a\tDanio rerio (Zebrafish) (Brachydanio rerio)\t5209\tsprouting angiogenesis [GO:0002040]\tGO:0002040; GO:0004842; GO:0005829; GO:0008270; GO:0016874; GO:0016887\tPATHWAY: Protein modification; protein ubiquitination. {ECO:0000250|UniProtKB:Q63HN8}.\t0\t0\t0\n",
      "A0A0R4IBK5\tCHOYP_RN213.4.13\tm.27716\tsp\tR213A_DANRE\t35.861\t3561\t2031\t85\t1074\t4554\t1811\t5198\t0.0\t2004\tR213A_DANRE\treviewed\tE3 ubiquitin-protein ligase rnf213-alpha (EC 3.6.4.-) (EC 6.3.2.-) (Mysterin-A) (Mysterin-alpha) (RING finger protein 213-A) (RING finger protein 213-alpha)\trnf213a\tDanio rerio (Zebrafish) (Brachydanio rerio)\t5209\tsprouting angiogenesis [GO:0002040]\tGO:0002040; GO:0004842; GO:0005829; GO:0008270; GO:0016874; GO:0016887\tPATHWAY: Protein modification; protein ubiquitination. {ECO:0000250|UniProtKB:Q63HN8}.\t0\t0\t0\n",
      "A0A0R4IBK5\tCHOYP_RN213.6.13\tm.42268\tsp\tR213A_DANRE\t40.589\t2173\t1123\t51\t2132\t4251\t1811\t3868\t0.0\t1506\tR213A_DANRE\treviewed\tE3 ubiquitin-protein ligase rnf213-alpha (EC 3.6.4.-) (EC 6.3.2.-) (Mysterin-A) (Mysterin-alpha) (RING finger protein 213-A) (RING finger protein 213-alpha)\trnf213a\tDanio rerio (Zebrafish) (Brachydanio rerio)\t5209\tsprouting angiogenesis [GO:0002040]\tGO:0002040; GO:0004842; GO:0005829; GO:0008270; GO:0016874; GO:0016887\tPATHWAY: Protein modification; protein ubiquitination. {ECO:0000250|UniProtKB:Q63HN8}.\t0\t0\t0\n",
      "A0A0R4IBK5\tCHOYP_RN213.7.13\tm.45975\tsp\tR213A_DANRE\t46.528\t1541\t717\t34\t2150\t3652\t1811\t3282\t0.0\t1314\tR213A_DANRE\treviewed\tE3 ubiquitin-protein ligase rnf213-alpha (EC 3.6.4.-) (EC 6.3.2.-) (Mysterin-A) (Mysterin-alpha) (RING finger protein 213-A) (RING finger protein 213-alpha)\trnf213a\tDanio rerio (Zebrafish) (Brachydanio rerio)\t5209\tsprouting angiogenesis [GO:0002040]\tGO:0002040; GO:0004842; GO:0005829; GO:0008270; GO:0016874; GO:0016887\tPATHWAY: Protein modification; protein ubiquitination. {ECO:0000250|UniProtKB:Q63HN8}.\t0\t0\t0\n",
      "A0A0R4IBK5\tCHOYP_RN213.9.13\tm.52892\tsp\tR213A_DANRE\t39.152\t1839\t967\t38\t8\t1827\t1373\t3078\t0.0\t1221\tR213A_DANRE\treviewed\tE3 ubiquitin-protein ligase rnf213-alpha (EC 3.6.4.-) (EC 6.3.2.-) (Mysterin-A) (Mysterin-alpha) (RING finger protein 213-A) (RING finger protein 213-alpha)\trnf213a\tDanio rerio (Zebrafish) (Brachydanio rerio)\t5209\tsprouting angiogenesis [GO:0002040]\tGO:0002040; GO:0004842; GO:0005829; GO:0008270; GO:0016874; GO:0016887\tPATHWAY: Protein modification; protein ubiquitination. {ECO:0000250|UniProtKB:Q63HN8}.\t0\t0\t0\n"
     ]
    }
   ],
   "source": [
    "!head Galaxy41-[Sort_on_data_40].tabular"
   ]
  },
  {
   "cell_type": "code",
   "execution_count": 2,
   "metadata": {
    "collapsed": false
   },
   "outputs": [
    {
     "name": "stdout",
     "output_type": "stream",
     "text": [
      "26535 Galaxy41-[Sort_on_data_40].tabular\n"
     ]
    }
   ],
   "source": [
    "!wc -l Galaxy41-[Sort_on_data_40].tabular"
   ]
  },
  {
   "cell_type": "code",
   "execution_count": 10,
   "metadata": {
    "collapsed": false
   },
   "outputs": [
    {
     "name": "stdout",
     "output_type": "stream",
     "text": [
      "LTNSSVVRRKVFKPYKTKKLTIVLAILLSFSGANCPTGFIGYKNPNEDVCCKPTSCFPGA\n",
      "MMTSAFSRSGCRLRCKCDEEKGYYGEDPCNCKRIEDKTNKERKGHADYEKERDNLMFVHN\n",
      "QTQIKLVIIAVANNIGLMIMMCFLYLYCELQSRRSTSLNLGQGRPGVYTP*\n",
      ">CHOYP_contig_056607|m.67058 CHOYP_contig_056607|g.67058  ORF CHOYP_contig_056607|g.67058 CHOYP_contig_056607|m.67058 type:internal len:116 (-) CHOYP_contig_056607:1-345(-)\n",
      "LAASISDSLQYGFQRQSQKTDLTETEVIIIGVICAVILLSLIIVLIVIICRRRTNAKDYG\n",
      "NSSTTVSRPVPNLQTNGNSVGPPKPQRGPDNQDLKNEAYYGVHNGSPSTPRKDPH\n",
      ">CHOYP_contig_056609|m.67060 CHOYP_contig_056609|g.67060  ORF CHOYP_contig_056609|g.67060 CHOYP_contig_056609|m.67060 type:3prime_partial len:143 (-) CHOYP_contig_056609:2-427(-)\n",
      "MGKSNEEDQHQNISRMPTVKIGNNKHISDSEIVSEQTDHLADSAEMDHLAVQKGYLFLLE\n",
      "HIHEELQLVDYLCQLCESHLSDDEKKDMRDGKGYFKKRELLKCLISKGESACKEFLEKFK\n",
      "CYENLYSQFRNAINSVTNADGI\n"
     ]
    }
   ],
   "source": [
    "!tail contigs.fasta.transdecoder.pep"
   ]
  },
  {
   "cell_type": "code",
   "execution_count": 8,
   "metadata": {
    "collapsed": false
   },
   "outputs": [
    {
     "name": "stdout",
     "output_type": "stream",
     "text": [
      "CHOYP_contig_055775|m.66401\tsp|Q9BV29|CO057_HUMAN\t43.636\t55\t30\t1\t6\t60\t63\t116\t5.84e-006\t46.6\n",
      "CHOYP_contig_055866|m.66480\tsp|Q14162|SREC_HUMAN\t37.079\t89\t54\t2\t31\t119\t252\t338\t6.64e-012\t67.0\n",
      "CHOYP_contig_056008|m.66602\tsp|P51958|CDK1_CARAU\t79.333\t300\t62\t0\t1\t300\t1\t300\t0.0\t511\n",
      "CHOYP_contig_056066|m.66649\tsp|E1BGN7|CGAS_BOVIN\t43.750\t48\t27\t0\t36\t83\t174\t221\t8.06e-006\t48.1\n",
      "CHOYP_contig_056151|m.66707\tsp|Q96FC7|PHIPL_HUMAN\t32.719\t217\t133\t5\t36\t248\t165\t372\t9.80e-027\t109\n",
      "CHOYP_contig_056232|m.66802\tsp|P01266|THYG_HUMAN\t45.652\t46\t25\t0\t1\t46\t1465\t1510\t2.16e-006\t49.3\n",
      "CHOYP_contig_056248|m.66816\tsp|Q8IDX6|RBP2A_PLAF7\t30.088\t113\t71\t2\t150\t254\t2748\t2860\t5.53e-006\t52.8\n",
      "CHOYP_contig_056307|m.66864\tsp|B2RXR6|ANR44_MOUSE\t41.722\t151\t87\t1\t20\t169\t165\t315\t1.26e-025\t106\n",
      "CHOYP_contig_056314|m.66867\tsp|P33609|DPOLA_MOUSE\t31.667\t120\t70\t5\t7\t126\t120\t227\t2.71e-006\t49.7\n",
      "CHOYP_contig_056432|m.66953\tsp|Q96LR7|CB050_HUMAN\t30.435\t92\t64\t0\t28\t119\t53\t144\t2.10e-013\t65.9\n"
     ]
    }
   ],
   "source": [
    "!tail ../../analyses/gigas_prot/blastoutput4.txt"
   ]
  },
  {
   "cell_type": "markdown",
   "metadata": {},
   "source": [
    "I opened the contigs.fasta.transdecoder.pep file (oyster proteome) and I searched for the last few contigs listed in my blast output and these contigs above are all at the very end of the fasta file giving me reason to beleive that the blast ouput was complete."
   ]
  }
 ],
 "metadata": {
  "anaconda-cloud": {},
  "kernelspec": {
   "display_name": "Python [default]",
   "language": "python",
   "name": "python3"
  },
  "language_info": {
   "codemirror_mode": {
    "name": "ipython",
    "version": 3
   },
   "file_extension": ".py",
   "mimetype": "text/x-python",
   "name": "python",
   "nbconvert_exporter": "python",
   "pygments_lexer": "ipython3",
   "version": "3.5.2"
  }
 },
 "nbformat": 4,
 "nbformat_minor": 1
}
