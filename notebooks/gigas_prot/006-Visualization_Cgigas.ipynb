{
 "cells": [
  {
   "cell_type": "code",
   "execution_count": 3,
   "metadata": {
    "collapsed": false
   },
   "outputs": [
    {
     "name": "stdout",
     "output_type": "stream",
     "text": [
      "C:\\Users\\rhondae\\Documents\\Github\\Fish-546-Bioinformatics\\analyses\\gigas_prot\n"
     ]
    }
   ],
   "source": [
    "cd C:/Users/rhondae/Documents/Github/Fish-546-Bioinformatics/analyses/gigas_prot"
   ]
  },
  {
   "cell_type": "code",
   "execution_count": 4,
   "metadata": {
    "collapsed": false
   },
   "outputs": [
    {
     "name": "stdout",
     "output_type": "stream",
     "text": [
      "Q60787\tCHOYP_LCP2.8.14\tm.22237\tsp\tLCP2_MOUSE\t36.296\t135\t83\t2\t33\t164\t389\t523\t9.99e-022\t94.4\tLCP2_MOUSE\treviewed\tLymphocyte cytosolic protein 2 (SH2 domain-containing leukocyte protein of 76 kDa) (SLP-76 tyrosine phosphoprotein) (SLP76)\tLcp2\tMus musculus (Mouse)\t533\tcytokine secretion [GO:0050663]; immune response [GO:0006955]; intracellular signal transduction [GO:0035556]; mast cell activation [GO:0045576]; positive regulation of protein kinase activity [GO:0045860]; T cell receptor signaling pathway [GO:0050852]; transmembrane receptor protein tyrosine kinase signaling pathway [GO:0007169]\t GO:0045576\t0\t0\t0\tPF07647;PF00017;\n",
      "Q60787\tCHOYP_LCP2.8.14\tm.22237\tsp\tLCP2_MOUSE\t36.296\t135\t83\t2\t33\t164\t389\t523\t9.99e-022\t94.4\tLCP2_MOUSE\treviewed\tLymphocyte cytosolic protein 2 (SH2 domain-containing leukocyte protein of 76 kDa) (SLP-76 tyrosine phosphoprotein) (SLP76)\tLcp2\tMus musculus (Mouse)\t533\tcytokine secretion [GO:0050663]; immune response [GO:0006955]; intracellular signal transduction [GO:0035556]; mast cell activation [GO:0045576]; positive regulation of protein kinase activity [GO:0045860]; T cell receptor signaling pathway [GO:0050852]; transmembrane receptor protein tyrosine kinase signaling pathway [GO:0007169]\t GO:0045860\t0\t0\t0\tPF07647;PF00017;\n",
      "Q60787\tCHOYP_LCP2.8.14\tm.22237\tsp\tLCP2_MOUSE\t36.296\t135\t83\t2\t33\t164\t389\t523\t9.99e-022\t94.4\tLCP2_MOUSE\treviewed\tLymphocyte cytosolic protein 2 (SH2 domain-containing leukocyte protein of 76 kDa) (SLP-76 tyrosine phosphoprotein) (SLP76)\tLcp2\tMus musculus (Mouse)\t533\tcytokine secretion [GO:0050663]; immune response [GO:0006955]; intracellular signal transduction [GO:0035556]; mast cell activation [GO:0045576]; positive regulation of protein kinase activity [GO:0045860]; T cell receptor signaling pathway [GO:0050852]; transmembrane receptor protein tyrosine kinase signaling pathway [GO:0007169]\t GO:0050663\t0\t0\t0\tPF07647;PF00017;\n",
      "Q60787\tCHOYP_LCP2.8.14\tm.22237\tsp\tLCP2_MOUSE\t36.296\t135\t83\t2\t33\t164\t389\t523\t9.99e-022\t94.4\tLCP2_MOUSE\treviewed\tLymphocyte cytosolic protein 2 (SH2 domain-containing leukocyte protein of 76 kDa) (SLP-76 tyrosine phosphoprotein) (SLP76)\tLcp2\tMus musculus (Mouse)\t533\tcytokine secretion [GO:0050663]; immune response [GO:0006955]; intracellular signal transduction [GO:0035556]; mast cell activation [GO:0045576]; positive regulation of protein kinase activity [GO:0045860]; T cell receptor signaling pathway [GO:0050852]; transmembrane receptor protein tyrosine kinase signaling pathway [GO:0007169]\t GO:0050852\t0\t0\t0\tPF07647;PF00017;\n",
      "Q67XW5\tCHOYP_MYCGRDRAFT_89575.7.12\tm.50323\tsp\tUBP18_ARATH\t54.762\t42\t17\t1\t11\t52\t61\t100\t9.99e-006\t50.4\tUBP18_ARATH\treviewed\tUbiquitin carboxyl-terminal hydrolase 18 (EC 3.4.19.12) (Deubiquitinating enzyme 18) (AtUBP18) (Ubiquitin thioesterase 18) (Ubiquitin-specific-processing protease 18)\tUBP18 At4g31670 F28M20.140\tArabidopsis thaliana (Mouse-ear cress)\t631\tprotein deubiquitination [GO:0016579]; ubiquitin-dependent protein catabolic process [GO:0006511]\tGO:0006511\t0\t0\t0\tPF00443;PF01753;\n",
      "Q67XW5\tCHOYP_MYCGRDRAFT_89575.7.12\tm.50323\tsp\tUBP18_ARATH\t54.762\t42\t17\t1\t11\t52\t61\t100\t9.99e-006\t50.4\tUBP18_ARATH\treviewed\tUbiquitin carboxyl-terminal hydrolase 18 (EC 3.4.19.12) (Deubiquitinating enzyme 18) (AtUBP18) (Ubiquitin thioesterase 18) (Ubiquitin-specific-processing protease 18)\tUBP18 At4g31670 F28M20.140\tArabidopsis thaliana (Mouse-ear cress)\t631\tprotein deubiquitination [GO:0016579]; ubiquitin-dependent protein catabolic process [GO:0006511]\t GO:0016021\t0\t0\t0\tPF00443;PF01753;\n",
      "Q67XW5\tCHOYP_MYCGRDRAFT_89575.7.12\tm.50323\tsp\tUBP18_ARATH\t54.762\t42\t17\t1\t11\t52\t61\t100\t9.99e-006\t50.4\tUBP18_ARATH\treviewed\tUbiquitin carboxyl-terminal hydrolase 18 (EC 3.4.19.12) (Deubiquitinating enzyme 18) (AtUBP18) (Ubiquitin thioesterase 18) (Ubiquitin-specific-processing protease 18)\tUBP18 At4g31670 F28M20.140\tArabidopsis thaliana (Mouse-ear cress)\t631\tprotein deubiquitination [GO:0016579]; ubiquitin-dependent protein catabolic process [GO:0006511]\t GO:0016579\t0\t0\t0\tPF00443;PF01753;\n",
      "Q67XW5\tCHOYP_MYCGRDRAFT_89575.7.12\tm.50323\tsp\tUBP18_ARATH\t54.762\t42\t17\t1\t11\t52\t61\t100\t9.99e-006\t50.4\tUBP18_ARATH\treviewed\tUbiquitin carboxyl-terminal hydrolase 18 (EC 3.4.19.12) (Deubiquitinating enzyme 18) (AtUBP18) (Ubiquitin thioesterase 18) (Ubiquitin-specific-processing protease 18)\tUBP18 At4g31670 F28M20.140\tArabidopsis thaliana (Mouse-ear cress)\t631\tprotein deubiquitination [GO:0016579]; ubiquitin-dependent protein catabolic process [GO:0006511]\t GO:0036459\t0\t0\t0\tPF00443;PF01753;\n",
      "Q67XW5\tCHOYP_MYCGRDRAFT_89575.7.12\tm.50323\tsp\tUBP18_ARATH\t54.762\t42\t17\t1\t11\t52\t61\t100\t9.99e-006\t50.4\tUBP18_ARATH\treviewed\tUbiquitin carboxyl-terminal hydrolase 18 (EC 3.4.19.12) (Deubiquitinating enzyme 18) (AtUBP18) (Ubiquitin thioesterase 18) (Ubiquitin-specific-processing protease 18)\tUBP18 At4g31670 F28M20.140\tArabidopsis thaliana (Mouse-ear cress)\t631\tprotein deubiquitination [GO:0016579]; ubiquitin-dependent protein catabolic process [GO:0006511]\t GO:0046872\t0\t0\t0\tPF00443;PF01753;\n",
      "Q8BV79\tCHOYP_NEMVEDRAFT_V1G79745.2.3\tm.41079\tsp\tTRNK1_MOUSE\t50.526\t95\t45\t1\t1\t93\t1049\t1143\t9.99e-027\t107\tTRNK1_MOUSE\treviewed\tTPR and ankyrin repeat-containing protein 1 (Lupus brain antigen 1)\tTrank1 Gm187 Kiaa0342 Lba1\tMus musculus (Mouse)\t2999\t0\t0\t0\t0\t0\t0\n"
     ]
    }
   ],
   "source": [
    "!tail Galaxy155-[Unfold_on_data_41].tabular"
   ]
  }
 ],
 "metadata": {
  "anaconda-cloud": {},
  "kernelspec": {
   "display_name": "Python [default]",
   "language": "python",
   "name": "python3"
  },
  "language_info": {
   "codemirror_mode": {
    "name": "ipython",
    "version": 3
   },
   "file_extension": ".py",
   "mimetype": "text/x-python",
   "name": "python",
   "nbconvert_exporter": "python",
   "pygments_lexer": "ipython3",
   "version": "3.5.2"
  }
 },
 "nbformat": 4,
 "nbformat_minor": 1
}
