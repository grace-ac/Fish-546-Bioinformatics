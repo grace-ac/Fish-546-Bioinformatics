{
 "cells": [
  {
   "cell_type": "code",
   "execution_count": 3,
   "metadata": {
    "collapsed": false
   },
   "outputs": [
    {
     "name": "stdout",
     "output_type": "stream",
     "text": [
      "C:\\Users\\rhondae\\Documents\\Github\\Fish-546-Bioinformatics\\analyses\\gigas_prot\n"
     ]
    }
   ],
   "source": [
    "cd C:/Users/rhondae/Documents/Github/Fish-546-Bioinformatics/analyses/gigas_prot"
   ]
  },
  {
   "cell_type": "markdown",
   "metadata": {},
   "source": [
    "Here is my blast output file from when I blasted the C. gigas proteome with a uniprot protein database to identify proteins. I then merged it with the Uniprot database with GO terms. This is all done in previous notebooks. This file Galaxy41-[Sort_on_data_40].tabular is sorted by column 14 (e-values) in ascending order."
   ]
  },
  {
   "cell_type": "code",
   "execution_count": null,
   "metadata": {
    "collapsed": true
   },
   "outputs": [],
   "source": []
  },
  {
   "cell_type": "code",
   "execution_count": 7,
   "metadata": {
    "collapsed": false
   },
   "outputs": [
    {
     "name": "stdout",
     "output_type": "stream",
     "text": [
      "A0A0G2K344\tCHOYP_PK3CA.1.1\tm.65093\tsp\tPK3CA_RAT\t54.571\t1061\t463\t11\t3\t1046\t5\t1063\t0.0\t1184\tPK3CA_RAT\treviewed\tPhosphatidylinositol 4,5-bisphosphate 3-kinase catalytic subunit alpha isoform (PI3-kinase subunit alpha) (PI3K-alpha) (PI3Kalpha) (PtdIns-3-kinase subunit alpha) (EC 2.7.1.153) (Phosphatidylinositol 4,5-bisphosphate 3-kinase 110 kDa catalytic subunit alpha) (PtdIns-3-kinase subunit p110-alpha) (p110alpha) (Phosphoinositide-3-kinase catalytic alpha polypeptide) (Serine/threonine protein kinase PIK3CA) (EC 2.7.11.1)\tPik3ca\tRattus norvegicus (Rat)\t1068\tangiogenesis [GO:0001525]; phagocytosis [GO:0006909]; phosphatidylinositol-mediated signaling [GO:0048015]; phosphatidylinositol phosphorylation [GO:0046854]; response to butyrate [GO:1903544]; response to dexamethasone [GO:0071548]; response to leucine [GO:0043201]; response to muscle inactivity [GO:0014870]\tGO:0001525; GO:0004674; GO:0005524; GO:0005829; GO:0005942; GO:0006909; GO:0014870; GO:0016303; GO:0043201; GO:0046854; GO:0046934; GO:0048015; GO:0071548; GO:1903544\t0\t0\t0\tPF00454;PF00792;PF02192;PF00794;PF00613;\n",
      "A0A0R4IBK5\tCHOYP_LOC100030710.2.4\tm.13432\tsp\tR213A_DANRE\t35.855\t3542\t2013\t84\t832\t4287\t1807\t5175\t0.0\t1998\tR213A_DANRE\treviewed\tE3 ubiquitin-protein ligase rnf213-alpha (EC 3.6.4.-) (EC 6.3.2.-) (Mysterin-A) (Mysterin-alpha) (RING finger protein 213-A) (RING finger protein 213-alpha)\trnf213a\tDanio rerio (Zebrafish) (Brachydanio rerio)\t5209\tsprouting angiogenesis [GO:0002040]\tGO:0002040; GO:0004842; GO:0005829; GO:0008270; GO:0016874; GO:0016887\tPATHWAY: Protein modification; protein ubiquitination. {ECO:0000250|UniProtKB:Q63HN8}.\t0\t0\t0\n",
      "A0A0R4IBK5\tCHOYP_LOC100030710.4.4\tm.20819\tsp\tR213A_DANRE\t33.133\t3984\t2214\t115\t502\t4320\t243\t3941\t0.0\t1834\tR213A_DANRE\treviewed\tE3 ubiquitin-protein ligase rnf213-alpha (EC 3.6.4.-) (EC 6.3.2.-) (Mysterin-A) (Mysterin-alpha) (RING finger protein 213-A) (RING finger protein 213-alpha)\trnf213a\tDanio rerio (Zebrafish) (Brachydanio rerio)\t5209\tsprouting angiogenesis [GO:0002040]\tGO:0002040; GO:0004842; GO:0005829; GO:0008270; GO:0016874; GO:0016887\tPATHWAY: Protein modification; protein ubiquitination. {ECO:0000250|UniProtKB:Q63HN8}.\t0\t0\t0\n",
      "A0A0R4IBK5\tCHOYP_RN213.1.13\tm.524\tsp\tR213A_DANRE\t33.422\t4518\t2602\t107\t15\t4420\t975\t5198\t0.0\t2254\tR213A_DANRE\treviewed\tE3 ubiquitin-protein ligase rnf213-alpha (EC 3.6.4.-) (EC 6.3.2.-) (Mysterin-A) (Mysterin-alpha) (RING finger protein 213-A) (RING finger protein 213-alpha)\trnf213a\tDanio rerio (Zebrafish) (Brachydanio rerio)\t5209\tsprouting angiogenesis [GO:0002040]\tGO:0002040; GO:0004842; GO:0005829; GO:0008270; GO:0016874; GO:0016887\tPATHWAY: Protein modification; protein ubiquitination. {ECO:0000250|UniProtKB:Q63HN8}.\t0\t0\t0\n",
      "A0A0R4IBK5\tCHOYP_RN213.12.13\tm.60577\tsp\tR213A_DANRE\t29.606\t5259\t3093\t163\t90\t5118\t180\t5059\t0.0\t1961\tR213A_DANRE\treviewed\tE3 ubiquitin-protein ligase rnf213-alpha (EC 3.6.4.-) (EC 6.3.2.-) (Mysterin-A) (Mysterin-alpha) (RING finger protein 213-A) (RING finger protein 213-alpha)\trnf213a\tDanio rerio (Zebrafish) (Brachydanio rerio)\t5209\tsprouting angiogenesis [GO:0002040]\tGO:0002040; GO:0004842; GO:0005829; GO:0008270; GO:0016874; GO:0016887\tPATHWAY: Protein modification; protein ubiquitination. {ECO:0000250|UniProtKB:Q63HN8}.\t0\t0\t0\n",
      "A0A0R4IBK5\tCHOYP_RN213.2.13\tm.3944\tsp\tR213A_DANRE\t27.491\t2328\t1470\t62\t3\t2252\t2988\t5175\t0.0\t775\tR213A_DANRE\treviewed\tE3 ubiquitin-protein ligase rnf213-alpha (EC 3.6.4.-) (EC 6.3.2.-) (Mysterin-A) (Mysterin-alpha) (RING finger protein 213-A) (RING finger protein 213-alpha)\trnf213a\tDanio rerio (Zebrafish) (Brachydanio rerio)\t5209\tsprouting angiogenesis [GO:0002040]\tGO:0002040; GO:0004842; GO:0005829; GO:0008270; GO:0016874; GO:0016887\tPATHWAY: Protein modification; protein ubiquitination. {ECO:0000250|UniProtKB:Q63HN8}.\t0\t0\t0\n",
      "A0A0R4IBK5\tCHOYP_RN213.4.13\tm.27716\tsp\tR213A_DANRE\t35.861\t3561\t2031\t85\t1074\t4554\t1811\t5198\t0.0\t2004\tR213A_DANRE\treviewed\tE3 ubiquitin-protein ligase rnf213-alpha (EC 3.6.4.-) (EC 6.3.2.-) (Mysterin-A) (Mysterin-alpha) (RING finger protein 213-A) (RING finger protein 213-alpha)\trnf213a\tDanio rerio (Zebrafish) (Brachydanio rerio)\t5209\tsprouting angiogenesis [GO:0002040]\tGO:0002040; GO:0004842; GO:0005829; GO:0008270; GO:0016874; GO:0016887\tPATHWAY: Protein modification; protein ubiquitination. {ECO:0000250|UniProtKB:Q63HN8}.\t0\t0\t0\n",
      "A0A0R4IBK5\tCHOYP_RN213.6.13\tm.42268\tsp\tR213A_DANRE\t40.589\t2173\t1123\t51\t2132\t4251\t1811\t3868\t0.0\t1506\tR213A_DANRE\treviewed\tE3 ubiquitin-protein ligase rnf213-alpha (EC 3.6.4.-) (EC 6.3.2.-) (Mysterin-A) (Mysterin-alpha) (RING finger protein 213-A) (RING finger protein 213-alpha)\trnf213a\tDanio rerio (Zebrafish) (Brachydanio rerio)\t5209\tsprouting angiogenesis [GO:0002040]\tGO:0002040; GO:0004842; GO:0005829; GO:0008270; GO:0016874; GO:0016887\tPATHWAY: Protein modification; protein ubiquitination. {ECO:0000250|UniProtKB:Q63HN8}.\t0\t0\t0\n",
      "A0A0R4IBK5\tCHOYP_RN213.7.13\tm.45975\tsp\tR213A_DANRE\t46.528\t1541\t717\t34\t2150\t3652\t1811\t3282\t0.0\t1314\tR213A_DANRE\treviewed\tE3 ubiquitin-protein ligase rnf213-alpha (EC 3.6.4.-) (EC 6.3.2.-) (Mysterin-A) (Mysterin-alpha) (RING finger protein 213-A) (RING finger protein 213-alpha)\trnf213a\tDanio rerio (Zebrafish) (Brachydanio rerio)\t5209\tsprouting angiogenesis [GO:0002040]\tGO:0002040; GO:0004842; GO:0005829; GO:0008270; GO:0016874; GO:0016887\tPATHWAY: Protein modification; protein ubiquitination. {ECO:0000250|UniProtKB:Q63HN8}.\t0\t0\t0\n",
      "A0A0R4IBK5\tCHOYP_RN213.9.13\tm.52892\tsp\tR213A_DANRE\t39.152\t1839\t967\t38\t8\t1827\t1373\t3078\t0.0\t1221\tR213A_DANRE\treviewed\tE3 ubiquitin-protein ligase rnf213-alpha (EC 3.6.4.-) (EC 6.3.2.-) (Mysterin-A) (Mysterin-alpha) (RING finger protein 213-A) (RING finger protein 213-alpha)\trnf213a\tDanio rerio (Zebrafish) (Brachydanio rerio)\t5209\tsprouting angiogenesis [GO:0002040]\tGO:0002040; GO:0004842; GO:0005829; GO:0008270; GO:0016874; GO:0016887\tPATHWAY: Protein modification; protein ubiquitination. {ECO:0000250|UniProtKB:Q63HN8}.\t0\t0\t0\n"
     ]
    }
   ],
   "source": [
    "!head Galaxy41-[Sort_on_data_40].tabular"
   ]
  },
  {
   "cell_type": "code",
   "execution_count": 6,
   "metadata": {
    "collapsed": false
   },
   "outputs": [
    {
     "name": "stdout",
     "output_type": "stream",
     "text": [
      "Q60787\tCHOYP_LCP2.8.14\tm.22237\tsp\tLCP2_MOUSE\t36.296\t135\t83\t2\t33\t164\t389\t523\t9.99e-022\t94.4\tLCP2_MOUSE\treviewed\tLymphocyte cytosolic protein 2 (SH2 domain-containing leukocyte protein of 76 kDa) (SLP-76 tyrosine phosphoprotein) (SLP76)\tLcp2\tMus musculus (Mouse)\t533\tcytokine secretion [GO:0050663]; immune response [GO:0006955]; intracellular signal transduction [GO:0035556]; mast cell activation [GO:0045576]; positive regulation of protein kinase activity [GO:0045860]; T cell receptor signaling pathway [GO:0050852]; transmembrane receptor protein tyrosine kinase signaling pathway [GO:0007169]\t GO:0045576\t0\t0\t0\tPF07647;PF00017;\n",
      "Q60787\tCHOYP_LCP2.8.14\tm.22237\tsp\tLCP2_MOUSE\t36.296\t135\t83\t2\t33\t164\t389\t523\t9.99e-022\t94.4\tLCP2_MOUSE\treviewed\tLymphocyte cytosolic protein 2 (SH2 domain-containing leukocyte protein of 76 kDa) (SLP-76 tyrosine phosphoprotein) (SLP76)\tLcp2\tMus musculus (Mouse)\t533\tcytokine secretion [GO:0050663]; immune response [GO:0006955]; intracellular signal transduction [GO:0035556]; mast cell activation [GO:0045576]; positive regulation of protein kinase activity [GO:0045860]; T cell receptor signaling pathway [GO:0050852]; transmembrane receptor protein tyrosine kinase signaling pathway [GO:0007169]\t GO:0045860\t0\t0\t0\tPF07647;PF00017;\n",
      "Q60787\tCHOYP_LCP2.8.14\tm.22237\tsp\tLCP2_MOUSE\t36.296\t135\t83\t2\t33\t164\t389\t523\t9.99e-022\t94.4\tLCP2_MOUSE\treviewed\tLymphocyte cytosolic protein 2 (SH2 domain-containing leukocyte protein of 76 kDa) (SLP-76 tyrosine phosphoprotein) (SLP76)\tLcp2\tMus musculus (Mouse)\t533\tcytokine secretion [GO:0050663]; immune response [GO:0006955]; intracellular signal transduction [GO:0035556]; mast cell activation [GO:0045576]; positive regulation of protein kinase activity [GO:0045860]; T cell receptor signaling pathway [GO:0050852]; transmembrane receptor protein tyrosine kinase signaling pathway [GO:0007169]\t GO:0050663\t0\t0\t0\tPF07647;PF00017;\n",
      "Q60787\tCHOYP_LCP2.8.14\tm.22237\tsp\tLCP2_MOUSE\t36.296\t135\t83\t2\t33\t164\t389\t523\t9.99e-022\t94.4\tLCP2_MOUSE\treviewed\tLymphocyte cytosolic protein 2 (SH2 domain-containing leukocyte protein of 76 kDa) (SLP-76 tyrosine phosphoprotein) (SLP76)\tLcp2\tMus musculus (Mouse)\t533\tcytokine secretion [GO:0050663]; immune response [GO:0006955]; intracellular signal transduction [GO:0035556]; mast cell activation [GO:0045576]; positive regulation of protein kinase activity [GO:0045860]; T cell receptor signaling pathway [GO:0050852]; transmembrane receptor protein tyrosine kinase signaling pathway [GO:0007169]\t GO:0050852\t0\t0\t0\tPF07647;PF00017;\n",
      "Q67XW5\tCHOYP_MYCGRDRAFT_89575.7.12\tm.50323\tsp\tUBP18_ARATH\t54.762\t42\t17\t1\t11\t52\t61\t100\t9.99e-006\t50.4\tUBP18_ARATH\treviewed\tUbiquitin carboxyl-terminal hydrolase 18 (EC 3.4.19.12) (Deubiquitinating enzyme 18) (AtUBP18) (Ubiquitin thioesterase 18) (Ubiquitin-specific-processing protease 18)\tUBP18 At4g31670 F28M20.140\tArabidopsis thaliana (Mouse-ear cress)\t631\tprotein deubiquitination [GO:0016579]; ubiquitin-dependent protein catabolic process [GO:0006511]\tGO:0006511\t0\t0\t0\tPF00443;PF01753;\n",
      "Q67XW5\tCHOYP_MYCGRDRAFT_89575.7.12\tm.50323\tsp\tUBP18_ARATH\t54.762\t42\t17\t1\t11\t52\t61\t100\t9.99e-006\t50.4\tUBP18_ARATH\treviewed\tUbiquitin carboxyl-terminal hydrolase 18 (EC 3.4.19.12) (Deubiquitinating enzyme 18) (AtUBP18) (Ubiquitin thioesterase 18) (Ubiquitin-specific-processing protease 18)\tUBP18 At4g31670 F28M20.140\tArabidopsis thaliana (Mouse-ear cress)\t631\tprotein deubiquitination [GO:0016579]; ubiquitin-dependent protein catabolic process [GO:0006511]\t GO:0016021\t0\t0\t0\tPF00443;PF01753;\n",
      "Q67XW5\tCHOYP_MYCGRDRAFT_89575.7.12\tm.50323\tsp\tUBP18_ARATH\t54.762\t42\t17\t1\t11\t52\t61\t100\t9.99e-006\t50.4\tUBP18_ARATH\treviewed\tUbiquitin carboxyl-terminal hydrolase 18 (EC 3.4.19.12) (Deubiquitinating enzyme 18) (AtUBP18) (Ubiquitin thioesterase 18) (Ubiquitin-specific-processing protease 18)\tUBP18 At4g31670 F28M20.140\tArabidopsis thaliana (Mouse-ear cress)\t631\tprotein deubiquitination [GO:0016579]; ubiquitin-dependent protein catabolic process [GO:0006511]\t GO:0016579\t0\t0\t0\tPF00443;PF01753;\n",
      "Q67XW5\tCHOYP_MYCGRDRAFT_89575.7.12\tm.50323\tsp\tUBP18_ARATH\t54.762\t42\t17\t1\t11\t52\t61\t100\t9.99e-006\t50.4\tUBP18_ARATH\treviewed\tUbiquitin carboxyl-terminal hydrolase 18 (EC 3.4.19.12) (Deubiquitinating enzyme 18) (AtUBP18) (Ubiquitin thioesterase 18) (Ubiquitin-specific-processing protease 18)\tUBP18 At4g31670 F28M20.140\tArabidopsis thaliana (Mouse-ear cress)\t631\tprotein deubiquitination [GO:0016579]; ubiquitin-dependent protein catabolic process [GO:0006511]\t GO:0036459\t0\t0\t0\tPF00443;PF01753;\n",
      "Q67XW5\tCHOYP_MYCGRDRAFT_89575.7.12\tm.50323\tsp\tUBP18_ARATH\t54.762\t42\t17\t1\t11\t52\t61\t100\t9.99e-006\t50.4\tUBP18_ARATH\treviewed\tUbiquitin carboxyl-terminal hydrolase 18 (EC 3.4.19.12) (Deubiquitinating enzyme 18) (AtUBP18) (Ubiquitin thioesterase 18) (Ubiquitin-specific-processing protease 18)\tUBP18 At4g31670 F28M20.140\tArabidopsis thaliana (Mouse-ear cress)\t631\tprotein deubiquitination [GO:0016579]; ubiquitin-dependent protein catabolic process [GO:0006511]\t GO:0046872\t0\t0\t0\tPF00443;PF01753;\n",
      "Q8BV79\tCHOYP_NEMVEDRAFT_V1G79745.2.3\tm.41079\tsp\tTRNK1_MOUSE\t50.526\t95\t45\t1\t1\t93\t1049\t1143\t9.99e-027\t107\tTRNK1_MOUSE\treviewed\tTPR and ankyrin repeat-containing protein 1 (Lupus brain antigen 1)\tTrank1 Gm187 Kiaa0342 Lba1\tMus musculus (Mouse)\t2999\t0\t0\t0\t0\t0\t0\n"
     ]
    }
   ],
   "source": [
    "!tail Galaxy157-[Select_on_data_155].tabular"
   ]
  }
 ],
 "metadata": {
  "anaconda-cloud": {},
  "kernelspec": {
   "display_name": "Python [default]",
   "language": "python",
   "name": "python3"
  },
  "language_info": {
   "codemirror_mode": {
    "name": "ipython",
    "version": 3
   },
   "file_extension": ".py",
   "mimetype": "text/x-python",
   "name": "python",
   "nbconvert_exporter": "python",
   "pygments_lexer": "ipython3",
   "version": "3.5.2"
  }
 },
 "nbformat": 4,
 "nbformat_minor": 1
}
