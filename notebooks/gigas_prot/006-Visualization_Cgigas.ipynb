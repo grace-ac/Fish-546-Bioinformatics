{
 "cells": [
  {
   "cell_type": "code",
   "execution_count": 8,
   "metadata": {
    "collapsed": false
   },
   "outputs": [
    {
     "name": "stdout",
     "output_type": "stream",
     "text": [
      "C:\\Users\\rhondae\\Documents\\Github\\Fish-546-Bioinformatics\\analyses\\gigas_prot\n"
     ]
    }
   ],
   "source": [
    "cd C:/Users/rhondae/Documents/Github/Fish-546-Bioinformatics/analyses/gigas_prot"
   ]
  },
  {
   "cell_type": "markdown",
   "metadata": {},
   "source": [
    "Here is my blast output file from when I blasted the C. gigas proteome with a uniprot protein database to identify proteins. I then merged it with the Uniprot database with GO terms. This is all done in previous notebooks. This file Galaxy41-[Sort_on_data_40].tabular is sorted by column 14 (e-values) in ascending order."
   ]
  },
  {
   "cell_type": "markdown",
   "metadata": {},
   "source": [
    "### Recall\n",
    "![im](https://github.com/Ellior2/Fish-546-Bioinformatics/blob/master/analyses/gigas_prot/Galaxy41.JPG?raw=true)\n",
    "\n",
    "### Unfold GO terms in column 23\n",
    "![im](https://github.com/Ellior2/Fish-546-Bioinformatics/blob/master/analyses/gigas_prot/Galaxy155.JPG?raw=true)\n",
    "\n",
    "### FInding unique GO terms\n",
    "![im](https://github.com/Ellior2/Fish-546-Bioinformatics/blob/master/analyses/gigas_prot/Galaxy159.JPG?raw=true)\n",
    "\n",
    "### Sorted by E-value in ascending order\n",
    "![im](https://github.com/Ellior2/Fish-546-Bioinformatics/blob/master/analyses/gigas_prot/Galaxy160.JPG?raw=true)"
   ]
  },
  {
   "cell_type": "markdown",
   "metadata": {},
   "source": [
    "## Start"
   ]
  },
  {
   "cell_type": "code",
   "execution_count": 7,
   "metadata": {
    "collapsed": false
   },
   "outputs": [
    {
     "name": "stdout",
     "output_type": "stream",
     "text": [
      "A0A0G2K344\tCHOYP_PK3CA.1.1\tm.65093\tsp\tPK3CA_RAT\t54.571\t1061\t463\t11\t3\t1046\t5\t1063\t0.0\t1184\tPK3CA_RAT\treviewed\tPhosphatidylinositol 4,5-bisphosphate 3-kinase catalytic subunit alpha isoform (PI3-kinase subunit alpha) (PI3K-alpha) (PI3Kalpha) (PtdIns-3-kinase subunit alpha) (EC 2.7.1.153) (Phosphatidylinositol 4,5-bisphosphate 3-kinase 110 kDa catalytic subunit alpha) (PtdIns-3-kinase subunit p110-alpha) (p110alpha) (Phosphoinositide-3-kinase catalytic alpha polypeptide) (Serine/threonine protein kinase PIK3CA) (EC 2.7.11.1)\tPik3ca\tRattus norvegicus (Rat)\t1068\tangiogenesis [GO:0001525]; phagocytosis [GO:0006909]; phosphatidylinositol-mediated signaling [GO:0048015]; phosphatidylinositol phosphorylation [GO:0046854]; response to butyrate [GO:1903544]; response to dexamethasone [GO:0071548]; response to leucine [GO:0043201]; response to muscle inactivity [GO:0014870]\tGO:0001525; GO:0004674; GO:0005524; GO:0005829; GO:0005942; GO:0006909; GO:0014870; GO:0016303; GO:0043201; GO:0046854; GO:0046934; GO:0048015; GO:0071548; GO:1903544\t0\t0\t0\tPF00454;PF00792;PF02192;PF00794;PF00613;\n",
      "A0A0R4IBK5\tCHOYP_LOC100030710.2.4\tm.13432\tsp\tR213A_DANRE\t35.855\t3542\t2013\t84\t832\t4287\t1807\t5175\t0.0\t1998\tR213A_DANRE\treviewed\tE3 ubiquitin-protein ligase rnf213-alpha (EC 3.6.4.-) (EC 6.3.2.-) (Mysterin-A) (Mysterin-alpha) (RING finger protein 213-A) (RING finger protein 213-alpha)\trnf213a\tDanio rerio (Zebrafish) (Brachydanio rerio)\t5209\tsprouting angiogenesis [GO:0002040]\tGO:0002040; GO:0004842; GO:0005829; GO:0008270; GO:0016874; GO:0016887\tPATHWAY: Protein modification; protein ubiquitination. {ECO:0000250|UniProtKB:Q63HN8}.\t0\t0\t0\n",
      "A0A0R4IBK5\tCHOYP_LOC100030710.4.4\tm.20819\tsp\tR213A_DANRE\t33.133\t3984\t2214\t115\t502\t4320\t243\t3941\t0.0\t1834\tR213A_DANRE\treviewed\tE3 ubiquitin-protein ligase rnf213-alpha (EC 3.6.4.-) (EC 6.3.2.-) (Mysterin-A) (Mysterin-alpha) (RING finger protein 213-A) (RING finger protein 213-alpha)\trnf213a\tDanio rerio (Zebrafish) (Brachydanio rerio)\t5209\tsprouting angiogenesis [GO:0002040]\tGO:0002040; GO:0004842; GO:0005829; GO:0008270; GO:0016874; GO:0016887\tPATHWAY: Protein modification; protein ubiquitination. {ECO:0000250|UniProtKB:Q63HN8}.\t0\t0\t0\n",
      "A0A0R4IBK5\tCHOYP_RN213.1.13\tm.524\tsp\tR213A_DANRE\t33.422\t4518\t2602\t107\t15\t4420\t975\t5198\t0.0\t2254\tR213A_DANRE\treviewed\tE3 ubiquitin-protein ligase rnf213-alpha (EC 3.6.4.-) (EC 6.3.2.-) (Mysterin-A) (Mysterin-alpha) (RING finger protein 213-A) (RING finger protein 213-alpha)\trnf213a\tDanio rerio (Zebrafish) (Brachydanio rerio)\t5209\tsprouting angiogenesis [GO:0002040]\tGO:0002040; GO:0004842; GO:0005829; GO:0008270; GO:0016874; GO:0016887\tPATHWAY: Protein modification; protein ubiquitination. {ECO:0000250|UniProtKB:Q63HN8}.\t0\t0\t0\n",
      "A0A0R4IBK5\tCHOYP_RN213.12.13\tm.60577\tsp\tR213A_DANRE\t29.606\t5259\t3093\t163\t90\t5118\t180\t5059\t0.0\t1961\tR213A_DANRE\treviewed\tE3 ubiquitin-protein ligase rnf213-alpha (EC 3.6.4.-) (EC 6.3.2.-) (Mysterin-A) (Mysterin-alpha) (RING finger protein 213-A) (RING finger protein 213-alpha)\trnf213a\tDanio rerio (Zebrafish) (Brachydanio rerio)\t5209\tsprouting angiogenesis [GO:0002040]\tGO:0002040; GO:0004842; GO:0005829; GO:0008270; GO:0016874; GO:0016887\tPATHWAY: Protein modification; protein ubiquitination. {ECO:0000250|UniProtKB:Q63HN8}.\t0\t0\t0\n",
      "A0A0R4IBK5\tCHOYP_RN213.2.13\tm.3944\tsp\tR213A_DANRE\t27.491\t2328\t1470\t62\t3\t2252\t2988\t5175\t0.0\t775\tR213A_DANRE\treviewed\tE3 ubiquitin-protein ligase rnf213-alpha (EC 3.6.4.-) (EC 6.3.2.-) (Mysterin-A) (Mysterin-alpha) (RING finger protein 213-A) (RING finger protein 213-alpha)\trnf213a\tDanio rerio (Zebrafish) (Brachydanio rerio)\t5209\tsprouting angiogenesis [GO:0002040]\tGO:0002040; GO:0004842; GO:0005829; GO:0008270; GO:0016874; GO:0016887\tPATHWAY: Protein modification; protein ubiquitination. {ECO:0000250|UniProtKB:Q63HN8}.\t0\t0\t0\n",
      "A0A0R4IBK5\tCHOYP_RN213.4.13\tm.27716\tsp\tR213A_DANRE\t35.861\t3561\t2031\t85\t1074\t4554\t1811\t5198\t0.0\t2004\tR213A_DANRE\treviewed\tE3 ubiquitin-protein ligase rnf213-alpha (EC 3.6.4.-) (EC 6.3.2.-) (Mysterin-A) (Mysterin-alpha) (RING finger protein 213-A) (RING finger protein 213-alpha)\trnf213a\tDanio rerio (Zebrafish) (Brachydanio rerio)\t5209\tsprouting angiogenesis [GO:0002040]\tGO:0002040; GO:0004842; GO:0005829; GO:0008270; GO:0016874; GO:0016887\tPATHWAY: Protein modification; protein ubiquitination. {ECO:0000250|UniProtKB:Q63HN8}.\t0\t0\t0\n",
      "A0A0R4IBK5\tCHOYP_RN213.6.13\tm.42268\tsp\tR213A_DANRE\t40.589\t2173\t1123\t51\t2132\t4251\t1811\t3868\t0.0\t1506\tR213A_DANRE\treviewed\tE3 ubiquitin-protein ligase rnf213-alpha (EC 3.6.4.-) (EC 6.3.2.-) (Mysterin-A) (Mysterin-alpha) (RING finger protein 213-A) (RING finger protein 213-alpha)\trnf213a\tDanio rerio (Zebrafish) (Brachydanio rerio)\t5209\tsprouting angiogenesis [GO:0002040]\tGO:0002040; GO:0004842; GO:0005829; GO:0008270; GO:0016874; GO:0016887\tPATHWAY: Protein modification; protein ubiquitination. {ECO:0000250|UniProtKB:Q63HN8}.\t0\t0\t0\n",
      "A0A0R4IBK5\tCHOYP_RN213.7.13\tm.45975\tsp\tR213A_DANRE\t46.528\t1541\t717\t34\t2150\t3652\t1811\t3282\t0.0\t1314\tR213A_DANRE\treviewed\tE3 ubiquitin-protein ligase rnf213-alpha (EC 3.6.4.-) (EC 6.3.2.-) (Mysterin-A) (Mysterin-alpha) (RING finger protein 213-A) (RING finger protein 213-alpha)\trnf213a\tDanio rerio (Zebrafish) (Brachydanio rerio)\t5209\tsprouting angiogenesis [GO:0002040]\tGO:0002040; GO:0004842; GO:0005829; GO:0008270; GO:0016874; GO:0016887\tPATHWAY: Protein modification; protein ubiquitination. {ECO:0000250|UniProtKB:Q63HN8}.\t0\t0\t0\n",
      "A0A0R4IBK5\tCHOYP_RN213.9.13\tm.52892\tsp\tR213A_DANRE\t39.152\t1839\t967\t38\t8\t1827\t1373\t3078\t0.0\t1221\tR213A_DANRE\treviewed\tE3 ubiquitin-protein ligase rnf213-alpha (EC 3.6.4.-) (EC 6.3.2.-) (Mysterin-A) (Mysterin-alpha) (RING finger protein 213-A) (RING finger protein 213-alpha)\trnf213a\tDanio rerio (Zebrafish) (Brachydanio rerio)\t5209\tsprouting angiogenesis [GO:0002040]\tGO:0002040; GO:0004842; GO:0005829; GO:0008270; GO:0016874; GO:0016887\tPATHWAY: Protein modification; protein ubiquitination. {ECO:0000250|UniProtKB:Q63HN8}.\t0\t0\t0\n"
     ]
    }
   ],
   "source": [
    "!head Galaxy41-[Sort_on_data_40].tabular"
   ]
  },
  {
   "cell_type": "markdown",
   "metadata": {},
   "source": [
    "## Finish"
   ]
  },
  {
   "cell_type": "code",
   "execution_count": 9,
   "metadata": {
    "collapsed": false
   },
   "outputs": [
    {
     "name": "stdout",
     "output_type": "stream",
     "text": [
      "P49959\tCHOYP_MRE11.1.2\tm.1368\tsp\tMRE11_HUMAN\t54.780\t659\t270\t11\t129\t766\t10\t661\t0.0\t694\tMRE11_HUMAN\treviewed\tDouble-strand break repair protein MRE11A (Meiotic recombination 11 homolog 1) (MRE11 homolog 1) (Meiotic recombination 11 homolog A) (MRE11 homolog A)\tMRE11A HNGS1 MRE11\tHomo sapiens (Human)\t708\tcell proliferation [GO:0008283]; cellular response to DNA damage stimulus [GO:0006974]; DNA double-strand break processing [GO:0000729]; DNA duplex unwinding [GO:0032508]; DNA recombination [GO:0006310]; DNA repair [GO:0006281]; DNA replication [GO:0006260]; DNA synthesis involved in DNA repair [GO:0000731]; double-strand break repair [GO:0006302]; double-strand break repair via homologous recombination [GO:0000724]; double-strand break repair via nonhomologous end joining [GO:0006303]; heart development [GO:0007507]; intra-S DNA damage checkpoint [GO:0031573]; mitotic G2 DNA damage checkpoint [GO:0007095]; negative regulation of apoptotic process [GO:0043066]; negative regulation of DNA endoreduplication [GO:0032876]; negative regulation of viral entry into host cell [GO:0046597]; positive regulation of kinase activity [GO:0033674]; positive regulation of protein autophosphorylation [GO:0031954]; positive regulation of telomere maintenance [GO:0032206]; positive regulation of type I interferon production [GO:0032481]; reciprocal meiotic recombination [GO:0007131]; regulation of mitotic recombination [GO:0000019]; regulation of signal transduction by p53 class mediator [GO:1901796]; sister chromatid cohesion [GO:0007062]; strand displacement [GO:0000732]; synapsis [GO:0007129]; telomere maintenance via telomerase [GO:0007004]; telomeric 3' overhang formation [GO:0031860]; viral process [GO:0016032]\t GO:0000019\t0\t0\t0\tPF00149;PF04152;\n",
      "P42859\tCHOYP_HD.1.1\tm.56119\tsp\tHD_MOUSE\t43.762\t2132\t1079\t37\t6\t2070\t1036\t3114\t0.0\t1703\tHD_MOUSE\treviewed\tHuntingtin (Huntington disease protein homolog) (HD protein homolog)\tHtt Hd Hdh\tMus musculus (Mouse)\t3119\tanatomical structure morphogenesis [GO:0009653]; anterior/posterior pattern specification [GO:0009952]; apoptotic process [GO:0006915]; associative learning [GO:0008306]; axo-dendritic transport [GO:0008088]; brain development [GO:0007420]; cell aging [GO:0007569]; central nervous system development [GO:0007417]; citrulline metabolic process [GO:0000052]; determination of adult lifespan [GO:0008340]; dopamine receptor signaling pathway [GO:0007212]; endoplasmic reticulum organization [GO:0007029]; endosomal transport [GO:0016197]; ER to Golgi vesicle-mediated transport [GO:0006888]; establishment of mitotic spindle orientation [GO:0000132]; gastrulation [GO:0007369]; Golgi organization [GO:0007030]; grooming behavior [GO:0007625]; hormone metabolic process [GO:0042445]; insulin secretion [GO:0030073]; iron ion homeostasis [GO:0055072]; lactate biosynthetic process from pyruvate [GO:0019244]; learning [GO:0007612]; learning or memory [GO:0007611]; L-glutamate import [GO:0051938]; locomotory behavior [GO:0007626]; mitochondrial transport [GO:0006839]; mitochondrion organization [GO:0007005]; negative regulation of apoptotic process [GO:0043066]; negative regulation of extrinsic apoptotic signaling pathway [GO:2001237]; negative regulation of neuron apoptotic process [GO:0043524]; negative regulation of neuron death [GO:1901215]; neural plate formation [GO:0021990]; neurogenesis [GO:0022008]; neuron apoptotic process [GO:0051402]; neuron development [GO:0048666]; olfactory lobe development [GO:0021988]; paraxial mesoderm formation [GO:0048341]; peptide hormone secretion [GO:0030072]; positive regulation of cilium assembly [GO:0045724]; positive regulation of inositol 1,4,5-trisphosphate-sensitive calcium-release channel activity [GO:0031587]; positive regulation of nonmotile primary cilium assembly [GO:1902857]; protein import into nucleus [GO:0006606]; protein localization to centrosome [GO:0071539]; quinolinate biosynthetic process [GO:0019805]; regulation of mitochondrial membrane permeability [GO:0046902]; regulation of mitochondrial membrane potential [GO:0051881]; regulation of protein phosphatase type 2A activity [GO:0034047]; regulation of synaptic plasticity [GO:0048167]; response to calcium ion [GO:0051592]; retrograde vesicle-mediated transport, Golgi to ER [GO:0006890]; social behavior [GO:0035176]; spermatogenesis [GO:0007283]; striatum development [GO:0021756]; urea cycle [GO:0000050]; vesicle transport along microtubule [GO:0047496]; visual learning [GO:0008542]; vocal learning [GO:0042297]\t GO:0000052\t0\t0\t0\tPF12372;\n",
      "Q66I24\tCHOYP_ASSY.2.4\tm.43713\tsp\tASSY_DANRE\t70.500\t400\t118\t0\t7\t406\t6\t405\t0.0\t624\tASSY_DANRE\treviewed\tArgininosuccinate synthase (EC 6.3.4.5) (Citrulline--aspartate ligase)\tass1 ass zgc:92051\tDanio rerio (Zebrafish) (Brachydanio rerio)\t414\targinine biosynthetic process [GO:0006526]; argininosuccinate metabolic process [GO:0000053]; urea cycle [GO:0000050]\t GO:0000053\tPATHWAY: Amino-acid biosynthesis; L-arginine biosynthesis; L-arginine from L-ornithine and carbamoyl phosphate: step 2/3.; PATHWAY: Nitrogen metabolism; urea cycle; (N(omega)-L-arginino)succinate from L-aspartate and L-citrulline: step 1/1.\t0\tcd01999;\tPF00764;\n",
      "Q80U96\tCHOYP_XPO1.1.1\tm.31560\tsp\tXPO1_RAT\t79.907\t1075\t210\t4\t3\t1076\t2\t1071\t0.0\t1815\tXPO1_RAT\treviewed\tExportin-1 (Exp1) (Chromosome region maintenance 1 protein homolog)\tXpo1 Crm1\tRattus norvegicus (Rat)\t1071\tmRNA transport [GO:0051028]; negative regulation of transcription from RNA polymerase II promoter [GO:0000122]; protein export from nucleus [GO:0006611]; protein localization to nucleus [GO:0034504]; regulation of centrosome duplication [GO:0010824]; regulation of protein catabolic process [GO:0042176]; regulation of protein export from nucleus [GO:0046825]; response to drug [GO:0042493]; ribosomal large subunit export from nucleus [GO:0000055]; ribosomal small subunit export from nucleus [GO:0000056]\t GO:0000056\t0\t0\t0\tPF08767;PF03810;PF08389;\n",
      "O00410\tCHOYP_IPO5.1.1\tm.25693\tsp\tIPO5_HUMAN\t59.066\t1092\t446\t1\t4\t1095\t7\t1097\t0.0\t1380\tIPO5_HUMAN\treviewed\tImportin-5 (Imp5) (Importin subunit beta-3) (Karyopherin beta-3) (Ran-binding protein 5) (RanBP5)\tIPO5 KPNB3 RANBP5\tHomo sapiens (Human)\t1097\tcellular response to amino acid stimulus [GO:0071230]; NLS-bearing protein import into nucleus [GO:0006607]; positive regulation of protein import into nucleus [GO:0042307]; protein import into nucleus, docking [GO:0000059]; protein import into nucleus, translocation [GO:0000060]; ribosomal protein import into nucleus [GO:0006610]; viral process [GO:0016032]\t GO:0000060\t0\t0\t0\tPF02985;\n",
      "Q9R0H0\tCHOYP_ACOX1.3.3\tm.26948\tsp\tACOX1_MOUSE\t48.714\t661\t326\t4\t7\t657\t1\t658\t0.0\t660\tACOX1_MOUSE\treviewed\tPeroxisomal acyl-coenzyme A oxidase 1 (AOX) (EC 1.3.3.6) (Palmitoyl-CoA oxidase)\tAcox1 Acox Paox\tMus musculus (Mouse)\t661\tfatty acid beta-oxidation [GO:0006635]; fatty acid beta-oxidation using acyl-CoA dehydrogenase [GO:0033539]; fatty acid beta-oxidation using acyl-CoA oxidase [GO:0033540]; fatty acid oxidation [GO:0019395]; generation of precursor metabolites and energy [GO:0006091]; lipid homeostasis [GO:0055088]; lipid metabolic process [GO:0006629]; peroxisome fission [GO:0016559]; positive regulation of cholesterol homeostasis [GO:2000189]; prostaglandin metabolic process [GO:0006693]; spermatogenesis [GO:0007283]; very long-chain fatty acid metabolic process [GO:0000038]\t GO:0000062\tPATHWAY: Lipid metabolism; peroxisomal fatty acid beta-oxidation.\t0\t0\tPF01756;PF02770;PF14749;\n",
      "Q9ESL4\tCHOYP_MLTK.1.1\tm.33789\tsp\tMLTK_MOUSE\t53.694\t555\t244\t7\t4\t551\t5\t553\t0.0\t596\tMLTK_MOUSE\treviewed\tMitogen-activated protein kinase kinase kinase MLT (EC 2.7.11.25) (Leucine zipper- and sterile alpha motif kinase ZAK) (MLK-like mitogen-activated protein triple kinase) (Mixed lineage kinase-related kinase) (MLK-related kinase) (MRK) (Sterile alpha motif- and leucine zipper-containing kinase AZK)\tZak Mltk\tMus musculus (Mouse)\t802\tactivation of JUN kinase activity [GO:0007257]; cell cycle arrest [GO:0007050]; cell cycle checkpoint [GO:0000075]; cytoskeleton organization [GO:0007010]; DNA damage checkpoint [GO:0000077]; embryonic digit morphogenesis [GO:0042733]; intracellular signal transduction [GO:0035556]; limb development [GO:0060173]; positive regulation of apoptotic process [GO:0043065]; protein phosphorylation [GO:0006468]; response to radiation [GO:0009314]\t GO:0000077\t0\t0\t0\tPF07714;PF00536;\n",
      "O75419\tCHOYP_LOC753011.1.1\tm.12713\tsp\tCDC45_HUMAN\t50.439\t569\t274\t4\t1\t565\t1\t565\t0.0\t598\tCDC45_HUMAN\treviewed\tCell division control protein 45 homolog (PORC-PI-1)\tCDC45 CDC45L CDC45L2 UNQ374/PRO710\tHomo sapiens (Human)\t566\tDNA replication [GO:0006260]; DNA replication checkpoint [GO:0000076]; DNA replication initiation [GO:0006270]; double-strand break repair via break-induced replication [GO:0000727]; G1/S transition of mitotic cell cycle [GO:0000082]; mitotic DNA replication preinitiation complex assembly [GO:1902977]; positive regulation of G1/S transition of mitotic cell cycle [GO:1900087]; pre-replicative complex assembly involved in nuclear cell cycle DNA replication [GO:0006267]; regulation of chromatin silencing at telomere [GO:0031938]; regulation of transcription involved in G1/S transition of mitotic cell cycle [GO:0000083]\t GO:0000082\t0\t0\t0\tPF02724;\n",
      "O75419\tCHOYP_LOC753011.1.1\tm.12713\tsp\tCDC45_HUMAN\t50.439\t569\t274\t4\t1\t565\t1\t565\t0.0\t598\tCDC45_HUMAN\treviewed\tCell division control protein 45 homolog (PORC-PI-1)\tCDC45 CDC45L CDC45L2 UNQ374/PRO710\tHomo sapiens (Human)\t566\tDNA replication [GO:0006260]; DNA replication checkpoint [GO:0000076]; DNA replication initiation [GO:0006270]; double-strand break repair via break-induced replication [GO:0000727]; G1/S transition of mitotic cell cycle [GO:0000082]; mitotic DNA replication preinitiation complex assembly [GO:1902977]; positive regulation of G1/S transition of mitotic cell cycle [GO:1900087]; pre-replicative complex assembly involved in nuclear cell cycle DNA replication [GO:0006267]; regulation of chromatin silencing at telomere [GO:0031938]; regulation of transcription involved in G1/S transition of mitotic cell cycle [GO:0000083]\t GO:0000083\t0\t0\t0\tPF02724;\n",
      "O14757\tCHOYP_LOC100367549.1.1\tm.6366\tsp\tCHK1_HUMAN\t56.867\t466\t197\t3\t7\t471\t5\t467\t0.0\t534\tCHK1_HUMAN\treviewed\tSerine/threonine-protein kinase Chk1 (EC 2.7.11.1) (CHK1 checkpoint homolog) (Cell cycle checkpoint kinase) (Checkpoint kinase-1)\tCHEK1 CHK1\tHomo sapiens (Human)\t476\tcellular response to DNA damage stimulus [GO:0006974]; cellular response to mechanical stimulus [GO:0071260]; chromatin-mediated maintenance of transcription [GO:0048096]; DNA damage checkpoint [GO:0000077]; DNA damage induced protein phosphorylation [GO:0006975]; DNA repair [GO:0006281]; DNA replication [GO:0006260]; G2/M transition of mitotic cell cycle [GO:0000086]; G2 DNA damage checkpoint [GO:0031572]; negative regulation of mitotic nuclear division [GO:0045839]; peptidyl-threonine phosphorylation [GO:0018107]; regulation of cell proliferation [GO:0042127]; regulation of double-strand break repair via homologous recombination [GO:0010569]; regulation of histone H3-K9 acetylation [GO:2000615]; regulation of mitotic centrosome separation [GO:0046602]; regulation of signal transduction by p53 class mediator [GO:1901796]; regulation of transcription from RNA polymerase II promoter in response to UV-induced DNA damage [GO:0010767]; replicative senescence [GO:0090399]\t GO:0000086\t0\t0\t0\tPF00069;\n"
     ]
    }
   ],
   "source": [
    "!head Galaxy160-[Sort_on_data_159].tabular"
   ]
  },
  {
   "cell_type": "markdown",
   "metadata": {},
   "source": [
    "### Copied GO terms with e-values of 0.0 and input codes into Revigo for Biological Processes"
   ]
  },
  {
   "cell_type": "markdown",
   "metadata": {},
   "source": [
    "![im](https://github.com/Ellior2/Fish-546-Bioinformatics/blob/master/analyses/gigas_prot/Revigo.JPG?raw=true)"
   ]
  },
  {
   "cell_type": "code",
   "execution_count": 11,
   "metadata": {
    "collapsed": false
   },
   "outputs": [
    {
     "name": "stdout",
     "output_type": "stream",
     "text": [
      "term_ID,description,frequency,plot_X,plot_Y,plot_size,uniqueness,dispensability,representative,eliminated\n",
      "GO:0001770,\"establishment of natural killer cell polarity\",0.000%, 1.912,-2.888,0.301,0.915,0.000,1770,0\n",
      "GO:0016334,\"establishment or maintenance of polarity of follicular epithelium\",0.000%,null,null,1.544,0.758,0.570,1770,1\n",
      "GO:0002315,\"marginal zone B cell differentiation\",0.000%,null,null,1.519,0.672,0.503,1770,1\n",
      "GO:0030708,\"germarium-derived female germ-line cyst encapsulation\",0.000%,null,null,1.146,0.684,0.940,1770,1\n",
      "GO:0006042,\"glucosamine biosynthetic process\",0.000%, 0.895, 0.526,0.778,0.964,0.000,6042,0\n",
      "GO:0034398,\"telomere tethering at nuclear periphery\",0.000%, 2.675,-6.274,0.954,0.942,0.000,34398,0\n",
      "GO:0097401,\"synaptic vesicle lumen acidification\",0.000%,null,null,0.301,0.677,0.577,34398,1\n",
      "GO:0030050,\"vesicle transport along actin filament\",0.000%,null,null,1.505,0.882,0.540,34398,1\n",
      "GO:0046957,\"negative phototaxis\",0.000%, 6.996,-1.430,0.845,0.928,0.000,46957,0\n"
     ]
    }
   ],
   "source": [
    "!head revigo.csv"
   ]
  }
 ],
 "metadata": {
  "anaconda-cloud": {},
  "kernelspec": {
   "display_name": "Python [default]",
   "language": "python",
   "name": "python3"
  },
  "language_info": {
   "codemirror_mode": {
    "name": "ipython",
    "version": 3
   },
   "file_extension": ".py",
   "mimetype": "text/x-python",
   "name": "python",
   "nbconvert_exporter": "python",
   "pygments_lexer": "ipython3",
   "version": "3.5.2"
  }
 },
 "nbformat": 4,
 "nbformat_minor": 1
}
