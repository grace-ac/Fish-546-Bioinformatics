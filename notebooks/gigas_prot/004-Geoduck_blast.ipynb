{
 "cells": [
  {
   "cell_type": "markdown",
   "metadata": {},
   "source": [
    "## In this notebook I will be comparing the Geoduck proteome to the Pacific oyster proteome."
   ]
  },
  {
   "cell_type": "code",
   "execution_count": 1,
   "metadata": {
    "collapsed": false
   },
   "outputs": [
    {
     "name": "stdout",
     "output_type": "stream",
     "text": [
      "C:\\Users\\rhondae\\Documents\\Github\\Fish-546-Bioinformatics\\data\\gigas_prot\n"
     ]
    }
   ],
   "source": [
    "cd C:/Users/rhondae/Documents/Github/Fish-546-Bioinformatics/data/gigas_prot"
   ]
  },
  {
   "cell_type": "markdown",
   "metadata": {},
   "source": [
    "Downloaded Geoduck proteome from https://raw.githubusercontent.com/sr320/paper-Geoduck-proteomic/master/Supplemental-files/S1-Pgenerosa-gonad-protein-v3.fa on 11/4/16 at 7:53AM"
   ]
  },
  {
   "cell_type": "code",
   "execution_count": 3,
   "metadata": {
    "collapsed": false
   },
   "outputs": [
    {
     "name": "stdout",
     "output_type": "stream",
     "text": [
      ">cds.comp100047_c0_seq2\n",
      "NAECRDLYKIFTQILSVRSQEGKIVIPDEFATKIRNWLGNKEELFKEAHNQKIITFYNEYTREENTFNPIRGKRPMSVPDMPERKYIDQLSRKTQSQCDFCKYKTFTAEDTFGRIDSNFSCSASNAFKLDHWHALFLLKTH\n",
      ">cds.comp100068_c0_seq1\n",
      "LFLDKSGKRICSFNNLTAVIEKATERASRIRLAKGLSQPKYLSCGNVDKVPAPGYLTASFTQLSVNKTRKDKGRNHLLLWDQTSSYSYIGPGIHYKDGKIRVNTT\n",
      ">cds.comp100097_c2_seq1\n",
      "GTENLRICLKVIETYLLLGPREFLELYSGDLVHSLSNLLSDLRTEGVLLVLRVIELVLKSFPTEGPALFKSMLPEFLRAVLNKDEHPVVMSLYLTLFGRIVLQNQEFFWNFLDQMAMESHTDSSTILKSMLAAWVESIDSMTQPERRKLSALALASLLTVNYSVILESFGSIVSVCVQVLHDVCRVPVDEETAIQMDALVIRDGDNLGEDEHETEHEKRKRALTRK\n",
      ">cds.comp100100_c0_seq1\n",
      "VEPINRQATDGVKKKKKKKTKLSDGVLPSNVKANSFTKFSQAPDNFTGSKLSSGSACSSGSCTAGLMLKVGEFCQSIRTSSSETNNGASEHSNSEQCREGAKSDAAIQGIGLELTRKPPIPAKAGKPSNNGATISPDILRHTDKSGTKGHKRQKSLPKQHYPMVEAIGASDFRKNGTCSHDNPRLNSDPSILTTAPNKWSLKKSNSAPSPSNSKQTLSQSGKISGSQPPIFNSVNKPLNTGTTSPGGRNKKLPQCGVQALFYGSEDQFGANQTGGNKIIRKEGFAKGLNSHITNGLDPSKYTLDPSKCGGLLSNEGGSVMDNSHSLIITRNSPGAVNGTCNINGEHGLHDDCSDTKSDEGTVGGINIVEGSNPETKQIGTWKKIFGLIK*\n",
      ">cds.comp100100_c0_seq2\n",
      "VEPINRQATDGVKKKKKKKTKLSDGVLPSNVKANSFTKFSQAPDNFTGSKLSSGSACSSGSCTAGLMLKVGEFCQSIRTSSSETNNGASEHSNSEQCREGAKSDAAIQGIGLELTRKPPIPAKAGKPSNNGATISPDILRHTDKSGTKGHKRQKSLPKQHYPMVEAIGASDFRKNGTCSHDNPRLNSDPSILTTAPNKWSLKKSNSAPSPSNSKQTLPQCGA\n"
     ]
    }
   ],
   "source": [
    "!head Galaxy59-[https___raw.githubusercontent.com_sr320_paper-Geoduck-proteomic_master_Supplemental-files_S1-Pgenerosa-gonad-protein-v3.fa].sdf"
   ]
  },
  {
   "cell_type": "code",
   "execution_count": 4,
   "metadata": {
    "collapsed": false
   },
   "outputs": [
    {
     "name": "stdout",
     "output_type": "stream",
     "text": [
      "71914 Galaxy59-[https___raw.githubusercontent.com_sr320_paper-Geoduck-proteomic_master_Supplemental-files_S1-Pgenerosa-gonad-protein-v3.fa].sdf\n"
     ]
    }
   ],
   "source": [
    "!wc -l Galaxy59-[https___raw.githubusercontent.com_sr320_paper-Geoduck-proteomic_master_Supplemental-files_S1-Pgenerosa-gonad-protein-v3.fa].sdf"
   ]
  },
  {
   "cell_type": "code",
   "execution_count": 7,
   "metadata": {
    "collapsed": false
   },
   "outputs": [
    {
     "name": "stdout",
     "output_type": "stream",
     "text": [
      ">CHOYP_043R.1.5|m.16874 CHOYP_043R.1.5|g.16874  ORF CHOYP_043R.1.5|g.16874 CHOYP_043R.1.5|m.16874 type:internal len:199 (-) CHOYP_043R.1.5:1-594(-)\n",
      "TPSGPTPSGPTPSVTPTPSGPTPSVTPTPSGSTPSGPTPSVTPTPSGPTPSGPTPSVTPT\n",
      "PSGPTPSVTPTPSVPTPSGPTPSVTPTPSGPTPSVTPTPSGPTPSGPTPSVTPTPSGPTP\n",
      "SGPTPSVTPTPSVTPTPSGPTPSVTSTPSAPTPSGPTPSGPTPSVTPTPSGPTPSGPTPS\n",
      "VTPTPSGPTPSVTPTPSG\n",
      ">CHOYP_043R.5.5|m.64252 CHOYP_043R.5.5|g.64252  ORF CHOYP_043R.5.5|g.64252 CHOYP_043R.5.5|m.64252 type:internal len:821 (+) CHOYP_043R.5.5:2-2461(+)\n",
      "SRPTPSVTPTPSGPTPSVTPTPSVSTPSGPTPSVTPTPSGPSPSVTPTPSGPSPSGPTPS\n",
      "ATPTPSGPTPSGTTPSGSTPSATITTISTPSTTVCSYVDIGPEQAIDVSLRSPSEDPDAP\n",
      "IENILQTNSVYKPKKEPTYDENVVVKIISQDTPTILRVSFTVNRADTVGLEYLTDYKQKI\n",
      "ITQNNETVEFVFAAGIITDNFTINIRSDSAEQPEISNLKIRACYKPVIGQPSTTTPNPSI\n"
     ]
    }
   ],
   "source": [
    "!head contigs.fasta.transdecoder.pep"
   ]
  },
  {
   "cell_type": "code",
   "execution_count": 5,
   "metadata": {
    "collapsed": false
   },
   "outputs": [
    {
     "name": "stdout",
     "output_type": "stream",
     "text": [
      "396909 contigs.fasta.transdecoder.pep\n"
     ]
    }
   ],
   "source": [
    "!wc -l contigs.fasta.transdecoder.pep"
   ]
  },
  {
   "cell_type": "code",
   "execution_count": 8,
   "metadata": {
    "collapsed": false
   },
   "outputs": [
    {
     "name": "stdout",
     "output_type": "stream",
     "text": [
      "\n",
      "\n",
      "Building a new DB, current time: 11/04/2016 07:58:50\n",
      "New DB name:   C:\\Users\\rhondae\\Documents\\Github\\Fish-546-Bioinformatics\\data\\gigas_prot\\pgenorosa_db\n",
      "New DB title:  Pgenorasa_prot.sdf\n",
      "Sequence type: Protein\n",
      "Keep MBits: T\n",
      "Maximum file size: 1000000000B\n",
      "Adding sequences from FASTA; added 35957 sequences in 14.2272 seconds.\n"
     ]
    }
   ],
   "source": [
    "!C:/Users/rhondae/Desktop/blast-2.5.0+/bin/makeblastdb \\\n",
    "-in Pgenorasa_prot.sdf \\\n",
    "-dbtype prot \\\n",
    "-out pgenorosa_db"
   ]
  },
  {
   "cell_type": "code",
   "execution_count": 10,
   "metadata": {
    "collapsed": false
   },
   "outputs": [],
   "source": [
    "!C:/Users/rhondae/Desktop/blast-2.5.0+/bin/blastp \\\n",
    "-query contigs.fasta.transdecoder.pep \\\n",
    "-db pgenorosa_db \\\n",
    "-evalue 1e-5 \\\n",
    "-max_target_seqs 1 \\\n",
    "-max_hsps 1 \\\n",
    "-outfmt 6 \\\n",
    "-num_threads 16 \\\n",
    "> blastoutput_pgen.txt"
   ]
  },
  {
   "cell_type": "code",
   "execution_count": 11,
   "metadata": {
    "collapsed": false
   },
   "outputs": [
    {
     "name": "stdout",
     "output_type": "stream",
     "text": [
      "CHOYP_043R.5.5|m.64252\tcds.comp144440_c1_seq2\t34.722\t216\t115\t7\t612\t809\t207\t414\t7.17e-008\t56.2\n",
      "CHOYP_14332.1.2|m.5643\tcds.comp137991_c0_seq1\t63.869\t274\t81\t5\t11\t281\t10\t268\t3.58e-109\t316\n",
      "CHOYP_14332.1.2|m.5644\tcds.comp138657_c0_seq7\t41.284\t109\t60\t2\t1\t107\t1\t107\t1.49e-023\t93.6\n",
      "CHOYP_14332.2.2|m.61737\tcds.comp137991_c0_seq1\t66.667\t255\t77\t4\t1\t252\t19\t268\t4.68e-109\t315\n",
      "CHOYP_1433E.1.2|m.3638\tcds.comp128597_c0_seq1\t74.708\t257\t63\t1\t3\t257\t6\t262\t1.68e-137\t387\n",
      "CHOYP_1433E.2.2|m.63376\tcds.comp128597_c0_seq1\t74.708\t257\t63\t1\t3\t257\t6\t262\t1.68e-137\t387\n",
      "CHOYP_1433E.2.2|m.63378\tcds.comp141567_c0_seq5\t42.771\t166\t69\t3\t4\t145\t22\t185\t1.86e-032\t113\n",
      "CHOYP_1433G.1.2|m.8906\tcds.comp137991_c0_seq1\t70.896\t134\t36\t1\t18\t151\t138\t268\t5.90e-062\t191\n",
      "CHOYP_1433G.2.2|m.63451\tcds.comp139878_c1_seq1\t65.700\t207\t55\t5\t16\t220\t53\t245\t3.84e-079\t238\n",
      "CHOYP_1433G.2.2|m.63450\tcds.comp137991_c0_seq1\t57.500\t240\t98\t3\t4\t241\t23\t260\t1.26e-092\t273\n"
     ]
    }
   ],
   "source": [
    "!head blastoutput_pgen.txt"
   ]
  },
  {
   "cell_type": "markdown",
   "metadata": {},
   "source": [
    "## Here are proteins that are found in both _P. genorosa_ and _C. gigas_"
   ]
  },
  {
   "cell_type": "code",
   "execution_count": 8,
   "metadata": {
    "collapsed": false
   },
   "outputs": [
    {
     "name": "stdout",
     "output_type": "stream",
     "text": [
      "28450 ../../analyses/gigas_prot/blastoutput_pgen.txt\n"
     ]
    }
   ],
   "source": [
    "!wc -l ../../analyses/gigas_prot/blastoutput_pgen.txt"
   ]
  },
  {
   "cell_type": "markdown",
   "metadata": {},
   "source": [
    "In Galaxy:\n",
    "\n",
    "   1) Upload blastoutput_pgen [Galaxy62.PNG](https://github.com/Ellior2/Fish-546-Bioinformatics/blob/master/analyses/gigas_prot/Galaxy62.PNG)\n",
    "   \n",
    "   2) Convert pipes to tabs [Galaxy63.PNG](https://github.com/Ellior2/Fish-546-Bioinformatics/blob/master/analyses/gigas_prot/Galaxy63.PNG)\n",
    "   \n",
    "   3) Join with _C. gigas_ blastoutput to get entry code [Galaxy64.PNG](https://github.com/Ellior2/Fish-546-Bioinformatics/blob/master/analyses/gigas_prot/Galaxy64.PNG)\n",
    "   \n",
    "   4) Cut remaining columns leftover from _C. gigas_ output [Galaxy66.PNG](https://github.com/Ellior2/Fish-546-Bioinformatics/blob/master/analyses/gigas_prot/Galaxy66.PNG)\n",
    "   \n",
    "   5) Join with uniprot-all.tab to get entry name, protein name, gene name, organism, and length [Galaxy67.PNG](https://github.com/Ellior2/Fish-546-Bioinformatics/blob/master/analyses/gigas_prot/Galaxy67.PNG)"
   ]
  },
  {
   "cell_type": "code",
   "execution_count": 9,
   "metadata": {
    "collapsed": false
   },
   "outputs": [
    {
     "name": "stdout",
     "output_type": "stream",
     "text": [
      "A0A0G2K344\tCHOYP_PK3CA.1.1\tm.65093\tcds.comp133035_c0_seq1\t60.593\t472\t182\t3\t72\t540\t1\t471\t0.0\t598\tm.65093\tsp\tPK3CA_RAT\t54.571\tPK3CA_RAT\treviewed\tPhosphatidylinositol 4,5-bisphosphate 3-kinase catalytic subunit alpha isoform (PI3-kinase subunit alpha) (PI3K-alpha) (PI3Kalpha) (PtdIns-3-kinase subunit alpha) (EC 2.7.1.153) (Phosphatidylinositol 4,5-bisphosphate 3-kinase 110 kDa catalytic subunit alpha) (PtdIns-3-kinase subunit p110-alpha) (p110alpha) (Phosphoinositide-3-kinase catalytic alpha polypeptide) (Serine/threonine protein kinase PIK3CA) (EC 2.7.11.1)\tPik3ca\tRattus norvegicus (Rat)\t1068\tangiogenesis [GO:0001525]; phagocytosis [GO:0006909]; phosphatidylinositol-mediated signaling [GO:0048015]; phosphatidylinositol phosphorylation [GO:0046854]; response to butyrate [GO:1903544]; response to dexamethasone [GO:0071548]; response to leucine [GO:0043201]; response to muscle inactivity [GO:0014870]\tGO:0001525; GO:0004674; GO:0005524; GO:0005829; GO:0005942; GO:0006909; GO:0014870; GO:0016303; GO:0043201; GO:0046854; GO:0046934; GO:0048015; GO:0071548; GO:1903544\t0\t0\t0\tPF00454;PF00792;PF02192;PF00794;PF00613;\n",
      "A0A0N9E2K8\tCHOYP_MMP21.1.1\tm.41772\tcds.comp54277_c1_seq1\t55.307\t179\t74\t1\t201\t373\t14\t192\t4.20e-060\t199\tm.41772\tsp\tMMP21_DANRE\t35.921\tMMP21_DANRE\treviewed\tMatrix metallopeptidase-21 (MMP-21) (EC 3.4.24.-)\tmmp21\tDanio rerio (Zebrafish) (Brachydanio rerio)\t599\tdetermination of heart left/right asymmetry [GO:0061371]; determination of left/right symmetry [GO:0007368]\tGO:0004222; GO:0005509; GO:0007368; GO:0008270; GO:0031012; GO:0061371\t0\t0\tcd04278;\tPF00045;PF00413;PF01471;\n",
      "A0A0R4I9Y1\tCHOYP_NEMVEDRAFT_V1G239505.2.2\tm.66987\tcds.comp144196_c0_seq5\t42.453\t106\t59\t1\t2\t107\t1049\t1152\t4.38e-025\t97.8\tm.66987\tsp\tR213B_DANRE\t26.957\tR213B_DANRE\treviewed\tE3 ubiquitin-protein ligase rnf213-beta (EC 3.6.4.-) (EC 6.3.2.-) (Mysterin-B) (Mysterin-beta) (RING finger protein 213-B) (RING finger protein 213-beta)\trnf213b\tDanio rerio (Zebrafish) (Brachydanio rerio)\t5061\tprotein ubiquitination [GO:0016567]\tGO:0005829; GO:0008270; GO:0016567; GO:0016787; GO:0016874\tPATHWAY: Protein modification; protein ubiquitination. {ECO:0000250|UniProtKB:Q63HN8}.\t0\t0\t0\n",
      "A0A0R4I9Y1\tCHOYP_RNF213.2.4\tm.5353\tcds.comp144529_c0_seq2\t57.505\t553\t221\t5\t1\t543\t251\t799\t0.0\t644\tm.5353\tsp\tR213B_DANRE\t43.128\tR213B_DANRE\treviewed\tE3 ubiquitin-protein ligase rnf213-beta (EC 3.6.4.-) (EC 6.3.2.-) (Mysterin-B) (Mysterin-beta) (RING finger protein 213-B) (RING finger protein 213-beta)\trnf213b\tDanio rerio (Zebrafish) (Brachydanio rerio)\t5061\tprotein ubiquitination [GO:0016567]\tGO:0005829; GO:0008270; GO:0016567; GO:0016787; GO:0016874\tPATHWAY: Protein modification; protein ubiquitination. {ECO:0000250|UniProtKB:Q63HN8}.\t0\t0\t0\n",
      "A0A0R4IBK5\tCHOYP_BRAFLDRAFT_106560.1.14\tm.4931\tcds.comp153269_c0_seq1\t85.714\t126\t18\t0\t389\t514\t1\t126\t2.36e-069\t228\tm.4931\tsp\tR213A_DANRE\t30.419\tR213A_DANRE\treviewed\tE3 ubiquitin-protein ligase rnf213-alpha (EC 3.6.4.-) (EC 6.3.2.-) (Mysterin-A) (Mysterin-alpha) (RING finger protein 213-A) (RING finger protein 213-alpha)\trnf213a\tDanio rerio (Zebrafish) (Brachydanio rerio)\t5209\tsprouting angiogenesis [GO:0002040]\tGO:0002040; GO:0004842; GO:0005829; GO:0008270; GO:0016874; GO:0016887\tPATHWAY: Protein modification; protein ubiquitination. {ECO:0000250|UniProtKB:Q63HN8}.\t0\t0\t0\n",
      "A0A0R4IBK5\tCHOYP_BRAFLDRAFT_106560.10.14\tm.46985\tcds.comp153269_c0_seq1\t73.016\t126\t32\t1\t2653\t2776\t1\t126\t8.51e-058\t196\tm.46985\tsp\tR213A_DANRE\t28.590\tR213A_DANRE\treviewed\tE3 ubiquitin-protein ligase rnf213-alpha (EC 3.6.4.-) (EC 6.3.2.-) (Mysterin-A) (Mysterin-alpha) (RING finger protein 213-A) (RING finger protein 213-alpha)\trnf213a\tDanio rerio (Zebrafish) (Brachydanio rerio)\t5209\tsprouting angiogenesis [GO:0002040]\tGO:0002040; GO:0004842; GO:0005829; GO:0008270; GO:0016874; GO:0016887\tPATHWAY: Protein modification; protein ubiquitination. {ECO:0000250|UniProtKB:Q63HN8}.\t0\t0\t0\n",
      "A0A0R4IBK5\tCHOYP_BRAFLDRAFT_106560.10.14\tm.46986\tcds.comp36431_c0_seq1\t30.625\t160\t107\t3\t1168\t1327\t1\t156\t2.17e-011\t63.5\tm.46985\tsp\tR213A_DANRE\t28.590\tR213A_DANRE\treviewed\tE3 ubiquitin-protein ligase rnf213-alpha (EC 3.6.4.-) (EC 6.3.2.-) (Mysterin-A) (Mysterin-alpha) (RING finger protein 213-A) (RING finger protein 213-alpha)\trnf213a\tDanio rerio (Zebrafish) (Brachydanio rerio)\t5209\tsprouting angiogenesis [GO:0002040]\tGO:0002040; GO:0004842; GO:0005829; GO:0008270; GO:0016874; GO:0016887\tPATHWAY: Protein modification; protein ubiquitination. {ECO:0000250|UniProtKB:Q63HN8}.\t0\t0\t0\n",
      "A0A0R4IBK5\tCHOYP_BRAFLDRAFT_106560.10.14\tm.46987\tcds.comp143114_c0_seq1\t42.120\t368\t185\t5\t1\t363\t1\t345\t2.41e-102\t305\tm.46985\tsp\tR213A_DANRE\t28.590\tR213A_DANRE\treviewed\tE3 ubiquitin-protein ligase rnf213-alpha (EC 3.6.4.-) (EC 6.3.2.-) (Mysterin-A) (Mysterin-alpha) (RING finger protein 213-A) (RING finger protein 213-alpha)\trnf213a\tDanio rerio (Zebrafish) (Brachydanio rerio)\t5209\tsprouting angiogenesis [GO:0002040]\tGO:0002040; GO:0004842; GO:0005829; GO:0008270; GO:0016874; GO:0016887\tPATHWAY: Protein modification; protein ubiquitination. {ECO:0000250|UniProtKB:Q63HN8}.\t0\t0\t0\n",
      "A0A0R4IBK5\tCHOYP_BRAFLDRAFT_106560.11.14\tm.48029\tcds.comp33491_c0_seq1\t52.778\t144\t66\t2\t493\t634\t22\t165\t7.59e-044\t155\tm.48029\tsp\tR213A_DANRE\t25.872\tR213A_DANRE\treviewed\tE3 ubiquitin-protein ligase rnf213-alpha (EC 3.6.4.-) (EC 6.3.2.-) (Mysterin-A) (Mysterin-alpha) (RING finger protein 213-A) (RING finger protein 213-alpha)\trnf213a\tDanio rerio (Zebrafish) (Brachydanio rerio)\t5209\tsprouting angiogenesis [GO:0002040]\tGO:0002040; GO:0004842; GO:0005829; GO:0008270; GO:0016874; GO:0016887\tPATHWAY: Protein modification; protein ubiquitination. {ECO:0000250|UniProtKB:Q63HN8}.\t0\t0\t0\n",
      "A0A0R4IBK5\tCHOYP_BRAFLDRAFT_106560.13.14\tm.62780\tcds.comp153269_c0_seq1\t73.016\t126\t32\t1\t2590\t2713\t1\t126\t8.88e-058\t196\tm.62780\tsp\tR213A_DANRE\t28.619\tR213A_DANRE\treviewed\tE3 ubiquitin-protein ligase rnf213-alpha (EC 3.6.4.-) (EC 6.3.2.-) (Mysterin-A) (Mysterin-alpha) (RING finger protein 213-A) (RING finger protein 213-alpha)\trnf213a\tDanio rerio (Zebrafish) (Brachydanio rerio)\t5209\tsprouting angiogenesis [GO:0002040]\tGO:0002040; GO:0004842; GO:0005829; GO:0008270; GO:0016874; GO:0016887\tPATHWAY: Protein modification; protein ubiquitination. {ECO:0000250|UniProtKB:Q63HN8}.\t0\t0\t0\n"
     ]
    }
   ],
   "source": [
    "!head Galaxy67-[Join_on_data_36_and_data_66].tabular"
   ]
  }
 ],
 "metadata": {
  "anaconda-cloud": {},
  "kernelspec": {
   "display_name": "Python [default]",
   "language": "python",
   "name": "python3"
  },
  "language_info": {
   "codemirror_mode": {
    "name": "ipython",
    "version": 3
   },
   "file_extension": ".py",
   "mimetype": "text/x-python",
   "name": "python",
   "nbconvert_exporter": "python",
   "pygments_lexer": "ipython3",
   "version": "3.5.2"
  }
 },
 "nbformat": 4,
 "nbformat_minor": 1
}
