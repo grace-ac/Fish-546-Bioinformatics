{
 "cells": [
  {
   "cell_type": "markdown",
   "metadata": {},
   "source": [
    "## In this notebook I will be comparing the Geoduck proteome to the Pacific oyster proteome."
   ]
  },
  {
   "cell_type": "code",
   "execution_count": 1,
   "metadata": {
    "collapsed": false
   },
   "outputs": [
    {
     "name": "stdout",
     "output_type": "stream",
     "text": [
      "C:\\Users\\rhondae\\Documents\\Github\\Fish-546-Bioinformatics\\data\\gigas_prot\n"
     ]
    }
   ],
   "source": [
    "cd C:/Users/rhondae/Documents/Github/Fish-546-Bioinformatics/data/gigas_prot"
   ]
  },
  {
   "cell_type": "markdown",
   "metadata": {},
   "source": [
    "Downloaded Geoduck proteome from https://raw.githubusercontent.com/sr320/paper-Geoduck-proteomic/master/Supplemental-files/S1-Pgenerosa-gonad-protein-v3.fa on 11/4/16 at 7:53AM"
   ]
  },
  {
   "cell_type": "code",
   "execution_count": 3,
   "metadata": {
    "collapsed": false
   },
   "outputs": [
    {
     "name": "stdout",
     "output_type": "stream",
     "text": [
      ">cds.comp100047_c0_seq2\n",
      "NAECRDLYKIFTQILSVRSQEGKIVIPDEFATKIRNWLGNKEELFKEAHNQKIITFYNEYTREENTFNPIRGKRPMSVPDMPERKYIDQLSRKTQSQCDFCKYKTFTAEDTFGRIDSNFSCSASNAFKLDHWHALFLLKTH\n",
      ">cds.comp100068_c0_seq1\n",
      "LFLDKSGKRICSFNNLTAVIEKATERASRIRLAKGLSQPKYLSCGNVDKVPAPGYLTASFTQLSVNKTRKDKGRNHLLLWDQTSSYSYIGPGIHYKDGKIRVNTT\n",
      ">cds.comp100097_c2_seq1\n",
      "GTENLRICLKVIETYLLLGPREFLELYSGDLVHSLSNLLSDLRTEGVLLVLRVIELVLKSFPTEGPALFKSMLPEFLRAVLNKDEHPVVMSLYLTLFGRIVLQNQEFFWNFLDQMAMESHTDSSTILKSMLAAWVESIDSMTQPERRKLSALALASLLTVNYSVILESFGSIVSVCVQVLHDVCRVPVDEETAIQMDALVIRDGDNLGEDEHETEHEKRKRALTRK\n",
      ">cds.comp100100_c0_seq1\n",
      "VEPINRQATDGVKKKKKKKTKLSDGVLPSNVKANSFTKFSQAPDNFTGSKLSSGSACSSGSCTAGLMLKVGEFCQSIRTSSSETNNGASEHSNSEQCREGAKSDAAIQGIGLELTRKPPIPAKAGKPSNNGATISPDILRHTDKSGTKGHKRQKSLPKQHYPMVEAIGASDFRKNGTCSHDNPRLNSDPSILTTAPNKWSLKKSNSAPSPSNSKQTLSQSGKISGSQPPIFNSVNKPLNTGTTSPGGRNKKLPQCGVQALFYGSEDQFGANQTGGNKIIRKEGFAKGLNSHITNGLDPSKYTLDPSKCGGLLSNEGGSVMDNSHSLIITRNSPGAVNGTCNINGEHGLHDDCSDTKSDEGTVGGINIVEGSNPETKQIGTWKKIFGLIK*\n",
      ">cds.comp100100_c0_seq2\n",
      "VEPINRQATDGVKKKKKKKTKLSDGVLPSNVKANSFTKFSQAPDNFTGSKLSSGSACSSGSCTAGLMLKVGEFCQSIRTSSSETNNGASEHSNSEQCREGAKSDAAIQGIGLELTRKPPIPAKAGKPSNNGATISPDILRHTDKSGTKGHKRQKSLPKQHYPMVEAIGASDFRKNGTCSHDNPRLNSDPSILTTAPNKWSLKKSNSAPSPSNSKQTLPQCGA\n"
     ]
    }
   ],
   "source": [
    "!head Galaxy59-[https___raw.githubusercontent.com_sr320_paper-Geoduck-proteomic_master_Supplemental-files_S1-Pgenerosa-gonad-protein-v3.fa].sdf"
   ]
  },
  {
   "cell_type": "code",
   "execution_count": 4,
   "metadata": {
    "collapsed": false
   },
   "outputs": [
    {
     "name": "stdout",
     "output_type": "stream",
     "text": [
      "71914 Galaxy59-[https___raw.githubusercontent.com_sr320_paper-Geoduck-proteomic_master_Supplemental-files_S1-Pgenerosa-gonad-protein-v3.fa].sdf\n"
     ]
    }
   ],
   "source": [
    "!wc -l Galaxy59-[https___raw.githubusercontent.com_sr320_paper-Geoduck-proteomic_master_Supplemental-files_S1-Pgenerosa-gonad-protein-v3.fa].sdf"
   ]
  },
  {
   "cell_type": "code",
   "execution_count": 7,
   "metadata": {
    "collapsed": false
   },
   "outputs": [
    {
     "name": "stdout",
     "output_type": "stream",
     "text": [
      ">CHOYP_043R.1.5|m.16874 CHOYP_043R.1.5|g.16874  ORF CHOYP_043R.1.5|g.16874 CHOYP_043R.1.5|m.16874 type:internal len:199 (-) CHOYP_043R.1.5:1-594(-)\n",
      "TPSGPTPSGPTPSVTPTPSGPTPSVTPTPSGSTPSGPTPSVTPTPSGPTPSGPTPSVTPT\n",
      "PSGPTPSVTPTPSVPTPSGPTPSVTPTPSGPTPSVTPTPSGPTPSGPTPSVTPTPSGPTP\n",
      "SGPTPSVTPTPSVTPTPSGPTPSVTSTPSAPTPSGPTPSGPTPSVTPTPSGPTPSGPTPS\n",
      "VTPTPSGPTPSVTPTPSG\n",
      ">CHOYP_043R.5.5|m.64252 CHOYP_043R.5.5|g.64252  ORF CHOYP_043R.5.5|g.64252 CHOYP_043R.5.5|m.64252 type:internal len:821 (+) CHOYP_043R.5.5:2-2461(+)\n",
      "SRPTPSVTPTPSGPTPSVTPTPSVSTPSGPTPSVTPTPSGPSPSVTPTPSGPSPSGPTPS\n",
      "ATPTPSGPTPSGTTPSGSTPSATITTISTPSTTVCSYVDIGPEQAIDVSLRSPSEDPDAP\n",
      "IENILQTNSVYKPKKEPTYDENVVVKIISQDTPTILRVSFTVNRADTVGLEYLTDYKQKI\n",
      "ITQNNETVEFVFAAGIITDNFTINIRSDSAEQPEISNLKIRACYKPVIGQPSTTTPNPSI\n"
     ]
    }
   ],
   "source": [
    "!head contigs.fasta.transdecoder.pep"
   ]
  },
  {
   "cell_type": "code",
   "execution_count": 5,
   "metadata": {
    "collapsed": false
   },
   "outputs": [
    {
     "name": "stdout",
     "output_type": "stream",
     "text": [
      "396909 contigs.fasta.transdecoder.pep\n"
     ]
    }
   ],
   "source": [
    "!wc -l contigs.fasta.transdecoder.pep"
   ]
  },
  {
   "cell_type": "code",
   "execution_count": 8,
   "metadata": {
    "collapsed": false
   },
   "outputs": [
    {
     "name": "stdout",
     "output_type": "stream",
     "text": [
      "\n",
      "\n",
      "Building a new DB, current time: 11/04/2016 07:58:50\n",
      "New DB name:   C:\\Users\\rhondae\\Documents\\Github\\Fish-546-Bioinformatics\\data\\gigas_prot\\pgenorosa_db\n",
      "New DB title:  Pgenorasa_prot.sdf\n",
      "Sequence type: Protein\n",
      "Keep MBits: T\n",
      "Maximum file size: 1000000000B\n",
      "Adding sequences from FASTA; added 35957 sequences in 14.2272 seconds.\n"
     ]
    }
   ],
   "source": [
    "!C:/Users/rhondae/Desktop/blast-2.5.0+/bin/makeblastdb \\\n",
    "-in Pgenorasa_prot.sdf \\\n",
    "-dbtype prot \\\n",
    "-out pgenorosa_db"
   ]
  },
  {
   "cell_type": "code",
   "execution_count": 10,
   "metadata": {
    "collapsed": false
   },
   "outputs": [],
   "source": [
    "!C:/Users/rhondae/Desktop/blast-2.5.0+/bin/blastp \\\n",
    "-query contigs.fasta.transdecoder.pep \\\n",
    "-db pgenorosa_db \\\n",
    "-evalue 1e-5 \\\n",
    "-max_target_seqs 1 \\\n",
    "-max_hsps 1 \\\n",
    "-outfmt 6 \\\n",
    "-num_threads 16 \\\n",
    "> blastoutput_pgen.txt"
   ]
  },
  {
   "cell_type": "code",
   "execution_count": 11,
   "metadata": {
    "collapsed": false
   },
   "outputs": [
    {
     "name": "stdout",
     "output_type": "stream",
     "text": [
      "CHOYP_043R.5.5|m.64252\tcds.comp144440_c1_seq2\t34.722\t216\t115\t7\t612\t809\t207\t414\t7.17e-008\t56.2\n",
      "CHOYP_14332.1.2|m.5643\tcds.comp137991_c0_seq1\t63.869\t274\t81\t5\t11\t281\t10\t268\t3.58e-109\t316\n",
      "CHOYP_14332.1.2|m.5644\tcds.comp138657_c0_seq7\t41.284\t109\t60\t2\t1\t107\t1\t107\t1.49e-023\t93.6\n",
      "CHOYP_14332.2.2|m.61737\tcds.comp137991_c0_seq1\t66.667\t255\t77\t4\t1\t252\t19\t268\t4.68e-109\t315\n",
      "CHOYP_1433E.1.2|m.3638\tcds.comp128597_c0_seq1\t74.708\t257\t63\t1\t3\t257\t6\t262\t1.68e-137\t387\n",
      "CHOYP_1433E.2.2|m.63376\tcds.comp128597_c0_seq1\t74.708\t257\t63\t1\t3\t257\t6\t262\t1.68e-137\t387\n",
      "CHOYP_1433E.2.2|m.63378\tcds.comp141567_c0_seq5\t42.771\t166\t69\t3\t4\t145\t22\t185\t1.86e-032\t113\n",
      "CHOYP_1433G.1.2|m.8906\tcds.comp137991_c0_seq1\t70.896\t134\t36\t1\t18\t151\t138\t268\t5.90e-062\t191\n",
      "CHOYP_1433G.2.2|m.63451\tcds.comp139878_c1_seq1\t65.700\t207\t55\t5\t16\t220\t53\t245\t3.84e-079\t238\n",
      "CHOYP_1433G.2.2|m.63450\tcds.comp137991_c0_seq1\t57.500\t240\t98\t3\t4\t241\t23\t260\t1.26e-092\t273\n"
     ]
    }
   ],
   "source": [
    "!head blastoutput_pgen.txt"
   ]
  },
  {
   "cell_type": "markdown",
   "metadata": {},
   "source": [
    "## Here are proteins that are found in both _P. genorosa_ and _C. gigas_"
   ]
  },
  {
   "cell_type": "code",
   "execution_count": 8,
   "metadata": {
    "collapsed": false
   },
   "outputs": [
    {
     "name": "stdout",
     "output_type": "stream",
     "text": [
      "28450 ../../analyses/gigas_prot/blastoutput_pgen.txt\n"
     ]
    }
   ],
   "source": [
    "!wc -l ../../analyses/gigas_prot/blastoutput_pgen.txt"
   ]
  }
 ],
 "metadata": {
  "anaconda-cloud": {},
  "kernelspec": {
   "display_name": "Python [default]",
   "language": "python",
   "name": "python3"
  },
  "language_info": {
   "codemirror_mode": {
    "name": "ipython",
    "version": 3
   },
   "file_extension": ".py",
   "mimetype": "text/x-python",
   "name": "python",
   "nbconvert_exporter": "python",
   "pygments_lexer": "ipython3",
   "version": "3.5.2"
  }
 },
 "nbformat": 4,
 "nbformat_minor": 1
}
