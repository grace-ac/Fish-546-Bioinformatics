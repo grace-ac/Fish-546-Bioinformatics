{
 "cells": [
  {
   "cell_type": "code",
   "execution_count": 4,
   "metadata": {
    "collapsed": false
   },
   "outputs": [
    {
     "name": "stdout",
     "output_type": "stream",
     "text": [
      "C:\\Users\\rhondae\\Documents\\Github\\Fish-546-Bioinformatics\\data\\gigas_prot\n"
     ]
    }
   ],
   "source": [
    "cd C:/Users/rhondae/Documents/Github/Fish-546-Bioinformatics/data/gigas_prot"
   ]
  },
  {
   "cell_type": "code",
   "execution_count": null,
   "metadata": {
    "collapsed": true
   },
   "outputs": [],
   "source": [
    "!curl https://ndownloader.figshare.com/articles/156431/versions/1 \\\n",
    "> oluridablastx.tab"
   ]
  },
  {
   "cell_type": "code",
   "execution_count": 5,
   "metadata": {
    "collapsed": false
   },
   "outputs": [
    {
     "name": "stdout",
     "output_type": "stream",
     "text": [
      "Oly contig\tSPID\tSPID evalue\tGene Name\n",
      "Ostrea_lur_contig1\tP84175\t8.00E-72\tRS12_CHICK 40S ribosomal protein S12 OS=Gallus gallus GN=RPS12 PE=1 SV=2\n",
      "Ostrea_lur_contig10\tP47835\t8.00E-58\tRS32_XENLA 40S ribosomal protein S3-B OS=Xenopus laevis GN=rps3-B PE=2 SV=1\n",
      "Ostrea_lur_contig10001\tP56941\t7.00E-32\tNPC1_PIG Niemann-Pick C1 protein OS=Sus scrofa GN=NPC1 PE=2 SV=1\n",
      "Ostrea_lur_contig10002\tP43404\t1.00E-47\tZAP70_MOUSE Tyrosine-protein kinase ZAP-70 OS=Mus musculus GN=Zap70 PE=1 SV=2\n",
      "Ostrea_lur_contig10004\tP11369\t4.00E-08\tPOL2_MOUSE Retrovirus-related Pol polyprotein LINE-1 OS=Mus musculus GN=Pol PE=1 SV=2\n",
      "Ostrea_lur_contig10005\tQ3THF9\t1.00E-68\t\"CQ10B_MOUSE Coenzyme Q-binding protein COQ10 homolog B, mitochondrial OS=Mus musculus GN=Coq10b PE=2 SV=1\"\n",
      "Ostrea_lur_contig10009\tQ5I0S8\t2.00E-68\tILEU_XENTR Leukocyte elastase inhibitor OS=Xenopus tropicalis GN=serpinb1 PE=2 SV=1\n",
      "Ostrea_lur_contig10010\tQ6P4Y1\t2.00E-76\tBANP_XENTR Protein BANP OS=Xenopus tropicalis GN=banp PE=2 SV=1\n",
      "Ostrea_lur_contig10011\tQ4R8G4\t1.00E-85\tCE037_MACFA Uncharacterized protein C5orf37 homolog OS=Macaca fascicularis GN=QtsA-12524 PE=2 SV=1\n"
     ]
    }
   ],
   "source": [
    "!head oluridaDataS3.tab"
   ]
  }
 ],
 "metadata": {
  "anaconda-cloud": {},
  "kernelspec": {
   "display_name": "Python [default]",
   "language": "python",
   "name": "python3"
  },
  "language_info": {
   "codemirror_mode": {
    "name": "ipython",
    "version": 3
   },
   "file_extension": ".py",
   "mimetype": "text/x-python",
   "name": "python",
   "nbconvert_exporter": "python",
   "pygments_lexer": "ipython3",
   "version": "3.5.2"
  }
 },
 "nbformat": 4,
 "nbformat_minor": 1
}
