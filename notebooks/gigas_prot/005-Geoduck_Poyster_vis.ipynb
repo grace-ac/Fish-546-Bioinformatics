{
 "cells": [
  {
   "cell_type": "code",
   "execution_count": 1,
   "metadata": {
    "collapsed": false
   },
   "outputs": [
    {
     "name": "stdout",
     "output_type": "stream",
     "text": [
      "C:\\Users\\rhondae\\Documents\\Github\\Fish-546-Bioinformatics\n"
     ]
    }
   ],
   "source": [
    "cd C:/Users/rhondae/Documents/Github/Fish-546-Bioinformatics/"
   ]
  },
  {
   "cell_type": "code",
   "execution_count": 3,
   "metadata": {
    "collapsed": false
   },
   "outputs": [
    {
     "name": "stdout",
     "output_type": "stream",
     "text": [
      ">cds.comp100047_c0_seq2\n",
      "NAECRDLYKIFTQILSVRSQEGKIVIPDEFATKIRNWLGNKEELFKEAHNQKIITFYNEYTREENTFNPIRGKRPMSVPDMPERKYIDQLSRKTQSQCDFCKYKTFTAEDTFGRIDSNFSCSASNAFKLDHWHALFLLKTH\n",
      ">cds.comp100068_c0_seq1\n",
      "LFLDKSGKRICSFNNLTAVIEKATERASRIRLAKGLSQPKYLSCGNVDKVPAPGYLTASFTQLSVNKTRKDKGRNHLLLWDQTSSYSYIGPGIHYKDGKIRVNTT\n",
      ">cds.comp100097_c2_seq1\n",
      "GTENLRICLKVIETYLLLGPREFLELYSGDLVHSLSNLLSDLRTEGVLLVLRVIELVLKSFPTEGPALFKSMLPEFLRAVLNKDEHPVVMSLYLTLFGRIVLQNQEFFWNFLDQMAMESHTDSSTILKSMLAAWVESIDSMTQPERRKLSALALASLLTVNYSVILESFGSIVSVCVQVLHDVCRVPVDEETAIQMDALVIRDGDNLGEDEHETEHEKRKRALTRK\n",
      ">cds.comp100100_c0_seq1\n",
      "VEPINRQATDGVKKKKKKKTKLSDGVLPSNVKANSFTKFSQAPDNFTGSKLSSGSACSSGSCTAGLMLKVGEFCQSIRTSSSETNNGASEHSNSEQCREGAKSDAAIQGIGLELTRKPPIPAKAGKPSNNGATISPDILRHTDKSGTKGHKRQKSLPKQHYPMVEAIGASDFRKNGTCSHDNPRLNSDPSILTTAPNKWSLKKSNSAPSPSNSKQTLSQSGKISGSQPPIFNSVNKPLNTGTTSPGGRNKKLPQCGVQALFYGSEDQFGANQTGGNKIIRKEGFAKGLNSHITNGLDPSKYTLDPSKCGGLLSNEGGSVMDNSHSLIITRNSPGAVNGTCNINGEHGLHDDCSDTKSDEGTVGGINIVEGSNPETKQIGTWKKIFGLIK*\n",
      ">cds.comp100100_c0_seq2\n",
      "VEPINRQATDGVKKKKKKKTKLSDGVLPSNVKANSFTKFSQAPDNFTGSKLSSGSACSSGSCTAGLMLKVGEFCQSIRTSSSETNNGASEHSNSEQCREGAKSDAAIQGIGLELTRKPPIPAKAGKPSNNGATISPDILRHTDKSGTKGHKRQKSLPKQHYPMVEAIGASDFRKNGTCSHDNPRLNSDPSILTTAPNKWSLKKSNSAPSPSNSKQTLPQCGA\n"
     ]
    }
   ],
   "source": [
    "!head data/gigas_prot/Galaxy59-[https___raw.githubusercontent.com_sr320_paper-Geoduck-proteomic_master_Supplemental-files_S1-Pgenerosa-gonad-protein-v3.fa].sdf"
   ]
  },
  {
   "cell_type": "markdown",
   "metadata": {},
   "source": [
    "Blast against Uniprot database"
   ]
  },
  {
   "cell_type": "code",
   "execution_count": 10,
   "metadata": {
    "collapsed": false
   },
   "outputs": [
    {
     "name": "stdout",
     "output_type": "stream",
     "text": [
      "\n",
      "\n",
      "Building a new DB, current time: 11/15/2016 20:37:17\n",
      "New DB name:   C:\\Users\\rhondae\\Documents\\Github\\Fish-546-Bioinformatics\\analyses\\gigas_prot\\pgenorosa_db_uniprot\n",
      "New DB title:  data/gigas_prot/uniprot_sprot.fasta\n",
      "Sequence type: Protein\n",
      "Keep MBits: T\n",
      "Maximum file size: 1000000000B\n",
      "Adding sequences from FASTA; added 552259 sequences in 255.467 seconds.\n"
     ]
    }
   ],
   "source": [
    "!C:/Users/rhondae/Desktop/blast-2.5.0+/bin/makeblastdb \\\n",
    "-in data/gigas_prot/uniprot_sprot.fasta \\\n",
    "-dbtype prot \\\n",
    "-out analyses/gigas_prot/pgenorosa_db_uniprot"
   ]
  },
  {
   "cell_type": "code",
   "execution_count": 12,
   "metadata": {
    "collapsed": false
   },
   "outputs": [],
   "source": [
    "!C:/Users/rhondae/Desktop/blast-2.5.0+/bin/blastp \\\n",
    "-query data/gigas_prot/Galaxy59-[https___raw.githubusercontent.com_sr320_paper-Geoduck-proteomic_master_Supplemental-files_S1-Pgenerosa-gonad-protein-v3.fa].sdf \\\n",
    "-db analyses/gigas_prot/pgenorosa_db_uniprot \\\n",
    "-evalue 1e-5 \\\n",
    "-max_target_seqs 1 \\\n",
    "-max_hsps 1 \\\n",
    "-outfmt 6 \\\n",
    "-num_threads 16 \\\n",
    "> blastoutput_pgen_uniprot.txt"
   ]
  },
  {
   "cell_type": "code",
   "execution_count": 13,
   "metadata": {
    "collapsed": false
   },
   "outputs": [
    {
     "name": "stdout",
     "output_type": "stream",
     "text": [
      "cds.comp100097_c2_seq1\tsp|Q9UI26|IPO11_HUMAN\t41.048\t229\t130\t3\t1\t226\t699\t925\t4.82e-043\t157\n",
      "cds.comp100104_c0_seq1\tsp|Q9JLC8|SACS_MOUSE\t25.000\t352\t188\t13\t3\t341\t2729\t3017\t2.43e-016\t84.7\n",
      "cds.comp100104_c1_seq1\tsp|Q9NZJ4|SACS_HUMAN\t47.826\t138\t58\t4\t1\t132\t2586\t2715\t1.65e-030\t118\n",
      "cds.comp100104_c3_seq1\tsp|Q9NZJ4|SACS_HUMAN\t35.606\t132\t76\t2\t11\t133\t2445\t2576\t3.39e-020\t88.6\n",
      "cds.comp100105_c0_seq1\tsp|P18756|ETS1B_XENLA\t85.714\t126\t18\t0\t154\t279\t143\t268\t5.39e-075\t233\n",
      "cds.comp100108_c0_seq1\tsp|Q6RG02|VIT_FENME\t22.628\t137\t103\t2\t3\t136\t388\t524\t2.89e-007\t51.6\n",
      "cds.comp100108_c1_seq1\tsp|Q9U943|APLP_LOCMI\t32.446\t413\t227\t9\t2\t368\t514\t920\t2.06e-060\t214\n",
      "cds.comp100129_c0_seq1\tsp|Q14644|RASA3_HUMAN\t50.000\t108\t48\t2\t2\t105\t68\t173\t1.26e-030\t117\n",
      "cds.comp100184_c0_seq1\tsp|Q9C509|SGPL_ARATH\t35.664\t143\t90\t1\t1\t143\t404\t544\t6.25e-025\t102\n",
      "cds.comp100187_c0_seq1\tsp|Q16RI1|OPI10_AEDAE\t66.667\t87\t28\t1\t7\t92\t5\t91\t1.57e-036\t125\n"
     ]
    }
   ],
   "source": [
    "!head analyses/gigas_prot/blastoutput_pgen_uniprot.txt"
   ]
  },
  {
   "cell_type": "code",
   "execution_count": 15,
   "metadata": {
    "collapsed": false
   },
   "outputs": [
    {
     "name": "stdout",
     "output_type": "stream",
     "text": [
      "24584 analyses/gigas_prot/blastoutput_pgen_uniprot.txt\n"
     ]
    }
   ],
   "source": [
    "!wc -l analyses/gigas_prot/blastoutput_pgen_uniprot.txt"
   ]
  },
  {
   "cell_type": "code",
   "execution_count": 4,
   "metadata": {
    "collapsed": false
   },
   "outputs": [
    {
     "name": "stdout",
     "output_type": "stream",
     "text": [
      ">CHOYP_043R.1.5|m.16874 CHOYP_043R.1.5|g.16874  ORF CHOYP_043R.1.5|g.16874 CHOYP_043R.1.5|m.16874 type:internal len:199 (-) CHOYP_043R.1.5:1-594(-)\n",
      "TPSGPTPSGPTPSVTPTPSGPTPSVTPTPSGSTPSGPTPSVTPTPSGPTPSGPTPSVTPT\n",
      "PSGPTPSVTPTPSVPTPSGPTPSVTPTPSGPTPSVTPTPSGPTPSGPTPSVTPTPSGPTP\n",
      "SGPTPSVTPTPSVTPTPSGPTPSVTSTPSAPTPSGPTPSGPTPSVTPTPSGPTPSGPTPS\n",
      "VTPTPSGPTPSVTPTPSG\n",
      ">CHOYP_043R.5.5|m.64252 CHOYP_043R.5.5|g.64252  ORF CHOYP_043R.5.5|g.64252 CHOYP_043R.5.5|m.64252 type:internal len:821 (+) CHOYP_043R.5.5:2-2461(+)\n",
      "SRPTPSVTPTPSGPTPSVTPTPSVSTPSGPTPSVTPTPSGPSPSVTPTPSGPSPSGPTPS\n",
      "ATPTPSGPTPSGTTPSGSTPSATITTISTPSTTVCSYVDIGPEQAIDVSLRSPSEDPDAP\n",
      "IENILQTNSVYKPKKEPTYDENVVVKIISQDTPTILRVSFTVNRADTVGLEYLTDYKQKI\n",
      "ITQNNETVEFVFAAGIITDNFTINIRSDSAEQPEISNLKIRACYKPVIGQPSTTTPNPSI\n"
     ]
    }
   ],
   "source": [
    "!head data/gigas_prot/contigs.fasta.transdecoder.pep"
   ]
  },
  {
   "cell_type": "code",
   "execution_count": 6,
   "metadata": {
    "collapsed": false
   },
   "outputs": [
    {
     "name": "stdout",
     "output_type": "stream",
     "text": [
      "CHOYP_043R.5.5|m.64252\tcds.comp144440_c1_seq2\t34.722\t216\t115\t7\t612\t809\t207\t414\t7.17e-008\t56.2\n",
      "CHOYP_14332.1.2|m.5643\tcds.comp137991_c0_seq1\t63.869\t274\t81\t5\t11\t281\t10\t268\t3.58e-109\t316\n",
      "CHOYP_14332.1.2|m.5644\tcds.comp138657_c0_seq7\t41.284\t109\t60\t2\t1\t107\t1\t107\t1.49e-023\t93.6\n",
      "CHOYP_14332.2.2|m.61737\tcds.comp137991_c0_seq1\t66.667\t255\t77\t4\t1\t252\t19\t268\t4.68e-109\t315\n",
      "CHOYP_1433E.1.2|m.3638\tcds.comp128597_c0_seq1\t74.708\t257\t63\t1\t3\t257\t6\t262\t1.68e-137\t387\n",
      "CHOYP_1433E.2.2|m.63376\tcds.comp128597_c0_seq1\t74.708\t257\t63\t1\t3\t257\t6\t262\t1.68e-137\t387\n",
      "CHOYP_1433E.2.2|m.63378\tcds.comp141567_c0_seq5\t42.771\t166\t69\t3\t4\t145\t22\t185\t1.86e-032\t113\n",
      "CHOYP_1433G.1.2|m.8906\tcds.comp137991_c0_seq1\t70.896\t134\t36\t1\t18\t151\t138\t268\t5.90e-062\t191\n",
      "CHOYP_1433G.2.2|m.63451\tcds.comp139878_c1_seq1\t65.700\t207\t55\t5\t16\t220\t53\t245\t3.84e-079\t238\n",
      "CHOYP_1433G.2.2|m.63450\tcds.comp137991_c0_seq1\t57.500\t240\t98\t3\t4\t241\t23\t260\t1.26e-092\t273\n"
     ]
    }
   ],
   "source": [
    "!head analyses/gigas_prot/blastoutput_pgen.txt"
   ]
  },
  {
   "cell_type": "code",
   "execution_count": 8,
   "metadata": {
    "collapsed": false
   },
   "outputs": [
    {
     "name": "stdout",
     "output_type": "stream",
     "text": [
      "CHOYP_043R.1.5|m.16874\tsp|Q06852|SLAP1_CLOTH\t56.944\t216\t61\t18\t10\t197\t1388\t1599\t5.11e-008\t55.8\n",
      "CHOYP_043R.5.5|m.64252\tsp|Q06852|SLAP1_CLOTH\t52.381\t294\t80\t24\t575\t816\t1351\t1636\t1.98e-016\t88.2\n",
      "CHOYP_14332.1.2|m.5643\tsp|Q2F637|1433Z_BOMMO\t66.031\t262\t74\t2\t19\t280\t1\t247\t2.73e-119\t344\n",
      "CHOYP_14332.1.2|m.5644\tsp|P62325|BTG1_MOUSE\t47.205\t161\t80\t2\t1\t156\t11\t171\t2.18e-047\t155\n",
      "CHOYP_14332.2.2|m.61737\tsp|Q2F637|1433Z_BOMMO\t67.331\t251\t78\t1\t1\t251\t1\t247\t4.15e-119\t342\n",
      "CHOYP_1433E.1.2|m.3639\tsp|Q9CWP8|DPOD4_MOUSE\t38.235\t102\t61\t2\t30\t130\t7\t107\t9.56e-019\t78.6\n",
      "CHOYP_1433E.1.2|m.3638\tsp|P92177|1433E_DROME\t77.692\t260\t53\t1\t1\t255\t1\t260\t1.91e-149\t420\n",
      "CHOYP_1433E.2.2|m.63376\tsp|P92177|1433E_DROME\t77.692\t260\t53\t1\t1\t255\t1\t260\t1.91e-149\t420\n",
      "CHOYP_1433E.2.2|m.63378\tsp|Q6MG82|PRRT1_RAT\t44.444\t99\t53\t1\t41\t137\t196\t294\t1.81e-018\t82.8\n",
      "CHOYP_1433G.1.2|m.8906\tsp|Q1HR36|1433Z_AEDAE\t72.180\t133\t37\t0\t18\t150\t116\t248\t1.86e-067\t207\n"
     ]
    }
   ],
   "source": [
    "!head analyses/gigas_prot/blastoutput4.txt"
   ]
  },
  {
   "cell_type": "code",
   "execution_count": 17,
   "metadata": {
    "collapsed": false
   },
   "outputs": [
    {
     "name": "stdout",
     "output_type": "stream",
     "text": [
      "26535 analyses/gigas_prot/blastoutput4.txt\n"
     ]
    }
   ],
   "source": [
    "!wc -l analyses/gigas_prot/blastoutput4.txt"
   ]
  },
  {
   "cell_type": "code",
   "execution_count": null,
   "metadata": {
    "collapsed": true
   },
   "outputs": [],
   "source": []
  }
 ],
 "metadata": {
  "anaconda-cloud": {},
  "kernelspec": {
   "display_name": "Python [default]",
   "language": "python",
   "name": "python3"
  },
  "language_info": {
   "codemirror_mode": {
    "name": "ipython",
    "version": 3
   },
   "file_extension": ".py",
   "mimetype": "text/x-python",
   "name": "python",
   "nbconvert_exporter": "python",
   "pygments_lexer": "ipython3",
   "version": "3.5.2"
  }
 },
 "nbformat": 4,
 "nbformat_minor": 1
}
