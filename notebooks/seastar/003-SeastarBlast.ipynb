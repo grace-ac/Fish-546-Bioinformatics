{
 "cells": [
  {
   "cell_type": "code",
   "execution_count": 1,
   "metadata": {
    "collapsed": false
   },
   "outputs": [
    {
     "name": "stdout",
     "output_type": "stream",
     "text": [
      "C:\\Users\\rhondae\\Documents\\UW_Fall_2016\\Bioinformatics\\data\\SeastarVS.Poysterblast\n"
     ]
    }
   ],
   "source": [
    "cd C:/Users/rhondae/Documents/UW_Fall_2016/Bioinformatics/data/SeastarVS.Poysterblast"
   ]
  },
  {
   "cell_type": "code",
   "execution_count": null,
   "metadata": {
    "collapsed": true
   },
   "outputs": [],
   "source": [
    "!C:/Users/rhondae/Desktop/blast-2.5.0+/bin/blastx \\\n",
    "-query Fastafile_Microarray.txt \\\n",
    "-db AKZP01.fasta.database \\\n",
    "-out blastoutputAKZP01.txt \\\n",
    "-evalue 1E-05 \\\n",
    "-max_target_seqs 1 \\\n",
    "-max_hsps 1 \\\n",
    "-outfmt 6 \\\n",
    "-num_threads 8"
   ]
  }
 ],
 "metadata": {
  "kernelspec": {
   "display_name": "Python [default]",
   "language": "python",
   "name": "python3"
  },
  "language_info": {
   "codemirror_mode": {
    "name": "ipython",
    "version": 3
   },
   "file_extension": ".py",
   "mimetype": "text/x-python",
   "name": "python",
   "nbconvert_exporter": "python",
   "pygments_lexer": "ipython3",
   "version": "3.5.2"
  }
 },
 "nbformat": 4,
 "nbformat_minor": 1
}
