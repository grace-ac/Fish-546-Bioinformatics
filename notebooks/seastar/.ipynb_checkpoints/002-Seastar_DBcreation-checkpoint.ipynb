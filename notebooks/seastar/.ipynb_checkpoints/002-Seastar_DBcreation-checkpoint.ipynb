{
 "cells": [
  {
   "cell_type": "code",
   "execution_count": 2,
   "metadata": {
    "collapsed": false
   },
   "outputs": [
    {
     "data": {
      "text/plain": [
       "'C:\\\\Users\\\\rhondae\\\\02-Seastar-Cgigas'"
      ]
     },
     "execution_count": 2,
     "metadata": {},
     "output_type": "execute_result"
    }
   ],
   "source": [
    "pwd"
   ]
  },
  {
   "cell_type": "code",
   "execution_count": 2,
   "metadata": {
    "collapsed": false
   },
   "outputs": [
    {
     "name": "stdout",
     "output_type": "stream",
     "text": [
      "C:\\Users\\rhondae\\Documents\\UW_Fall_2016\\Bioinformatics\\data\\SeastarVS.Poysterblast\n"
     ]
    }
   ],
   "source": [
    "cd C:/Users/rhondae/Documents/UW_Fall_2016/Bioinformatics/data/SeastarVS.Poysterblast"
   ]
  },
  {
   "cell_type": "code",
   "execution_count": 4,
   "metadata": {
    "collapsed": false
   },
   "outputs": [
    {
     "name": "stdout",
     "output_type": "stream",
     "text": [
      ">gi|399761415|gb|AKZP01000001.1| Patiria miniata contig_1, whole genome shotgun sequence\n",
      "TATACCTTGTTCGGAAGCTTATGGTTAGGCCAACAGGCTGGCAAATGGACAGGTCTTGAAACGAAGTGGT\n"
     ]
    }
   ],
   "source": [
    "!head -2 AKZP01.fasta"
   ]
  },
  {
   "cell_type": "code",
   "execution_count": 5,
   "metadata": {
    "collapsed": false
   },
   "outputs": [
    {
     "name": "stderr",
     "output_type": "stream",
     "text": [
      "  % Total    % Received % Xferd  Average Speed   Time    Time     Time  Current\n",
      "                                 Dload  Upload   Total   Spent    Left  Speed\n",
      "\n",
      "  0     0    0     0    0     0      0      0 --:--:-- --:--:-- --:--:--     0\n",
      "  0     0    0     0    0     0      0      0 --:--:--  0:00:13 --:--:--     0\n",
      "  0     0    0     0    0     0      0      0 --:--:--  0:00:13 --:--:--     0\n"
     ]
    }
   ],
   "source": [
    "!curl https://ndownloader.figshare.com/files/1471531"
   ]
  },
  {
   "cell_type": "code",
   "execution_count": 7,
   "metadata": {
    "collapsed": false
   },
   "outputs": [
    {
     "name": "stdout",
     "output_type": "stream",
     "text": [
      " Volume in drive C is TI106401W0D\n",
      " Volume Serial Number is D00E-CD8F\n",
      "\n",
      " Directory of C:\\Users\\rhondae\\Documents\\UW_Fall_2016\\Bioinformatics\\data\\SeastarVS.Poysterblast\n",
      "\n",
      "10/26/2016  08:36 AM    <DIR>          .\n",
      "10/26/2016  08:36 AM    <DIR>          ..\n",
      "04/19/2013  02:58 PM       798,109,011 AKZP01.fasta\n",
      "10/25/2016  02:51 PM         1,361,130 blastoutput.txt\n",
      "06/29/2016  03:34 AM       567,615,965 Crassostrea_gigas.GCA_000297895.1.dna.nonchromosomal.fa\n",
      "10/25/2016  01:31 PM       151,755,201 Crassostrea_gigas.GCA_000297895.1.dna.nonchromosomal.fa.gz\n",
      "10/26/2016  08:36 AM        24,848,318 Fastafile_Microarray.txt\n",
      "10/25/2016  02:06 PM         4,656,244 pmin.scaf.nhr\n",
      "10/25/2016  02:06 PM           722,280 pmin.scaf.nin\n",
      "10/25/2016  02:06 PM       203,854,803 pmin.scaf.nsq\n",
      "01/08/2015  12:30 PM       811,986,652 pmin.scaf.v1.fa\n",
      "10/25/2016  01:46 PM       215,769,972 pmin.scaf.v1.fa.tar.gz\n",
      "10/26/2016  08:18 AM       233,857,008 pmin-contigs-1.0.zip\n",
      "              11 File(s)  3,014,536,584 bytes\n",
      "               2 Dir(s)  472,765,431,808 bytes free\n"
     ]
    }
   ],
   "source": [
    "ls"
   ]
  },
  {
   "cell_type": "code",
   "execution_count": 9,
   "metadata": {
    "collapsed": false
   },
   "outputs": [
    {
     "name": "stdout",
     "output_type": "stream",
     "text": [
      ">Column1\n",
      "Column3\n",
      ">CU995582.p.cg.6\n",
      "GAAGAGCTCAGTGTTCAGATGACAGAGTTTGGATTCCGACGGGTAAAAAAGACGGACGATGGTTCCTATGGCAGAGTTTCCAAAGACCCGTCACAGTGTAGTGTCAGATCGCTGTTATTTCACAAATCTGGCTCACTGTCAGCCAATTGGACTCCCAAGTTTGACGGTGACGTAAGACCACGAGCAGGCCTCGTTTTCGTGGAGCCCAAACTTTACAACGAGTATCTAAAAGAAGAGGCCCAAGTACGTCATCAGACCGCCATGATGGCGCGTAGTCGTTCCACTAACATCAACACATTAGAGGACGATGCCACGGTTCTAGAAACCGTAGAAACGTGACAAATGGAAACAGTGTAGTTGTTTAGTTTTCATGTTCAAGTTTGCAATTGTTTAAATGTACCAATTGCGTGTAAATCACTATATGACGTCATTTCTAAGTAATACTCAAACTCTGACAATTATCAAATTGAGGATGGGTCAATGTTTGTAACTTGAATGACAAAATCAAACCTTGAAAATAATACTAGGAAATTAATTTATTCATTTTGTTTGTCAGTCTTGATTGGGAAAATTCAAGATTGCCCTGTTCTTAGTTTATCACATTGACATTATACATGAATGGTTTCTACTTATTTAAATTCTCATGCTGGTTGTTTTTTATAATTATTTATCTATGCTGTAACATTCCAATGTTAGGAAATCTCCACGAATCTAGACTTTGATAAGCCCCCTTCTTTCCACTACATCCTCTAGAACCTTACAAGAGGTTATCTATCCCTTCCCTTTAACTAGGAGGAAATGTGTGTAAATAAACTGGTGCCCCAACCTGTAGTTGTGCCTGTTCTACCAAAGTTAAATAGCACCTCCTAAATTTTCCAATGGTATAATTTAATAAATTTCCTTTAAACCCCCGGTTTCCAAATGGCCTTGGGCCCTCCATTTTTCCCTATAATAAGGACCCGGGTTGGCCTTTGGTCCTTCCCCCCCCAAAAATTGGTAACTTTTTCCCCTCCTAAAAAACAAAGTTCACCTCCTGGAATTTAACAATCCACTCCCCCGGGTTTTTCCCTTTTTAAAAATATAAAAAACAAG\n",
      ">AM862909.p.cg.6\n"
     ]
    }
   ],
   "source": [
    "!head -5 Fastafile_Microarray.txt"
   ]
  },
  {
   "cell_type": "markdown",
   "metadata": {},
   "source": [
    "## Making Uniprot_sprot database "
   ]
  },
  {
   "cell_type": "code",
   "execution_count": 17,
   "metadata": {
    "collapsed": false
   },
   "outputs": [
    {
     "name": "stdout",
     "output_type": "stream",
     "text": [
      "^C\n"
     ]
    }
   ],
   "source": [
    "!C:/Users/rhondae/Desktop/blast-2.5.0+/bin/makeblastdb \\\n",
    "-in uniprot_sprot.fasta \\\n",
    "-dbtype prot \\\n",
    "-out star_uniprot_sprot"
   ]
  },
  {
   "cell_type": "markdown",
   "metadata": {},
   "source": [
    "## Using Blastx to compare uniprot_sprot database with P. miniata transcriptome"
   ]
  },
  {
   "cell_type": "code",
   "execution_count": null,
   "metadata": {
    "collapsed": true
   },
   "outputs": [],
   "source": [
    "!C:/Users/rhondae/Desktop/blast-2.5.0+/bin/blastx \\\n",
    "-query AKZP01.fasta \\\n",
    "-db star_uniprot_sprot \\\n",
    "-out blastoutput1.txt \\\n",
    "-evalue 1E-05 \\\n",
    "-max_target_seqs 1 \\\n",
    "-max_hsps 1 \\\n",
    "-outfmt 6 \\\n",
    "-num_threads 8"
   ]
  },
  {
   "cell_type": "markdown",
   "metadata": {},
   "source": [
    "Making a database using bat star _Patiria miniata_ fasta file (AKZP01.fasta)"
   ]
  },
  {
   "cell_type": "code",
   "execution_count": 18,
   "metadata": {
    "collapsed": false
   },
   "outputs": [
    {
     "name": "stdout",
     "output_type": "stream",
     "text": [
      "\n",
      "\n",
      "Building a new DB, current time: 10/26/2016 08:59:47\n",
      "New DB name:   C:\\Users\\rhondae\\Documents\\UW_Fall_2016\\Bioinformatics\\data\\SeastarVS.Poysterblast\\AKZP01.fasta.database\n",
      "New DB title:  AKZP01.fasta\n",
      "Sequence type: Protein\n",
      "Keep MBits: T\n",
      "Maximum file size: 1000000000B\n",
      "Adding sequences from FASTA; added 179756 sequences in 122.498 seconds.\n"
     ]
    }
   ],
   "source": [
    "!C:/Users/rhondae/Desktop/blast-2.5.0+/bin/makeblastdb \\\n",
    "-in AKZP01.fasta \\\n",
    "-dbtype prot \\\n",
    "-out AKZP01.fasta.database \\"
   ]
  },
  {
   "cell_type": "markdown",
   "metadata": {},
   "source": [
    "Tried to use Blastx to compare a database I made with the P. miniata fasta file and compare to C. gigas fasta file."
   ]
  },
  {
   "cell_type": "code",
   "execution_count": null,
   "metadata": {
    "collapsed": false
   },
   "outputs": [],
   "source": [
    "!C:/Users/rhondae/Desktop/blast-2.5.0+/bin/blastn \\\n",
    "-query Fastafile_Microarray.txt \\\n",
    "-db AKZP01.fasta.database \\\n",
    "-out blastoutput2AKZP01.txt \\\n",
    "-evalue 1E-05 \\\n",
    "-max_target_seqs 1 \\\n",
    "-max_hsps 1 \\\n",
    "-outfmt 6 \\\n",
    "-num_threads 8"
   ]
  }
 ],
 "metadata": {
  "anaconda-cloud": {},
  "kernelspec": {
   "display_name": "Python [default]",
   "language": "python",
   "name": "python3"
  },
  "language_info": {
   "codemirror_mode": {
    "name": "ipython",
    "version": 3
   },
   "file_extension": ".py",
   "mimetype": "text/x-python",
   "name": "python",
   "nbconvert_exporter": "python",
   "pygments_lexer": "ipython3",
   "version": "3.5.2"
  }
 },
 "nbformat": 4,
 "nbformat_minor": 1
}
