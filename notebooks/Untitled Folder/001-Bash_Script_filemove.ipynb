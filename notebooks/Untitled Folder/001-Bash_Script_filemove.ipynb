{
 "cells": [
  {
   "cell_type": "markdown",
   "metadata": {},
   "source": [
    "In this notebook, I am running a [bash script](https://github.com/Ellior2/Fish-546-Bioinformatics/blob/master/scripts/gigas_prot/Quiz_script.sh) I made to move Galaxy screenshots to a new folder. I am using Galaxy often for file manipulations and end up creating a ton of images. I want to keep organized and isolate them from other tab files in my directory."
   ]
  },
  {
   "cell_type": "code",
   "execution_count": 27,
   "metadata": {
    "collapsed": false
   },
   "outputs": [
    {
     "name": "stdout",
     "output_type": "stream",
     "text": [
      "C:\\Users\\rhondae\\Documents\\Github\\Fish-546-Bioinformatics\\analyses\\taylor\n"
     ]
    }
   ],
   "source": [
    "cd C:/Users/rhondae/Documents/Github/Fish-546-Bioinformatics/analyses/taylor"
   ]
  },
  {
   "cell_type": "code",
   "execution_count": 26,
   "metadata": {
    "collapsed": false,
    "scrolled": true
   },
   "outputs": [
    {
     "name": "stdout",
     "output_type": "stream",
     "text": [
      "change working directory\n",
      "listing files in current directory\n",
      "Galaxy122.JPG\n",
      "Galaxy123.JPG\n",
      "Galaxy124.JPG\n",
      "Galaxy125.JPG\n",
      "Galaxy126.JPG\n",
      "Galaxy127.JPG\n",
      "Galaxy127-[Sort_on_data_123].tabular\n",
      "Galaxy128.JPG\n",
      "Galaxy128-[Sort_on_data_124].tabular\n",
      "Galaxy129.JPG\n",
      "Galaxy129-[Sort_on_data_125].tabular\n",
      "Galaxy130.JPG\n",
      "Galaxy130-[Sort_on_data_126].tabular\n",
      "Galaxy130-[Sort_on_data_126].tabular.bmx02s3.partial\n",
      "Galaxy135.JPG\n",
      "Galaxy136.JPG\n",
      "Galaxy139.JPG\n",
      "Galaxy139-[Sort_on_data_136].tabular\n",
      "Galaxy140.JPG\n",
      "Galaxy148.JPG\n",
      "Galaxy149.JPG\n",
      "Galaxy149-[Unique_on_data_148].gg\n",
      "Galaxy47.PNG\n",
      "Galaxy55.PNG\n",
      "Galaxy56.PNG\n",
      "Galaxy56-[Join_on_data_47_and_data_55].tabular\n",
      "Galaxy57-[Unique_on_data_56].tabular\n",
      "Galaxy91.JPG\n",
      "Galaxy92.JPG\n",
      "Galaxy93.JPG\n",
      "Galaxy94.JPG\n",
      "Galaxy95.JPG\n",
      "Galaxy96.JPG\n",
      "Galaxy97.JPG\n",
      "Galaxy98.JPG\n",
      "Galaxy99.JPG\n",
      "Goterm.tabular\n",
      "Goterm.txt\n",
      "PeptideRTResults.csv\n",
      "proteomeoutput.csv\n",
      "proteomeoutput.tab\n",
      "Revigo14.JPG\n",
      "Uniprot_merge.xlsx\n",
      "uniprot_sprot.phr\n",
      "uniprot_sprot.pin\n",
      "uniprot_sprot.psq\n",
      "uniprot-cgi_GO.tab\n",
      "VennDay5_29vs23.JPG\n",
      "VennDay8_29vs23.JPG\n",
      "set variables\n",
      "confirms creation of directory\n",
      "finding JPEG and PNG files and moving them to Galaxy_screenshots\n"
     ]
    }
   ],
   "source": [
    "!bash Quiz_script.sh"
   ]
  },
  {
   "cell_type": "markdown",
   "metadata": {},
   "source": [
    "Now I have created the folder \"Galaxy_screenshots\" which contain all of the JPG and PNG files."
   ]
  },
  {
   "cell_type": "code",
   "execution_count": 29,
   "metadata": {
    "collapsed": false
   },
   "outputs": [
    {
     "name": "stdout",
     "output_type": "stream",
     "text": [
      " Volume in drive C is TI106401W0D\n",
      " Volume Serial Number is D00E-CD8F\n",
      "\n",
      " Directory of C:\\Users\\rhondae\\Documents\\Github\\Fish-546-Bioinformatics\\analyses\\taylor\n",
      "\n",
      "12/01/2016  07:05 PM    <DIR>          .\n",
      "12/01/2016  07:05 PM    <DIR>          ..\n",
      "12/01/2016  07:05 PM    <DIR>          Galaxy_screenshots\n",
      "12/01/2016  09:43 AM        15,391,254 Galaxy127-[Sort_on_data_123].tabular\n",
      "12/01/2016  09:44 AM        20,745,975 Galaxy128-[Sort_on_data_124].tabular\n",
      "12/01/2016  09:44 AM        18,498,551 Galaxy129-[Sort_on_data_125].tabular\n",
      "12/01/2016  09:44 AM        20,595,033 Galaxy130-[Sort_on_data_126].tabular\n",
      "12/01/2016  09:35 AM        16,105,065 Galaxy130-[Sort_on_data_126].tabular.bmx02s3.partial\n",
      "11/19/2016  09:31 AM        41,795,291 Galaxy139-[Sort_on_data_136].tabular\n",
      "11/19/2016  10:03 AM            28,571 Galaxy149-[Unique_on_data_148].gg\n",
      "11/03/2016  07:21 PM        90,833,925 Galaxy56-[Join_on_data_47_and_data_55].tabular\n",
      "11/11/2016  12:56 PM           633,107 Galaxy57-[Unique_on_data_56].tabular\n",
      "11/19/2016  10:00 AM         3,888,952 Goterm.tabular\n",
      "11/19/2016  09:47 AM         3,888,948 Goterm.txt\n",
      "10/07/2016  10:42 AM         2,822,501 PeptideRTResults.csv\n",
      "11/02/2016  02:18 PM        30,153,893 proteomeoutput.csv\n",
      "11/02/2016  02:27 PM        30,153,893 proteomeoutput.tab\n",
      "11/11/2016  12:57 PM           324,902 Uniprot_merge.xlsx\n",
      "11/02/2016  06:07 PM       100,375,134 uniprot_sprot.phr\n",
      "11/02/2016  06:07 PM         4,418,176 uniprot_sprot.pin\n",
      "11/02/2016  06:07 PM       197,975,400 uniprot_sprot.psq\n",
      "11/16/2016  09:43 PM         5,787,377 uniprot-cgi_GO.tab\n",
      "              19 File(s)    604,415,948 bytes\n",
      "               3 Dir(s)  464,126,574,592 bytes free\n"
     ]
    }
   ],
   "source": [
    "ls"
   ]
  }
 ],
 "metadata": {
  "anaconda-cloud": {},
  "kernelspec": {
   "display_name": "Python [default]",
   "language": "python",
   "name": "python3"
  },
  "language_info": {
   "codemirror_mode": {
    "name": "ipython",
    "version": 3
   },
   "file_extension": ".py",
   "mimetype": "text/x-python",
   "name": "python",
   "nbconvert_exporter": "python",
   "pygments_lexer": "ipython3",
   "version": "3.5.2"
  }
 },
 "nbformat": 4,
 "nbformat_minor": 1
}
