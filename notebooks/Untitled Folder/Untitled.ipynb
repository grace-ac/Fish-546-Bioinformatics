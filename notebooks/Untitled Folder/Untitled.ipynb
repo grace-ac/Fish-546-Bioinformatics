{
 "cells": [
  {
   "cell_type": "code",
   "execution_count": 4,
   "metadata": {
    "collapsed": false
   },
   "outputs": [
    {
     "name": "stdout",
     "output_type": "stream",
     "text": [
      "C:\\Users\\rhondae\\Documents\\Github\\Fish-546-Bioinformatics\\scripts\\gigas_prot\n"
     ]
    }
   ],
   "source": [
    "cd C:/Users/rhondae/Documents/Github/Fish-546-Bioinformatics/scripts/gigas_prot"
   ]
  },
  {
   "cell_type": "code",
   "execution_count": 5,
   "metadata": {
    "collapsed": false
   },
   "outputs": [
    {
     "name": "stdout",
     "output_type": "stream",
     "text": [
      " Volume in drive C is TI106401W0D\n",
      " Volume Serial Number is D00E-CD8F\n",
      "\n",
      " Directory of C:\\Users\\rhondae\\Documents\\Github\\Fish-546-Bioinformatics\\scripts\\gigas_prot\n",
      "\n",
      "12/01/2016  10:52 AM    <DIR>          .\n",
      "12/01/2016  10:52 AM    <DIR>          ..\n",
      "11/02/2016  02:18 PM                 2 empty.md\n",
      "12/01/2016  11:03 AM                19 pwd.sh\n",
      "12/01/2016  05:18 PM             1,450 Quiz_script.sh\n",
      "               3 File(s)          1,471 bytes\n",
      "               2 Dir(s)  464,052,502,528 bytes free\n"
     ]
    }
   ],
   "source": [
    "ls"
   ]
  },
  {
   "cell_type": "code",
   "execution_count": 13,
   "metadata": {
    "collapsed": false
   },
   "outputs": [
    {
     "name": "stdout",
     "output_type": "stream",
     "text": [
      "set variables\n"
     ]
    },
    {
     "name": "stderr",
     "output_type": "stream",
     "text": [
      "mkdir: missing operand\n",
      "Try 'mkdir --help' for more information.\n"
     ]
    }
   ],
   "source": [
    "!bash Quiz_script.sh"
   ]
  }
 ],
 "metadata": {
  "anaconda-cloud": {},
  "kernelspec": {
   "display_name": "Python [default]",
   "language": "python",
   "name": "python3"
  },
  "language_info": {
   "codemirror_mode": {
    "name": "ipython",
    "version": 3
   },
   "file_extension": ".py",
   "mimetype": "text/x-python",
   "name": "python",
   "nbconvert_exporter": "python",
   "pygments_lexer": "ipython3",
   "version": "3.5.2"
  }
 },
 "nbformat": 4,
 "nbformat_minor": 1
}
