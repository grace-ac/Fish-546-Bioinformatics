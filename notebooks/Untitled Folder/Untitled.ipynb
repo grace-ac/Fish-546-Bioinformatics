{
 "cells": [
  {
   "cell_type": "code",
   "execution_count": 4,
   "metadata": {
    "collapsed": false
   },
   "outputs": [
    {
     "name": "stdout",
     "output_type": "stream",
     "text": [
      "C:\\Users\\rhondae\\Documents\\Github\\Fish-546-Bioinformatics\\scripts\\gigas_prot\n"
     ]
    }
   ],
   "source": [
    "cd C:/Users/rhondae/Documents/Github/Fish-546-Bioinformatics/scripts/gigas_prot"
   ]
  },
  {
   "cell_type": "code",
   "execution_count": 5,
   "metadata": {
    "collapsed": false
   },
   "outputs": [
    {
     "name": "stdout",
     "output_type": "stream",
     "text": [
      " Volume in drive C is TI106401W0D\n",
      " Volume Serial Number is D00E-CD8F\n",
      "\n",
      " Directory of C:\\Users\\rhondae\\Documents\\Github\\Fish-546-Bioinformatics\\scripts\\gigas_prot\n",
      "\n",
      "12/01/2016  10:52 AM    <DIR>          .\n",
      "12/01/2016  10:52 AM    <DIR>          ..\n",
      "11/02/2016  02:18 PM                 2 empty.md\n",
      "12/01/2016  11:03 AM                19 pwd.sh\n",
      "12/01/2016  05:18 PM             1,450 Quiz_script.sh\n",
      "               3 File(s)          1,471 bytes\n",
      "               2 Dir(s)  464,052,502,528 bytes free\n"
     ]
    }
   ],
   "source": [
    "ls"
   ]
  },
  {
   "cell_type": "code",
   "execution_count": 23,
   "metadata": {
    "collapsed": false,
    "scrolled": true
   },
   "outputs": [
    {
     "name": "stdout",
     "output_type": "stream",
     "text": [
      "change working directory\n",
      "listing files in current directory\n",
      "Galaxy100.JPG\n",
      "Galaxy102.JPG\n",
      "Galaxy122.JPG\n",
      "Galaxy123.JPG\n",
      "Galaxy124.JPG\n",
      "Galaxy125.JPG\n",
      "Galaxy126.JPG\n",
      "Galaxy127.JPG\n",
      "Galaxy127-[Sort_on_data_123].tabular\n",
      "Galaxy128.JPG\n",
      "Galaxy128-[Sort_on_data_124].tabular\n",
      "Galaxy129.JPG\n",
      "Galaxy129-[Sort_on_data_125].tabular\n",
      "Galaxy130.JPG\n",
      "Galaxy130-[Sort_on_data_126].tabular\n",
      "Galaxy130-[Sort_on_data_126].tabular.bmx02s3.partial\n",
      "Galaxy135.JPG\n",
      "Galaxy136.JPG\n",
      "Galaxy139.JPG\n",
      "Galaxy139-[Sort_on_data_136].tabular\n",
      "Galaxy140.JPG\n",
      "Galaxy148.JPG\n",
      "Galaxy149.JPG\n",
      "Galaxy149-[Unique_on_data_148].gg\n",
      "Galaxy47.PNG\n",
      "Galaxy55.PNG\n",
      "Galaxy56.PNG\n",
      "Galaxy56-[Join_on_data_47_and_data_55].tabular\n",
      "Galaxy57-[Unique_on_data_56].tabular\n",
      "Galaxy91.JPG\n",
      "Galaxy92.JPG\n",
      "Galaxy93.JPG\n",
      "Galaxy94.JPG\n",
      "Galaxy95.JPG\n",
      "Galaxy96.JPG\n",
      "Galaxy97.JPG\n",
      "Galaxy98.JPG\n",
      "Galaxy99.JPG\n",
      "Goterm.tabular\n",
      "Goterm.txt\n",
      "PeptideRTResults.csv\n",
      "proteomeoutput.csv\n",
      "proteomeoutput.tab\n",
      "Revigo14.JPG\n",
      "Uniprot_merge.xlsx\n",
      "uniprot_sprot.phr\n",
      "uniprot_sprot.pin\n",
      "uniprot_sprot.psq\n",
      "uniprot-cgi_GO.tab\n",
      "VennDay5_29vs23.JPG\n",
      "VennDay8_29vs23.JPG\n",
      "set variables\n",
      "confirms creation of directory\n",
      "Galaxy100.JPG\n",
      "Galaxy102.JPG\n",
      "Galaxy122.JPG\n",
      "Galaxy123.JPG\n",
      "Galaxy124.JPG\n",
      "Galaxy125.JPG\n",
      "Galaxy126.JPG\n",
      "Galaxy127.JPG\n",
      "Galaxy128.JPG\n",
      "Galaxy129.JPG\n",
      "Galaxy130.JPG\n",
      "Galaxy135.JPG\n",
      "Galaxy136.JPG\n",
      "Galaxy139.JPG\n",
      "Galaxy140.JPG\n",
      "Galaxy148.JPG\n",
      "Galaxy149.JPG\n",
      "Galaxy91.JPG\n",
      "Galaxy92.JPG\n",
      "Galaxy93.JPG\n",
      "Galaxy94.JPG\n",
      "Galaxy95.JPG\n",
      "Galaxy96.JPG\n",
      "Galaxy97.JPG\n",
      "Galaxy98.JPG\n",
      "Galaxy99.JPG\n",
      "Revigo14.JPG\n",
      "VennDay5_29vs23.JPG\n",
      "VennDay8_29vs23.JPG\n",
      "Galaxy47.PNG\n",
      "Galaxy55.PNG\n",
      "Galaxy56.PNG\n",
      "finding JPEG and PNG files\n"
     ]
    }
   ],
   "source": [
    "!bash Quiz_script.sh"
   ]
  }
 ],
 "metadata": {
  "anaconda-cloud": {},
  "kernelspec": {
   "display_name": "Python [default]",
   "language": "python",
   "name": "python3"
  },
  "language_info": {
   "codemirror_mode": {
    "name": "ipython",
    "version": 3
   },
   "file_extension": ".py",
   "mimetype": "text/x-python",
   "name": "python",
   "nbconvert_exporter": "python",
   "pygments_lexer": "ipython3",
   "version": "3.5.2"
  }
 },
 "nbformat": 4,
 "nbformat_minor": 1
}
