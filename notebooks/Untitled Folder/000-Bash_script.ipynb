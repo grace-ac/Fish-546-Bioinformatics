{
 "cells": [
  {
   "cell_type": "markdown",
   "metadata": {},
   "source": [
    "In this notebook I will be running a bash script to rename files I got out of Galaxy. These are the four oyster samples I have:\n",
    "\n",
    "Galaxy127-[Sort_on_data_123].tabular\n",
    "Galaxy128-[Sort_on_data_124].tabular\n",
    "Galaxy129-[Sort_on_data_125].tabular\n",
    "Galaxy130-[Sort_on_data_126].tabular\n",
    "\n",
    "which represent...\n",
    "Oyster 1: Oysters reared at 23C at Day 5 post-set\n",
    "Oyster 2: Oysters reared at 29C at Day 5 post-set\n",
    "Oyster 13: Oysters reared at 23C at Day 8 post-set\n",
    "Oyster 14: Oysters reared at 29C at Day 8 post-set\n",
    "\n",
    "I want to name them as...\n"
   ]
  },
  {
   "cell_type": "code",
   "execution_count": 3,
   "metadata": {
    "collapsed": false
   },
   "outputs": [
    {
     "name": "stdout",
     "output_type": "stream",
     "text": [
      "C:\\Users\\rhondae\\Documents\\Github\\Fish-546-Bioinformatics\\analyses\\taylor\n"
     ]
    }
   ],
   "source": [
    "cd C:/Users/rhondae/Documents/Github/Fish-546-Bioinformatics/analyses/taylor"
   ]
  },
  {
   "cell_type": "code",
   "execution_count": 4,
   "metadata": {
    "collapsed": false
   },
   "outputs": [
    {
     "name": "stdout",
     "output_type": "stream",
     "text": [
      " Volume in drive C is TI106401W0D\n",
      " Volume Serial Number is D00E-CD8F\n",
      "\n",
      " Directory of C:\\Users\\rhondae\\Documents\\Github\\Fish-546-Bioinformatics\\analyses\\taylor\n",
      "\n",
      "12/01/2016  09:44 AM    <DIR>          .\n",
      "12/01/2016  09:44 AM    <DIR>          ..\n",
      "11/16/2016  10:33 PM           124,283 Galaxy100.JPG\n",
      "11/16/2016  10:39 PM            77,507 Galaxy102.JPG\n",
      "11/18/2016  01:56 PM           104,438 Galaxy122.JPG\n",
      "11/18/2016  01:57 PM           110,566 Galaxy123.JPG\n",
      "11/18/2016  01:57 PM           110,296 Galaxy124.JPG\n",
      "11/18/2016  01:58 PM           108,768 Galaxy125.JPG\n",
      "11/18/2016  01:58 PM           115,006 Galaxy126.JPG\n",
      "11/18/2016  01:59 PM           111,526 Galaxy127.JPG\n",
      "12/01/2016  09:43 AM        15,391,254 Galaxy127-[Sort_on_data_123].tabular\n",
      "11/18/2016  01:59 PM           109,578 Galaxy128.JPG\n",
      "12/01/2016  09:44 AM        20,745,975 Galaxy128-[Sort_on_data_124].tabular\n",
      "11/18/2016  02:00 PM           109,658 Galaxy129.JPG\n",
      "12/01/2016  09:44 AM        18,498,551 Galaxy129-[Sort_on_data_125].tabular\n",
      "11/18/2016  02:00 PM           107,454 Galaxy130.JPG\n",
      "12/01/2016  09:44 AM        20,595,033 Galaxy130-[Sort_on_data_126].tabular\n",
      "12/01/2016  09:35 AM        16,105,065 Galaxy130-[Sort_on_data_126].tabular.bmx02s3.partial\n",
      "11/19/2016  11:15 AM           109,121 Galaxy135.JPG\n",
      "11/19/2016  11:15 AM           116,782 Galaxy136.JPG\n",
      "11/19/2016  11:16 AM           125,711 Galaxy139.JPG\n",
      "11/19/2016  09:31 AM        41,795,291 Galaxy139-[Sort_on_data_136].tabular\n",
      "11/19/2016  11:16 AM           103,568 Galaxy140.JPG\n",
      "11/19/2016  11:17 AM           103,955 Galaxy148.JPG\n",
      "11/19/2016  11:17 AM           115,682 Galaxy149.JPG\n",
      "11/19/2016  10:03 AM            28,571 Galaxy149-[Unique_on_data_148].gg\n",
      "11/03/2016  07:25 PM            59,810 Galaxy47.PNG\n",
      "11/03/2016  07:26 PM            61,576 Galaxy55.PNG\n",
      "11/03/2016  07:27 PM            62,450 Galaxy56.PNG\n",
      "11/03/2016  07:21 PM        90,833,925 Galaxy56-[Join_on_data_47_and_data_55].tabular\n",
      "11/11/2016  12:56 PM           633,107 Galaxy57-[Unique_on_data_56].tabular\n",
      "11/16/2016  10:15 PM           231,098 Galaxy91.JPG\n",
      "11/16/2016  10:15 PM           127,504 Galaxy92.JPG\n",
      "11/16/2016  10:16 PM           115,066 Galaxy93.JPG\n",
      "11/16/2016  10:17 PM           125,938 Galaxy94.JPG\n",
      "11/16/2016  10:18 PM           112,956 Galaxy95.JPG\n",
      "11/16/2016  10:18 PM           111,185 Galaxy96.JPG\n",
      "11/16/2016  10:19 PM           107,841 Galaxy97.JPG\n",
      "11/16/2016  10:19 PM           121,433 Galaxy98.JPG\n",
      "11/16/2016  10:20 PM           124,733 Galaxy99.JPG\n",
      "11/19/2016  10:00 AM         3,888,952 Goterm.tabular\n",
      "11/19/2016  09:47 AM         3,888,948 Goterm.txt\n",
      "10/07/2016  10:42 AM         2,822,501 PeptideRTResults.csv\n",
      "11/02/2016  02:18 PM        30,153,893 proteomeoutput.csv\n",
      "11/02/2016  02:27 PM        30,153,893 proteomeoutput.tab\n",
      "11/19/2016  11:46 AM            99,820 Revigo14.JPG\n",
      "11/11/2016  12:57 PM           324,902 Uniprot_merge.xlsx\n",
      "11/02/2016  06:07 PM       100,375,134 uniprot_sprot.phr\n",
      "11/02/2016  06:07 PM         4,418,176 uniprot_sprot.pin\n",
      "11/02/2016  06:07 PM       197,975,400 uniprot_sprot.psq\n",
      "11/16/2016  09:43 PM         5,787,377 uniprot-cgi_GO.tab\n",
      "11/18/2016  02:01 PM            28,367 VennDay5_29vs23.JPG\n",
      "11/18/2016  02:02 PM            28,613 VennDay8_29vs23.JPG\n",
      "              51 File(s)    607,798,237 bytes\n",
      "               2 Dir(s)  464,059,330,560 bytes free\n"
     ]
    }
   ],
   "source": [
    "ls"
   ]
  },
  {
   "cell_type": "code",
   "execution_count": 5,
   "metadata": {
    "collapsed": false
   },
   "outputs": [
    {
     "name": "stdout",
     "output_type": "stream",
     "text": [
      "CGI_10003490\tK1Q0U8\tK1Q0U8_CRAGI\tunreviewed\tActin\tCrassostrea gigas (Pacific oyster) (Crassostrea angulata)\t376\tGO:0005524\tVAPEEHPVLLTEAPLNPK\t29875527680\tprecursor [M+1]\tOyster 1\t41.95\n",
      "CGI_10003491\tK1Q821\tK1Q821_CRAGI\tunreviewed\tActin, cytoplasmic\tCrassostrea gigas (Pacific oyster) (Crassostrea angulata)\t376\tGO:0005524\tVAPEEHPVLLTEAPLNPK\t29875527680\tprecursor [M+1]\tOyster 1\t41.95\n",
      "CGI_10003492\tK1QG58\tK1QG58_CRAGI\tunreviewed\tActin\tCrassostrea gigas (Pacific oyster) (Crassostrea angulata)\t376\tGO:0005524\tVAPEEHPVLLTEAPLNPK\t29875527680\tprecursor [M+1]\tOyster 1\t41.95\n",
      "CGI_10017112\tK1RBG6\tK1RBG6_CRAGI\tunreviewed\tActin-1/3\tCrassostrea gigas (Pacific oyster) (Crassostrea angulata)\t530\tGO:0005524\tVAPEEHPVLLTEAPLNPK\t29875527680\tprecursor [M+1]\tOyster 1\t41.95\n",
      "CGI_10022729\tK1QWP8\tK1QWP8_CRAGI\tunreviewed\tActin-2\tCrassostrea gigas (Pacific oyster) (Crassostrea angulata)\t376\t0\tVAPEEHPVLLTEAPLNPK\t29875527680\tprecursor [M+1]\tOyster 1\t41.95\n",
      "CGI_10024572\tK1R6J7\tK1R6J7_CRAGI\tunreviewed\tActin\tCrassostrea gigas (Pacific oyster) (Crassostrea angulata)\t376\tGO:0005524\tVAPEEHPVLLTEAPLNPK\t29875527680\tprecursor [M+1]\tOyster 1\t41.95\n",
      "CGI_10024579\tK1RWD4\tK1RWD4_CRAGI\tunreviewed\tActin, cytoplasmic\tCrassostrea gigas (Pacific oyster) (Crassostrea angulata)\t376\t0\tVAPEEHPVLLTEAPLNPK\t29875527680\tprecursor [M+1]\tOyster 1\t41.95\n",
      "CGI_10003490\tK1Q0U8\tK1Q0U8_CRAGI\tunreviewed\tActin\tCrassostrea gigas (Pacific oyster) (Crassostrea angulata)\t376\tGO:0005524\tVAPEEHPVLLTEAPLNPK\t28285489152\tprecursor\tOyster 1\t41.95\n",
      "CGI_10003491\tK1Q821\tK1Q821_CRAGI\tunreviewed\tActin, cytoplasmic\tCrassostrea gigas (Pacific oyster) (Crassostrea angulata)\t376\tGO:0005524\tVAPEEHPVLLTEAPLNPK\t28285489152\tprecursor\tOyster 1\t41.95\n",
      "CGI_10003492\tK1QG58\tK1QG58_CRAGI\tunreviewed\tActin\tCrassostrea gigas (Pacific oyster) (Crassostrea angulata)\t376\tGO:0005524\tVAPEEHPVLLTEAPLNPK\t28285489152\tprecursor\tOyster 1\t41.95\n"
     ]
    }
   ],
   "source": [
    "!head Galaxy127-[Sort_on_data_123].tabular"
   ]
  },
  {
   "cell_type": "code",
   "execution_count": 6,
   "metadata": {
    "collapsed": false
   },
   "outputs": [
    {
     "name": "stdout",
     "output_type": "stream",
     "text": [
      "CGI_10003490\tK1Q0U8\tK1Q0U8_CRAGI\tunreviewed\tActin\tCrassostrea gigas (Pacific oyster) (Crassostrea angulata)\t376\tGO:0005524\tVAPEEHPVLLTEAPLNPK\t57248268288\tprecursor [M+1]\tOyster 2\t41.95\n",
      "CGI_10003491\tK1Q821\tK1Q821_CRAGI\tunreviewed\tActin, cytoplasmic\tCrassostrea gigas (Pacific oyster) (Crassostrea angulata)\t376\tGO:0005524\tVAPEEHPVLLTEAPLNPK\t57248268288\tprecursor [M+1]\tOyster 2\t41.95\n",
      "CGI_10003492\tK1QG58\tK1QG58_CRAGI\tunreviewed\tActin\tCrassostrea gigas (Pacific oyster) (Crassostrea angulata)\t376\tGO:0005524\tVAPEEHPVLLTEAPLNPK\t57248268288\tprecursor [M+1]\tOyster 2\t41.95\n",
      "CGI_10017112\tK1RBG6\tK1RBG6_CRAGI\tunreviewed\tActin-1/3\tCrassostrea gigas (Pacific oyster) (Crassostrea angulata)\t530\tGO:0005524\tVAPEEHPVLLTEAPLNPK\t57248268288\tprecursor [M+1]\tOyster 2\t41.95\n",
      "CGI_10022729\tK1QWP8\tK1QWP8_CRAGI\tunreviewed\tActin-2\tCrassostrea gigas (Pacific oyster) (Crassostrea angulata)\t376\t0\tVAPEEHPVLLTEAPLNPK\t57248268288\tprecursor [M+1]\tOyster 2\t41.95\n",
      "CGI_10024572\tK1R6J7\tK1R6J7_CRAGI\tunreviewed\tActin\tCrassostrea gigas (Pacific oyster) (Crassostrea angulata)\t376\tGO:0005524\tVAPEEHPVLLTEAPLNPK\t57248268288\tprecursor [M+1]\tOyster 2\t41.95\n",
      "CGI_10024579\tK1RWD4\tK1RWD4_CRAGI\tunreviewed\tActin, cytoplasmic\tCrassostrea gigas (Pacific oyster) (Crassostrea angulata)\t376\t0\tVAPEEHPVLLTEAPLNPK\t57248268288\tprecursor [M+1]\tOyster 2\t41.95\n",
      "CGI_10003490\tK1Q0U8\tK1Q0U8_CRAGI\tunreviewed\tActin\tCrassostrea gigas (Pacific oyster) (Crassostrea angulata)\t376\tGO:0005524\tVAPEEHPVLLTEAPLNPK\t54065836032\tprecursor\tOyster 2\t41.95\n",
      "CGI_10003491\tK1Q821\tK1Q821_CRAGI\tunreviewed\tActin, cytoplasmic\tCrassostrea gigas (Pacific oyster) (Crassostrea angulata)\t376\tGO:0005524\tVAPEEHPVLLTEAPLNPK\t54065836032\tprecursor\tOyster 2\t41.95\n",
      "CGI_10003492\tK1QG58\tK1QG58_CRAGI\tunreviewed\tActin\tCrassostrea gigas (Pacific oyster) (Crassostrea angulata)\t376\tGO:0005524\tVAPEEHPVLLTEAPLNPK\t54065836032\tprecursor\tOyster 2\t41.95\n"
     ]
    }
   ],
   "source": [
    "!head Galaxy128-[Sort_on_data_124].tabular"
   ]
  },
  {
   "cell_type": "code",
   "execution_count": 7,
   "metadata": {
    "collapsed": false
   },
   "outputs": [
    {
     "name": "stdout",
     "output_type": "stream",
     "text": [
      "CGI_10003490\tK1Q0U8\tK1Q0U8_CRAGI\tunreviewed\tActin\tCrassostrea gigas (Pacific oyster) (Crassostrea angulata)\t376\tGO:0005524\tVAPEEHPVLLTEAPLNPK\t42312364032\tprecursor [M+1]\tOyster 13\t41.95\n",
      "CGI_10003491\tK1Q821\tK1Q821_CRAGI\tunreviewed\tActin, cytoplasmic\tCrassostrea gigas (Pacific oyster) (Crassostrea angulata)\t376\tGO:0005524\tVAPEEHPVLLTEAPLNPK\t42312364032\tprecursor [M+1]\tOyster 13\t41.95\n",
      "CGI_10003492\tK1QG58\tK1QG58_CRAGI\tunreviewed\tActin\tCrassostrea gigas (Pacific oyster) (Crassostrea angulata)\t376\tGO:0005524\tVAPEEHPVLLTEAPLNPK\t42312364032\tprecursor [M+1]\tOyster 13\t41.95\n",
      "CGI_10017112\tK1RBG6\tK1RBG6_CRAGI\tunreviewed\tActin-1/3\tCrassostrea gigas (Pacific oyster) (Crassostrea angulata)\t530\tGO:0005524\tVAPEEHPVLLTEAPLNPK\t42312364032\tprecursor [M+1]\tOyster 13\t41.95\n",
      "CGI_10022729\tK1QWP8\tK1QWP8_CRAGI\tunreviewed\tActin-2\tCrassostrea gigas (Pacific oyster) (Crassostrea angulata)\t376\t0\tVAPEEHPVLLTEAPLNPK\t42312364032\tprecursor [M+1]\tOyster 13\t41.95\n",
      "CGI_10024572\tK1R6J7\tK1R6J7_CRAGI\tunreviewed\tActin\tCrassostrea gigas (Pacific oyster) (Crassostrea angulata)\t376\tGO:0005524\tVAPEEHPVLLTEAPLNPK\t42312364032\tprecursor [M+1]\tOyster 13\t41.95\n",
      "CGI_10024579\tK1RWD4\tK1RWD4_CRAGI\tunreviewed\tActin, cytoplasmic\tCrassostrea gigas (Pacific oyster) (Crassostrea angulata)\t376\t0\tVAPEEHPVLLTEAPLNPK\t42312364032\tprecursor [M+1]\tOyster 13\t41.95\n",
      "CGI_10003490\tK1Q0U8\tK1Q0U8_CRAGI\tunreviewed\tActin\tCrassostrea gigas (Pacific oyster) (Crassostrea angulata)\t376\tGO:0005524\tVAPEEHPVLLTEAPLNPK\t41303322624\tprecursor\tOyster 13\t41.95\n",
      "CGI_10003491\tK1Q821\tK1Q821_CRAGI\tunreviewed\tActin, cytoplasmic\tCrassostrea gigas (Pacific oyster) (Crassostrea angulata)\t376\tGO:0005524\tVAPEEHPVLLTEAPLNPK\t41303322624\tprecursor\tOyster 13\t41.95\n",
      "CGI_10003492\tK1QG58\tK1QG58_CRAGI\tunreviewed\tActin\tCrassostrea gigas (Pacific oyster) (Crassostrea angulata)\t376\tGO:0005524\tVAPEEHPVLLTEAPLNPK\t41303322624\tprecursor\tOyster 13\t41.95\n"
     ]
    }
   ],
   "source": [
    "!head Galaxy129-[Sort_on_data_125].tabular"
   ]
  },
  {
   "cell_type": "code",
   "execution_count": 9,
   "metadata": {
    "collapsed": false
   },
   "outputs": [
    {
     "name": "stdout",
     "output_type": "stream",
     "text": [
      "CGI_10003490\tK1Q0U8\tK1Q0U8_CRAGI\tunreviewed\tActin\tCrassostrea gigas (Pacific oyster) (Crassostrea angulata)\t376\tGO:0005524\tVAPEEHPVLLTEAPLNPK\t55950614528\tprecursor [M+1]\tOyster 14\t41.95\n",
      "CGI_10003491\tK1Q821\tK1Q821_CRAGI\tunreviewed\tActin, cytoplasmic\tCrassostrea gigas (Pacific oyster) (Crassostrea angulata)\t376\tGO:0005524\tVAPEEHPVLLTEAPLNPK\t55950614528\tprecursor [M+1]\tOyster 14\t41.95\n",
      "CGI_10003492\tK1QG58\tK1QG58_CRAGI\tunreviewed\tActin\tCrassostrea gigas (Pacific oyster) (Crassostrea angulata)\t376\tGO:0005524\tVAPEEHPVLLTEAPLNPK\t55950614528\tprecursor [M+1]\tOyster 14\t41.95\n",
      "CGI_10017112\tK1RBG6\tK1RBG6_CRAGI\tunreviewed\tActin-1/3\tCrassostrea gigas (Pacific oyster) (Crassostrea angulata)\t530\tGO:0005524\tVAPEEHPVLLTEAPLNPK\t55950614528\tprecursor [M+1]\tOyster 14\t41.95\n",
      "CGI_10022729\tK1QWP8\tK1QWP8_CRAGI\tunreviewed\tActin-2\tCrassostrea gigas (Pacific oyster) (Crassostrea angulata)\t376\t0\tVAPEEHPVLLTEAPLNPK\t55950614528\tprecursor [M+1]\tOyster 14\t41.95\n",
      "CGI_10024572\tK1R6J7\tK1R6J7_CRAGI\tunreviewed\tActin\tCrassostrea gigas (Pacific oyster) (Crassostrea angulata)\t376\tGO:0005524\tVAPEEHPVLLTEAPLNPK\t55950614528\tprecursor [M+1]\tOyster 14\t41.95\n",
      "CGI_10024579\tK1RWD4\tK1RWD4_CRAGI\tunreviewed\tActin, cytoplasmic\tCrassostrea gigas (Pacific oyster) (Crassostrea angulata)\t376\t0\tVAPEEHPVLLTEAPLNPK\t55950614528\tprecursor [M+1]\tOyster 14\t41.95\n",
      "CGI_10003490\tK1Q0U8\tK1Q0U8_CRAGI\tunreviewed\tActin\tCrassostrea gigas (Pacific oyster) (Crassostrea angulata)\t376\tGO:0005524\tVAPEEHPVLLTEAPLNPK\t54122545152\tprecursor\tOyster 14\t41.95\n",
      "CGI_10003491\tK1Q821\tK1Q821_CRAGI\tunreviewed\tActin, cytoplasmic\tCrassostrea gigas (Pacific oyster) (Crassostrea angulata)\t376\tGO:0005524\tVAPEEHPVLLTEAPLNPK\t54122545152\tprecursor\tOyster 14\t41.95\n",
      "CGI_10003492\tK1QG58\tK1QG58_CRAGI\tunreviewed\tActin\tCrassostrea gigas (Pacific oyster) (Crassostrea angulata)\t376\tGO:0005524\tVAPEEHPVLLTEAPLNPK\t54122545152\tprecursor\tOyster 14\t41.95\n"
     ]
    }
   ],
   "source": [
    "!head Galaxy130-[Sort_on_data_126].tabular"
   ]
  },
  {
   "cell_type": "code",
   "execution_count": 1,
   "metadata": {
    "collapsed": false
   },
   "outputs": [
    {
     "name": "stdout",
     "output_type": "stream",
     "text": [
      "C:\\Users\\rhondae\\Documents\\Github\\Fish-546-Bioinformatics\\scripts\\gigas_prot\n"
     ]
    }
   ],
   "source": [
    "cd C:/Users/rhondae/Documents/Github/Fish-546-Bioinformatics/scripts/gigas_prot"
   ]
  },
  {
   "cell_type": "code",
   "execution_count": 2,
   "metadata": {
    "collapsed": false
   },
   "outputs": [
    {
     "name": "stdout",
     "output_type": "stream",
     "text": [
      " Volume in drive C is TI106401W0D\n",
      " Volume Serial Number is D00E-CD8F\n",
      "\n",
      " Directory of C:\\Users\\rhondae\\Documents\\Github\\Fish-546-Bioinformatics\\scripts\\gigas_prot\n",
      "\n",
      "12/01/2016  10:52 AM    <DIR>          .\n",
      "12/01/2016  10:52 AM    <DIR>          ..\n",
      "11/02/2016  02:18 PM                 2 empty.md\n",
      "12/01/2016  10:52 AM                 3 pwd.sh\n",
      "12/01/2016  08:43 AM                11 Quiz_script.sh\n",
      "               3 File(s)             16 bytes\n",
      "               2 Dir(s)  464,205,537,280 bytes free\n"
     ]
    }
   ],
   "source": [
    "ls"
   ]
  },
  {
   "cell_type": "code",
   "execution_count": 11,
   "metadata": {
    "collapsed": false
   },
   "outputs": [
    {
     "ename": "NameError",
     "evalue": "name 'pwd' is not defined",
     "output_type": "error",
     "traceback": [
      "\u001b[0;31m---------------------------------------------------------------------------\u001b[0m",
      "\u001b[0;31mNameError\u001b[0m                                 Traceback (most recent call last)",
      "\u001b[0;32m<ipython-input-11-fd6722e3e575>\u001b[0m in \u001b[0;36m<module>\u001b[0;34m()\u001b[0m\n\u001b[0;32m----> 1\u001b[0;31m \u001b[0mpwd\u001b[0m\u001b[1;33m.\u001b[0m\u001b[0msh\u001b[0m\u001b[1;33m\u001b[0m\u001b[0m\n\u001b[0m",
      "\u001b[0;31mNameError\u001b[0m: name 'pwd' is not defined"
     ]
    }
   ],
   "source": [
    "!pwd.sh"
   ]
  }
 ],
 "metadata": {
  "anaconda-cloud": {},
  "kernelspec": {
   "display_name": "Python [default]",
   "language": "python",
   "name": "python3"
  },
  "language_info": {
   "codemirror_mode": {
    "name": "ipython",
    "version": 3
   },
   "file_extension": ".py",
   "mimetype": "text/x-python",
   "name": "python",
   "nbconvert_exporter": "python",
   "pygments_lexer": "ipython3",
   "version": "3.5.2"
  }
 },
 "nbformat": 4,
 "nbformat_minor": 1
}
