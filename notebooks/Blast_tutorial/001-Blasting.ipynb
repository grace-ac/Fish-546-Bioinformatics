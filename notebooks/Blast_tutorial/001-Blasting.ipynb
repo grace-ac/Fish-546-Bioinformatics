{
 "cells": [
  {
   "cell_type": "code",
   "execution_count": 1,
   "metadata": {
    "collapsed": false
   },
   "outputs": [
    {
     "name": "stdout",
     "output_type": "stream",
     "text": [
      "/c/Program Files/NCBI/blast-2.5.0+/bin/blastp\n"
     ]
    }
   ],
   "source": [
    "!which blastp"
   ]
  },
  {
   "cell_type": "code",
   "execution_count": 2,
   "metadata": {
    "collapsed": false
   },
   "outputs": [
    {
     "name": "stdout",
     "output_type": "stream",
     "text": [
      "C:\\Users\\rhondae\\Documents\\Github\\Fish-546-Bioinformatics\\blast-2.5.0+\n"
     ]
    }
   ],
   "source": [
    "cd C:\\\\Users\\rhondae\\\\Documents\\\\Github\\\\Fish-546-Bioinformatics\\blast-2.5.0+"
   ]
  },
  {
   "cell_type": "code",
   "execution_count": 3,
   "metadata": {
    "collapsed": false
   },
   "outputs": [
    {
     "data": {
      "text/plain": [
       "'C:\\\\Users\\\\rhondae\\\\Documents\\\\Github\\\\Fish-546-Bioinformatics\\\\blast-2.5.0+'"
      ]
     },
     "execution_count": 3,
     "metadata": {},
     "output_type": "execute_result"
    }
   ],
   "source": [
    "pwd"
   ]
  },
  {
   "cell_type": "code",
   "execution_count": 2,
   "metadata": {
    "collapsed": false
   },
   "outputs": [
    {
     "name": "stdout",
     "output_type": "stream",
     "text": [
      "USAGE\n",
      "  makeblastdb.exe [-h] [-help] [-in input_file] [-input_type type]\n",
      "    -dbtype molecule_type [-title database_title] [-parse_seqids]\n",
      "    [-hash_index] [-mask_data mask_data_files] [-mask_id mask_algo_ids]\n",
      "    [-mask_desc mask_algo_descriptions] [-gi_mask]\n",
      "    [-gi_mask_name gi_based_mask_names] [-out database_name]\n",
      "    [-max_file_sz number_of_bytes] [-logfile File_Name] [-taxid TaxID]\n",
      "    [-taxid_map TaxIDMapFile] [-version]\n",
      "\n",
      "DESCRIPTION\n",
      "   Application to create BLAST databases, version 2.5.0+\n",
      "\n",
      "REQUIRED ARGUMENTS\n",
      " -dbtype <String, `nucl', `prot'>\n",
      "   Molecule type of target db\n",
      "\n",
      "OPTIONAL ARGUMENTS\n",
      " -h\n",
      "   Print USAGE and DESCRIPTION;  ignore all other parameters\n",
      " -help\n",
      "   Print USAGE, DESCRIPTION and ARGUMENTS; ignore all other parameters\n",
      " -version\n",
      "   Print version number;  ignore other arguments\n",
      "\n",
      " *** Input options\n",
      " -in <File_In>\n",
      "   Input file/database name\n",
      "   Default = `-'\n",
      " -input_type <String, `asn1_bin', `asn1_txt', `blastdb', `fasta'>\n",
      "   Type of the data specified in input_file\n",
      "   Default = `fasta'\n",
      "\n",
      " *** Configuration options\n",
      " -title <String>\n",
      "   Title for BLAST database\n",
      "   Default = input file name provided to -in argument\n",
      " -parse_seqids\n",
      "   Option to parse seqid for FASTA input if set, for all other input types\n",
      "   seqids are parsed automatically\n",
      " -hash_index\n",
      "   Create index of sequence hash values.\n",
      "\n",
      " *** Sequence masking options\n",
      " -mask_data <String>\n",
      "   Comma-separated list of input files containing masking data as produced by\n",
      "   NCBI masking applications (e.g. dustmasker, segmasker, windowmasker)\n",
      " -mask_id <String>\n",
      "   Comma-separated list of strings to uniquely identify the masking algorithm\n",
      "    * Requires:  mask_data\n",
      "    * Incompatible with:  gi_mask\n",
      " -mask_desc <String>\n",
      "   Comma-separated list of free form strings to describe the masking algorithm\n",
      "   details\n",
      "    * Requires:  mask_id\n",
      " -gi_mask\n",
      "   Create GI indexed masking data.\n",
      "    * Requires:  parse_seqids\n",
      "    * Incompatible with:  mask_id\n",
      " -gi_mask_name <String>\n",
      "   Comma-separated list of masking data output files.\n",
      "    * Requires:  mask_data, gi_mask\n",
      "\n",
      " *** Output options\n",
      " -out <String>\n",
      "   Name of BLAST database to be created\n",
      "   Default = input file name provided to -in argumentRequired if multiple\n",
      "   file(s)/database(s) are provided as input\n",
      " -max_file_sz <String>\n",
      "   Maximum file size for BLAST database files\n",
      "   Default = `1GB'\n",
      " -logfile <File_Out>\n",
      "   File to which the program log should be redirected\n",
      "\n",
      " *** Taxonomy options\n",
      " -taxid <Integer, >=0>\n",
      "   Taxonomy ID to assign to all sequences\n",
      "    * Incompatible with:  taxid_map\n",
      " -taxid_map <File_In>\n",
      "   Text file mapping sequence IDs to taxonomy IDs.\n",
      "   Format:<SequenceId> <TaxonomyId><newline>\n",
      "    * Requires:  parse_seqids\n",
      "    * Incompatible with:  taxid\n",
      "\n"
     ]
    }
   ],
   "source": [
    "!makeblastdb -help"
   ]
  },
  {
   "cell_type": "code",
   "execution_count": null,
   "metadata": {
    "collapsed": false
   },
   "outputs": [
    {
     "name": "stdout",
     "output_type": "stream",
     "text": [
      "\n",
      "\n",
      "Building a new DB, current time: 10/13/2016 13:55:40\n",
      "New DB name:   C:\\Users\\rhondae\\documents\\Github\\Fish-546-Bioinformatics\\uniprot_sprot\n",
      "New DB title:  C:\\Users\\rhondae\\documents\\Github\\Fish-546-Bioinformatics\\uniprot_sprot.fasta\n",
      "Sequence type: Protein\n",
      "Deleted existing Protein BLAST database named C:\\Users\\rhondae\\documents\\Github\\Fish-546-Bioinformatics\\uniprot_sprot\n",
      "Keep MBits: T\n",
      "Maximum file size: 1000000000B\n",
      "Adding sequences from FASTA; added 552259 sequences in 240.864 seconds.\n"
     ]
    }
   ],
   "source": [
    "!C:\\Users\\rhondae\\documents\\Github\\Fish-546-Bioinformatics\\blast-2.5.0+\\bin\\makeblastdb \\\n",
    "-in C:\\Users\\rhondae\\documents\\Github\\Fish-546-Bioinformatics\\uniprot_sprot.fasta \\\n",
    "-dbtype prot \\\n",
    "-out C:\\Users\\rhondae\\documents\\Github\\Fish-546-Bioinformatics\\uniprot_sprot"
   ]
  },
  {
   "cell_type": "code",
   "execution_count": null,
   "metadata": {
    "collapsed": true
   },
   "outputs": [],
   "source": [
    "!C:\\Users\\rhondae\\documents\\Github\\Fish-546-Bioinformatics\\blast-2.5.0+\\bin\\blastx \\\n",
    "-query C:\\Users\\rhondae\\documents\\Github\\Fish-546-Bioinformatics\\Oly-transcriptome-2k.fa \\\n",
    "-db C:\\Users\\rhondae\\documents\\Github\\Fish-546-Bioinformatics\\uniprot_sprot \\\n",
    "-outfmt 6"
   ]
  },
  {
   "cell_type": "code",
   "execution_count": 4,
   "metadata": {
    "collapsed": true
   },
   "outputs": [],
   "source": [
    "!head C:\\Users\\rhondae\\documents\\Github\\Fish-546-Bioinformatics\\Oly-transcriptome-2k.fa > \\\n",
    "C:\\Users\\rhondae\\documents\\Github\\Fish-546-Bioinformatics\\Oly-transcriptome-2kshort.fa"
   ]
  },
  {
   "cell_type": "code",
   "execution_count": null,
   "metadata": {
    "collapsed": true
   },
   "outputs": [],
   "source": [
    "!C:\\Users\\rhondae\\documents\\Github\\Fish-546-Bioinformatics\\blast-2.5.0+\\bin\\blastx \\\n",
    "-query C:\\Users\\rhondae\\documents\\Github\\Fish-546-Bioinformatics\\Oly-transcriptome-2k.fa \\\n",
    "-db C:\\Users\\rhondae\\documents\\Github\\Fish-546-Bioinformatics\\uniprot_sprot \\\n",
    "-outfmt 6 \\\n",
    "> C:\\Users\\rhondae\\documents\\Github\\Fish-546-Bioinformatics\\blastoutput.txt"
   ]
  }
 ],
 "metadata": {
  "anaconda-cloud": {},
  "kernelspec": {
   "display_name": "Python [default]",
   "language": "python",
   "name": "python3"
  },
  "language_info": {
   "codemirror_mode": {
    "name": "ipython",
    "version": 3
   },
   "file_extension": ".py",
   "mimetype": "text/x-python",
   "name": "python",
   "nbconvert_exporter": "python",
   "pygments_lexer": "ipython3",
   "version": "3.5.2"
  }
 },
 "nbformat": 4,
 "nbformat_minor": 1
}
