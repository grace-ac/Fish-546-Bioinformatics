{
 "cells": [
  {
   "cell_type": "code",
   "execution_count": 1,
   "metadata": {
    "collapsed": false
   },
   "outputs": [
    {
     "data": {
      "text/plain": [
       "'C:\\\\Users\\\\rhondae\\\\01-Class-project'"
      ]
     },
     "execution_count": 1,
     "metadata": {},
     "output_type": "execute_result"
    }
   ],
   "source": [
    "pwd"
   ]
  },
  {
   "cell_type": "code",
   "execution_count": 21,
   "metadata": {
    "collapsed": false
   },
   "outputs": [
    {
     "name": "stdout",
     "output_type": "stream",
     "text": [
      "C:\\Users\\rhondae\\Documents\\Github\\Fish-546-Bioinformatics\n"
     ]
    }
   ],
   "source": [
    "cd C:/Users/rhondae/Documents/Github/Fish-546-Bioinformatics/"
   ]
  },
  {
   "cell_type": "code",
   "execution_count": null,
   "metadata": {
    "collapsed": true
   },
   "outputs": [],
   "source": [
    "!curl http://gigaton.sigenae.org/ngspipelines/data/dcc6581978/analysis/f78867df95/contigs.fasta.transdecoder.pep.gz"
   ]
  },
  {
   "cell_type": "code",
   "execution_count": null,
   "metadata": {
    "collapsed": true
   },
   "outputs": [],
   "source": [
    "!gzip -d contigs.fasta.transdecoder.pep.gz"
   ]
  },
  {
   "cell_type": "code",
   "execution_count": 23,
   "metadata": {
    "collapsed": false
   },
   "outputs": [
    {
     "name": "stdout",
     "output_type": "stream",
     "text": [
      ">CHOYP_043R.1.5|m.16874 CHOYP_043R.1.5|g.16874  ORF CHOYP_043R.1.5|g.16874 CHOYP_043R.1.5|m.16874 type:internal len:199 (-) CHOYP_043R.1.5:1-594(-)\n",
      "TPSGPTPSGPTPSVTPTPSGPTPSVTPTPSGSTPSGPTPSVTPTPSGPTPSGPTPSVTPT\n",
      "PSGPTPSVTPTPSVPTPSGPTPSVTPTPSGPTPSVTPTPSGPTPSGPTPSVTPTPSGPTP\n",
      "SGPTPSVTPTPSVTPTPSGPTPSVTSTPSAPTPSGPTPSGPTPSVTPTPSGPTPSGPTPS\n",
      "VTPTPSGPTPSVTPTPSG\n",
      ">CHOYP_043R.5.5|m.64252 CHOYP_043R.5.5|g.64252  ORF CHOYP_043R.5.5|g.64252 CHOYP_043R.5.5|m.64252 type:internal len:821 (+) CHOYP_043R.5.5:2-2461(+)\n",
      "SRPTPSVTPTPSGPTPSVTPTPSVSTPSGPTPSVTPTPSGPSPSVTPTPSGPSPSGPTPS\n",
      "ATPTPSGPTPSGTTPSGSTPSATITTISTPSTTVCSYVDIGPEQAIDVSLRSPSEDPDAP\n",
      "IENILQTNSVYKPKKEPTYDENVVVKIISQDTPTILRVSFTVNRADTVGLEYLTDYKQKI\n",
      "ITQNNETVEFVFAAGIITDNFTINIRSDSAEQPEISNLKIRACYKPVIGQPSTTTPNPSI\n"
     ]
    }
   ],
   "source": [
    "!head contigs.fasta.transdecoder.pep/contigs.fasta.transdecoder.pep"
   ]
  },
  {
   "cell_type": "code",
   "execution_count": 13,
   "metadata": {
    "collapsed": false
   },
   "outputs": [
    {
     "name": "stdout",
     "output_type": "stream",
     "text": [
      "USAGE\n",
      "  makeblastdb.exe [-h] [-help] [-in input_file] [-input_type type]\n",
      "    -dbtype molecule_type [-title database_title] [-parse_seqids]\n",
      "    [-hash_index] [-mask_data mask_data_files] [-mask_id mask_algo_ids]\n",
      "    [-mask_desc mask_algo_descriptions] [-gi_mask]\n",
      "    [-gi_mask_name gi_based_mask_names] [-out database_name]\n",
      "    [-max_file_sz number_of_bytes] [-logfile File_Name] [-taxid TaxID]\n",
      "    [-taxid_map TaxIDMapFile] [-version]\n",
      "\n",
      "DESCRIPTION\n",
      "   Application to create BLAST databases, version 2.5.0+\n",
      "\n",
      "REQUIRED ARGUMENTS\n",
      " -dbtype <String, `nucl', `prot'>\n",
      "   Molecule type of target db\n",
      "\n",
      "OPTIONAL ARGUMENTS\n",
      " -h\n",
      "   Print USAGE and DESCRIPTION;  ignore all other parameters\n",
      " -help\n",
      "   Print USAGE, DESCRIPTION and ARGUMENTS; ignore all other parameters\n",
      " -version\n",
      "   Print version number;  ignore other arguments\n",
      "\n",
      " *** Input options\n",
      " -in <File_In>\n",
      "   Input file/database name\n",
      "   Default = `-'\n",
      " -input_type <String, `asn1_bin', `asn1_txt', `blastdb', `fasta'>\n",
      "   Type of the data specified in input_file\n",
      "   Default = `fasta'\n",
      "\n",
      " *** Configuration options\n",
      " -title <String>\n",
      "   Title for BLAST database\n",
      "   Default = input file name provided to -in argument\n",
      " -parse_seqids\n",
      "   Option to parse seqid for FASTA input if set, for all other input types\n",
      "   seqids are parsed automatically\n",
      " -hash_index\n",
      "   Create index of sequence hash values.\n",
      "\n",
      " *** Sequence masking options\n",
      " -mask_data <String>\n",
      "   Comma-separated list of input files containing masking data as produced by\n",
      "   NCBI masking applications (e.g. dustmasker, segmasker, windowmasker)\n",
      " -mask_id <String>\n",
      "   Comma-separated list of strings to uniquely identify the masking algorithm\n",
      "    * Requires:  mask_data\n",
      "    * Incompatible with:  gi_mask\n",
      " -mask_desc <String>\n",
      "   Comma-separated list of free form strings to describe the masking algorithm\n",
      "   details\n",
      "    * Requires:  mask_id\n",
      " -gi_mask\n",
      "   Create GI indexed masking data.\n",
      "    * Requires:  parse_seqids\n",
      "    * Incompatible with:  mask_id\n",
      " -gi_mask_name <String>\n",
      "   Comma-separated list of masking data output files.\n",
      "    * Requires:  mask_data, gi_mask\n",
      "\n",
      " *** Output options\n",
      " -out <String>\n",
      "   Name of BLAST database to be created\n",
      "   Default = input file name provided to -in argumentRequired if multiple\n",
      "   file(s)/database(s) are provided as input\n",
      " -max_file_sz <String>\n",
      "   Maximum file size for BLAST database files\n",
      "   Default = `1GB'\n",
      " -logfile <File_Out>\n",
      "   File to which the program log should be redirected\n",
      "\n",
      " *** Taxonomy options\n",
      " -taxid <Integer, >=0>\n",
      "   Taxonomy ID to assign to all sequences\n",
      "    * Incompatible with:  taxid_map\n",
      " -taxid_map <File_In>\n",
      "   Text file mapping sequence IDs to taxonomy IDs.\n",
      "   Format:<SequenceId> <TaxonomyId><newline>\n",
      "    * Requires:  parse_seqids\n",
      "    * Incompatible with:  taxid\n",
      "\n"
     ]
    }
   ],
   "source": [
    "!makeblastdb -help"
   ]
  },
  {
   "cell_type": "code",
   "execution_count": 26,
   "metadata": {
    "collapsed": false
   },
   "outputs": [
    {
     "name": "stdout",
     "output_type": "stream",
     "text": [
      "\n",
      "\n",
      "Building a new DB, current time: 10/18/2016 16:09:26\n",
      "New DB name:   C:\\Users\\rhondae\\Documents\\Github\\Fish-546-Bioinformatics\\uniprot_sprot1\n",
      "New DB title:  uniprot_sprot.fasta\n",
      "Sequence type: Protein\n",
      "Deleted existing Protein BLAST database named C:\\Users\\rhondae\\Documents\\Github\\Fish-546-Bioinformatics\\uniprot_sprot1\n",
      "Keep MBits: T\n",
      "Maximum file size: 1000000000B\n",
      "Adding sequences from FASTA; added 552259 sequences in 243.894 seconds.\n"
     ]
    }
   ],
   "source": [
    "!blast-2.5.0+\\bin\\makeblastdb \\\n",
    "-in uniprot_sprot.fasta \\\n",
    "-dbtype prot \\\n",
    "-out uniprot_sprot1"
   ]
  },
  {
   "cell_type": "code",
   "execution_count": 29,
   "metadata": {
    "collapsed": false
   },
   "outputs": [
    {
     "name": "stdout",
     "output_type": "stream",
     "text": [
      ">sp|Q6GZX4|001R_FRG3G Putative transcription factor 001R OS=Frog virus 3 (isolate Goorha) GN=FV3-001R PE=4 SV=1\n",
      "MAFSAEDVLKEYDRRRRMEALLLSLYYPNDRKLLDYKEWSPPRVQVECPKAPVEWNNPPS\n",
      "EKGLIVGHFSGIKYKGEKAQASEVDVNKMCCWVSKFKDAMRRYQGIQTCKIPGKVLSDLD\n",
      "AKIKAYNLTVEGVEGFVRYSRVTKQHVAAFLKELRHSKQYENVNLIHYILTDKRVDIQHL\n",
      "EKDLVKDFKALVESAHRMRQGHMINVKYILYQLLKKHGHGPDGPDILTVKTGSKGVLYDD\n",
      "SFRKIYTDLGWKFTPL\n",
      ">sp|Q6GZX3|002L_FRG3G Uncharacterized protein 002L OS=Frog virus 3 (isolate Goorha) GN=FV3-002L PE=4 SV=1\n",
      "MSIIGATRLQNDKSDTYSAGPCYAGGCSAFTPRGTCGKDWDLGEQTCASGFCTSQPLCAR\n",
      "IKKTQVCGLRYSSKGKDPLVSAEWDSRGAPYVRCTYDADLIDTQAQVDQFVSMFGESPSL\n",
      "AERYCMRGVKNTAGELVSRVSSDADPAGGWCRKWYSAHRGPDQDAALGSFCIKNPGAADC\n"
     ]
    }
   ],
   "source": [
    "!head uniprot_sprot.fasta"
   ]
  },
  {
   "cell_type": "code",
   "execution_count": 31,
   "metadata": {
    "collapsed": false
   },
   "outputs": [
    {
     "name": "stderr",
     "output_type": "stream",
     "text": [
      "FASTA-Reader: Ignoring invalid residues at position(s): On line 2: 2, 5, 7, 10, 12, 16, 18, 21, 23, 27, 29, 34, 37, 39, 43, 45, 48, 50, 53, 55, 59\n",
      "FASTA-Reader: Ignoring invalid residues at position(s): On line 3: 1, 4, 6, 10, 12, 15, 17, 20, 22, 26, 28, 31, 33, 37, 39, 42, 44, 47, 49, 53, 55, 58, 60\n",
      "FASTA-Reader: Ignoring invalid residues at position(s): On line 4: 3, 5, 9, 11, 15, 17, 20, 22, 28, 31, 33, 36, 38, 41, 43, 47, 49, 52, 54, 57, 59\n",
      "FASTA-Reader: Ignoring invalid residues at position(s): On line 5: 3, 5, 8, 10, 14, 16\n",
      "FASTA-Reader: Ignoring invalid residues at position(s): On line 7: 3, 5, 9, 11, 14, 16, 20, 22, 27, 30, 32, 36, 38, 41, 43, 47, 49, 52, 54, 57, 59\n",
      "FASTA-Reader: Ignoring invalid residues at position(s): On line 8: 3, 5, 8, 10, 15, 20, 24, 27, 30, 40, 42-44, 46, 50, 53, 55, 57, 60\n",
      "FASTA-Reader: Ignoring invalid residues at position(s): On line 9: 1-2, 4-6, 13, 16-17, 21, 27-28, 30, 33, 35-36, 40, 50-51, 53, 58, 60\n",
      "FASTA-Reader: Ignoring invalid residues at position(s): On line 10: 1, 3, 6, 9-10, 12, 16-17, 21, 23, 25, 31-35, 38, 40, 46, 48, 50-51, 56, 58, 60\n",
      "FASTA-Reader: Ignoring invalid residues at position(s): On line 11: 9, 14, 16-17, 20-21, 25-27, 30, 33-34, 42, 48, 53, 59-60\n",
      "FASTA-Reader: Ignoring invalid residues at position(s): On line 12: 7, 12, 16, 19, 23, 29, 31, 38, 40-41, 43, 45, 47, 49, 51, 53, 55, 60\n",
      "FASTA-Reader: Ignoring invalid residues at position(s): On line 13: 8, 10, 13, 15, 19, 21, 23-24, 26, 30, 32, 35-37, 41, 48, 52, 57, 59\n",
      "FASTA-Reader: Ignoring invalid residues at position(s): On line 14: 1, 4-5, 9, 11, 13, 15, 17, 19, 21, 23, 25, 34, 37, 42, 46-48, 52, 54, 56-57, 59-60\n",
      "FASTA-Reader: Ignoring invalid residues at position(s): On line 15: 1, 5-6, 10-12, 14, 17, 20, 24, 26-27, 30-32, 35, 37, 40, 46-47, 50, 53, 57-58, 60\n",
      "FASTA-Reader: Ignoring invalid residues at position(s): On line 16: 3, 9-10, 12-13, 17, 20-23, 25-27, 33, 36-39, 41, 45-46, 53-55, 58-59\n",
      "FASTA-Reader: Ignoring invalid residues at position(s): On line 17: 4, 8, 14, 16-17, 19, 23, 25, 28, 30, 33, 35, 39, 41, 44, 46, 49, 51, 55, 57, 60\n",
      "FASTA-Reader: Ignoring invalid residues at position(s): On line 18: 2, 6, 8, 11, 13, 16, 18, 22, 24, 27, 29, 33, 35, 38, 40, 44, 46, 49, 51, 54, 56, 60\n",
      "FASTA-Reader: Ignoring invalid residues at position(s): On line 19: 2, 6, 8, 11, 13, 19, 22, 24, 27, 29, 32, 34, 38, 40, 43, 45, 48, 50, 54, 56, 60\n",
      "FASTA-Reader: Ignoring invalid residues at position(s): On line 20: 2, 5, 7, 11, 13, 16, 18, 21, 23, 27, 29, 33, 35, 38, 40\n",
      "FASTA-Reader: Ignoring invalid residues at position(s): On line 22: 3-5, 9, 12-16, 21, 24-26, 32, 34-35, 37, 49, 51, 55-56, 59-60\n",
      "FASTA-Reader: Ignoring invalid residues at position(s): On line 23: 3-4, 22, 25-26, 33, 36, 38, 46, 48-50, 53, 58, 60\n",
      "FASTA-Reader: Ignoring invalid residues at position(s): On line 24: 1-2, 5-6, 8-9, 22, 30, 32, 34, 44, 46, 51-52\n",
      "FASTA-Reader: Ignoring invalid residues at position(s): On line 25: 1, 6, 17, 20-21, 23, 25, 27, 32, 35-36, 40, 42, 46, 51, 55, 57-58\n",
      "FASTA-Reader: Ignoring invalid residues at position(s): On line 26: 1, 3-4, 11-12, 14-16, 20, 22, 29, 36, 38, 41\n",
      "FASTA-Reader: Ignoring invalid residues at position(s): On line 28: 4, 11-12, 15-16, 24-26, 29-30, 32, 34-35, 37-38, 42-43, 47-48, 51, 60\n",
      "FASTA-Reader: Ignoring invalid residues at position(s): On line 29: 2, 8-12, 19, 21, 24-25, 27-29, 31-32, 34, 38-39, 45, 47, 51, 54-56\n",
      "FASTA-Reader: Ignoring invalid residues at position(s): On line 30: 2, 19, 23-24, 26, 28, 34, 42-43, 46-48, 53, 55-56\n",
      "FASTA-Reader: Ignoring invalid residues at position(s): On line 31: 3\n",
      "FASTA-Reader: Ignoring invalid residues at position(s): On line 33: 3, 6-8, 14, 16-17, 19, 31, 33, 37-38, 41-42, 45-46\n",
      "FASTA-Reader: Ignoring invalid residues at position(s): On line 34: 4, 7-8, 15, 18, 20, 28, 30-32, 35, 40-43, 46-47, 53, 55, 59\n",
      "FASTA-Reader: Ignoring invalid residues at position(s): On line 35: 3, 5, 12, 15, 17, 22-23, 25, 32, 37, 48, 51-52, 54, 56, 58\n",
      "^C\n"
     ]
    }
   ],
   "source": [
    "!blast-2.5.0+\\bin\\blastx \\\n",
    "-query contigs.fasta.transdecoder.pep/contigs.fasta.transdecoder.pep \\\n",
    "-db uniprot_sprot1 \\\n",
    "-outfmt 6 \\\n",
    "> blastoutput1.txt"
   ]
  },
  {
   "cell_type": "code",
   "execution_count": null,
   "metadata": {
    "collapsed": true
   },
   "outputs": [],
   "source": [
    "!blast-2.5.0+\\bin\\blastx \\\n",
    "-query contigs.fasta.transdecoder.pep/contigs.fasta.transdecoder.pep \\\n",
    "-db uniprot_sprot1 \\\n",
    "-outfmt 6 \\\n",
    "> blastoutput1.txt"
   ]
  }
 ],
 "metadata": {
  "anaconda-cloud": {},
  "kernelspec": {
   "display_name": "Python [default]",
   "language": "python",
   "name": "python3"
  },
  "language_info": {
   "codemirror_mode": {
    "name": "ipython",
    "version": 3
   },
   "file_extension": ".py",
   "mimetype": "text/x-python",
   "name": "python",
   "nbconvert_exporter": "python",
   "pygments_lexer": "ipython3",
   "version": "3.5.2"
  }
 },
 "nbformat": 4,
 "nbformat_minor": 1
}
