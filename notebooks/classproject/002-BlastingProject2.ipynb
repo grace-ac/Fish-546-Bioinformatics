{
 "cells": [
  {
   "cell_type": "code",
   "execution_count": 1,
   "metadata": {
    "collapsed": false
   },
   "outputs": [
    {
     "data": {
      "text/plain": [
       "'C:\\\\Users\\\\rhondae\\\\01-Class-project'"
      ]
     },
     "execution_count": 1,
     "metadata": {},
     "output_type": "execute_result"
    }
   ],
   "source": [
    "pwd"
   ]
  },
  {
   "cell_type": "code",
   "execution_count": 2,
   "metadata": {
    "collapsed": false
   },
   "outputs": [
    {
     "name": "stdout",
     "output_type": "stream",
     "text": [
      "C:\\Users\\rhondae\\Documents\\UW_Fall_2016\\Bioinformatics\\data\\classproject\n"
     ]
    }
   ],
   "source": [
    "cd C:/Users/rhondae/Documents/UW_Fall_2016/Bioinformatics/data/classproject"
   ]
  },
  {
   "cell_type": "code",
   "execution_count": 4,
   "metadata": {
    "collapsed": false
   },
   "outputs": [
    {
     "name": "stdout",
     "output_type": "stream",
     "text": [
      "CHOYP_contig_055775|m.66401\tsp|Q9BV29|CO057_HUMAN\t43.636\t55\t30\t1\t6\t60\t63\t116\t5.84e-006\t46.6\n",
      "CHOYP_contig_055866|m.66480\tsp|Q14162|SREC_HUMAN\t37.079\t89\t54\t2\t31\t119\t252\t338\t6.64e-012\t67.0\n",
      "CHOYP_contig_056008|m.66602\tsp|P51958|CDK1_CARAU\t79.333\t300\t62\t0\t1\t300\t1\t300\t0.0\t511\n",
      "CHOYP_contig_056066|m.66649\tsp|E1BGN7|CGAS_BOVIN\t43.750\t48\t27\t0\t36\t83\t174\t221\t8.06e-006\t48.1\n",
      "CHOYP_contig_056151|m.66707\tsp|Q96FC7|PHIPL_HUMAN\t32.719\t217\t133\t5\t36\t248\t165\t372\t9.80e-027\t109\n",
      "CHOYP_contig_056232|m.66802\tsp|P01266|THYG_HUMAN\t45.652\t46\t25\t0\t1\t46\t1465\t1510\t2.16e-006\t49.3\n",
      "CHOYP_contig_056248|m.66816\tsp|Q8IDX6|RBP2A_PLAF7\t30.088\t113\t71\t2\t150\t254\t2748\t2860\t5.53e-006\t52.8\n",
      "CHOYP_contig_056307|m.66864\tsp|B2RXR6|ANR44_MOUSE\t41.722\t151\t87\t1\t20\t169\t165\t315\t1.26e-025\t106\n",
      "CHOYP_contig_056314|m.66867\tsp|P33609|DPOLA_MOUSE\t31.667\t120\t70\t5\t7\t126\t120\t227\t2.71e-006\t49.7\n",
      "CHOYP_contig_056432|m.66953\tsp|Q96LR7|CB050_HUMAN\t30.435\t92\t64\t0\t28\t119\t53\t144\t2.10e-013\t65.9\n"
     ]
    }
   ],
   "source": [
    "!tail blastoutput4.txt"
   ]
  },
  {
   "cell_type": "code",
   "execution_count": 6,
   "metadata": {
    "collapsed": false
   },
   "outputs": [
    {
     "name": "stdout",
     "output_type": "stream",
     "text": [
      "26535 blastoutput4.txt\n"
     ]
    }
   ],
   "source": [
    "!wc -l blastoutput4.txt"
   ]
  },
  {
   "cell_type": "code",
   "execution_count": 10,
   "metadata": {
    "collapsed": false
   },
   "outputs": [
    {
     "name": "stderr",
     "output_type": "stream",
     "text": [
      "sed: -e expression #1, char 2: unterminated `s' command\n",
      "The network path was not found.\n"
     ]
    }
   ],
   "source": [
    "!cat blastoutput4.txt | sed 's/|/\\t/g' > blastoutput5.txt"
   ]
  },
  {
   "cell_type": "code",
   "execution_count": 11,
   "metadata": {
    "collapsed": false
   },
   "outputs": [
    {
     "name": "stderr",
     "output_type": "stream",
     "text": [
      "''' is not recognized as an internal or external command,\n",
      "operable program or batch file.\n"
     ]
    }
   ],
   "source": [
    "!tr '|' \"\\t\" <blastoutput4.txt> blastouput5.txt"
   ]
  }
 ],
 "metadata": {
  "anaconda-cloud": {},
  "kernelspec": {
   "display_name": "Python [default]",
   "language": "python",
   "name": "python3"
  },
  "language_info": {
   "codemirror_mode": {
    "name": "ipython",
    "version": 3
   },
   "file_extension": ".py",
   "mimetype": "text/x-python",
   "name": "python",
   "nbconvert_exporter": "python",
   "pygments_lexer": "ipython3",
   "version": "3.5.2"
  }
 },
 "nbformat": 4,
 "nbformat_minor": 1
}
