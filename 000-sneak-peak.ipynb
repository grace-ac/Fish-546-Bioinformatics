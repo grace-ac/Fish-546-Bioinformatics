{
 "cells": [
  {
   "cell_type": "code",
   "execution_count": 1,
   "metadata": {
    "collapsed": false
   },
   "outputs": [
    {
     "data": {
      "text/plain": [
       "'C:\\\\Users\\\\rhondae\\\\01-Class-project'"
      ]
     },
     "execution_count": 1,
     "metadata": {},
     "output_type": "execute_result"
    }
   ],
   "source": [
    "pwd"
   ]
  },
  {
   "cell_type": "code",
   "execution_count": 2,
   "metadata": {
    "collapsed": false
   },
   "outputs": [
    {
     "name": "stdout",
     "output_type": "stream",
     "text": [
      "C:\\Users\\rhondae\\Documents\\UW_Fall_2016\\Bioinformatics\\contigs.fasta.transdecoder.pep\n"
     ]
    }
   ],
   "source": [
    "cd C:\\\\Users\\\\rhondae\\\\Documents\\\\UW_Fall_2016\\\\Bioinformatics\\\\contigs.fasta.transdecoder.pep"
   ]
  },
  {
   "cell_type": "markdown",
   "metadata": {},
   "source": [
    "This Pacific oyster (_Crassostrea gigas_) dataset is from [Gigaton](http://gigaton.sigenae.org/ngspipelines/#!/NGSpipelines/Crassostrea gigas - GIGATON). It was downloaded 10/13/2016 at 5:16PM"
   ]
  },
  {
   "cell_type": "code",
   "execution_count": 5,
   "metadata": {
    "collapsed": false
   },
   "outputs": [
    {
     "name": "stdout",
     "output_type": "stream",
     "text": [
      ">CHOYP_043R.1.5|m.16874 CHOYP_043R.1.5|g.16874  ORF CHOYP_043R.1.5|g.16874 CHOYP_043R.1.5|m.16874 type:internal len:199 (-) CHOYP_043R.1.5:1-594(-)\n",
      "TPSGPTPSGPTPSVTPTPSGPTPSVTPTPSGSTPSGPTPSVTPTPSGPTPSGPTPSVTPT\n",
      "PSGPTPSVTPTPSVPTPSGPTPSVTPTPSGPTPSVTPTPSGPTPSGPTPSVTPTPSGPTP\n",
      "SGPTPSVTPTPSVTPTPSGPTPSVTSTPSAPTPSGPTPSGPTPSVTPTPSGPTPSGPTPS\n",
      "VTPTPSGPTPSVTPTPSG\n",
      ">CHOYP_043R.5.5|m.64252 CHOYP_043R.5.5|g.64252  ORF CHOYP_043R.5.5|g.64252 CHOYP_043R.5.5|m.64252 type:internal len:821 (+) CHOYP_043R.5.5:2-2461(+)\n",
      "SRPTPSVTPTPSGPTPSVTPTPSVSTPSGPTPSVTPTPSGPSPSVTPTPSGPSPSGPTPS\n",
      "ATPTPSGPTPSGTTPSGSTPSATITTISTPSTTVCSYVDIGPEQAIDVSLRSPSEDPDAP\n",
      "IENILQTNSVYKPKKEPTYDENVVVKIISQDTPTILRVSFTVNRADTVGLEYLTDYKQKI\n",
      "ITQNNETVEFVFAAGIITDNFTINIRSDSAEQPEISNLKIRACYKPVIGQPSTTTPNPSI\n"
     ]
    }
   ],
   "source": [
    "!head contigs.fasta.transdecoder.pep"
   ]
  },
  {
   "cell_type": "markdown",
   "metadata": {
    "collapsed": true
   },
   "source": [
    "I entered these protein sequences into NCBI Blastp to get an idea of what I was looking at. Appears these two proteins listed above are associated with nacre (inner shell layer) production in bivalves. Very cool!"
   ]
  }
 ],
 "metadata": {
  "anaconda-cloud": {},
  "kernelspec": {
   "display_name": "Python [default]",
   "language": "python",
   "name": "python3"
  },
  "language_info": {
   "codemirror_mode": {
    "name": "ipython",
    "version": 3
   },
   "file_extension": ".py",
   "mimetype": "text/x-python",
   "name": "python",
   "nbconvert_exporter": "python",
   "pygments_lexer": "ipython3",
   "version": "3.5.2"
  }
 },
 "nbformat": 4,
 "nbformat_minor": 1
}
