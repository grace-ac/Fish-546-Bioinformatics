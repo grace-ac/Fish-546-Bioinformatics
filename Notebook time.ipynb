{
 "cells": [
  {
   "cell_type": "code",
   "execution_count": 1,
   "metadata": {
    "collapsed": false
   },
   "outputs": [
    {
     "name": "stdout",
     "output_type": "stream",
     "text": [
      " Volume in drive C is TI106401W0D\n",
      " Volume Serial Number is D00E-CD8F\n",
      "\n",
      " Directory of C:\\Users\\rhondae\\Documents\n",
      "\n",
      "10/06/2016  08:14 PM    <DIR>          .\n",
      "10/06/2016  08:14 PM    <DIR>          ..\n",
      "10/06/2016  08:14 PM    <DIR>          .ipynb_checkpoints\n",
      "10/01/2016  08:50 PM             4,375 .RData\n",
      "10/01/2016  08:50 PM             1,938 .Rhistory\n",
      "08/13/2014  09:30 AM            43,796 BuckhamThesisProposal.docx\n",
      "01/23/2015  04:27 PM         3,997,967 CO2Manual.doc.docx\n",
      "03/27/2015  09:39 AM    <DIR>          Custom Office Templates\n",
      "10/06/2016  11:01 AM             2,871 First notebook.ipynb\n",
      "10/06/2016  10:48 AM    <DIR>          GitHub\n",
      "11/19/2014  11:36 AM         1,735,203 HalesBurkeCEOASPacificOysterCrassostrea.pdf\n",
      "07/14/2016  10:27 AM         9,819,136 May 2012 - Deep.xls\n",
      "10/06/2016  03:45 PM    <DIR>          Outlook Files\n",
      "10/29/2015  11:40 AM    <DIR>          Padilla Bay Presentation\n",
      "01/23/2015  04:28 PM            10,485 ProtocolformeasuringpH_7.20.14.docx.docx\n",
      "10/02/2016  09:20 PM    <DIR>          Python Scripts\n",
      "07/16/2014  03:56 PM    <DIR>          R\n",
      "01/23/2015  04:25 PM            10,028 TitrationMethods5_15_14.docx.docx\n",
      "10/06/2016  08:14 PM                72 Untitled.ipynb\n",
      "              10 File(s)     15,625,871 bytes\n",
      "               9 Dir(s)  463,809,806,336 bytes free\n"
     ]
    }
   ],
   "source": [
    "ls"
   ]
  },
  {
   "cell_type": "code",
   "execution_count": 2,
   "metadata": {
    "collapsed": false
   },
   "outputs": [
    {
     "data": {
      "text/plain": [
       "'C:\\\\Users\\\\rhondae\\\\Documents'"
      ]
     },
     "execution_count": 2,
     "metadata": {},
     "output_type": "execute_result"
    }
   ],
   "source": [
    "pwd"
   ]
  },
  {
   "cell_type": "code",
   "execution_count": 3,
   "metadata": {
    "collapsed": false
   },
   "outputs": [
    {
     "name": "stdout",
     "output_type": "stream",
     "text": [
      "[WinError 3] The system cannot find the path specified: '\\\\c\\\\users\\\\rhondae\\\\documents'\n",
      "C:\\Users\\rhondae\\Documents\n"
     ]
    }
   ],
   "source": [
    "cd \\c\\users\\rhondae\\documents"
   ]
  },
  {
   "cell_type": "code",
   "execution_count": 4,
   "metadata": {
    "collapsed": false
   },
   "outputs": [
    {
     "name": "stdout",
     "output_type": "stream",
     "text": [
      "[WinError 123] The filename, directory name, or volume label syntax is incorrect: \"'C:\\\\\\\\Users\\\\\\\\rhondae\\\\\\\\Documents'\"\n",
      "C:\\Users\\rhondae\\Documents\n"
     ]
    }
   ],
   "source": [
    "cd 'C:\\\\Users\\\\rhondae\\\\Documents'"
   ]
  },
  {
   "cell_type": "code",
   "execution_count": 5,
   "metadata": {
    "collapsed": false
   },
   "outputs": [
    {
     "name": "stdout",
     "output_type": "stream",
     "text": [
      "[WinError 2] The system cannot find the file specified: 'documents'\n",
      "C:\\Users\\rhondae\\Documents\n"
     ]
    }
   ],
   "source": [
    "cd documents"
   ]
  },
  {
   "cell_type": "code",
   "execution_count": 6,
   "metadata": {
    "collapsed": false
   },
   "outputs": [
    {
     "name": "stdout",
     "output_type": "stream",
     "text": [
      "C:\\Users\\rhondae\n"
     ]
    }
   ],
   "source": [
    "cd .."
   ]
  },
  {
   "cell_type": "code",
   "execution_count": 8,
   "metadata": {
    "collapsed": false
   },
   "outputs": [
    {
     "name": "stdout",
     "output_type": "stream",
     "text": [
      "C:\\Users\\rhondae\\Documents\n"
     ]
    }
   ],
   "source": [
    "cd C:\\Users\\rhondae\\Documents\n"
   ]
  },
  {
   "cell_type": "code",
   "execution_count": 9,
   "metadata": {
    "collapsed": false
   },
   "outputs": [
    {
     "name": "stdout",
     "output_type": "stream",
     "text": [
      "C:\\Users\\rhondae\\Desktop\n"
     ]
    }
   ],
   "source": [
    "cd C:\\Users\\rhondae\\Desktop"
   ]
  },
  {
   "cell_type": "code",
   "execution_count": 15,
   "metadata": {
    "collapsed": false
   },
   "outputs": [],
   "source": [
    "mkdir blah"
   ]
  },
  {
   "cell_type": "code",
   "execution_count": null,
   "metadata": {
    "collapsed": true
   },
   "outputs": [],
   "source": []
  }
 ],
 "metadata": {
  "anaconda-cloud": {},
  "kernelspec": {
   "display_name": "Python [default]",
   "language": "python",
   "name": "python3"
  },
  "language_info": {
   "codemirror_mode": {
    "name": "ipython",
    "version": 3
   },
   "file_extension": ".py",
   "mimetype": "text/x-python",
   "name": "python",
   "nbconvert_exporter": "python",
   "pygments_lexer": "ipython3",
   "version": "3.5.2"
  }
 },
 "nbformat": 4,
 "nbformat_minor": 1
}
